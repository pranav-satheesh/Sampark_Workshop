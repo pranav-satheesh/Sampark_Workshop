{
 "cells": [
  {
   "cell_type": "markdown",
   "metadata": {},
   "source": [
    "# Exercises to Python Lecture 4\n",
    "\n",
    "Solutions will be available at https://bitbucket.org/hypercott/python-yitp/ .\n"
   ]
  },
  {
   "cell_type": "markdown",
   "metadata": {},
   "source": [
    "## Exercise 4.1 -- Making a plot with 3 panels.\n",
    "\n",
    "\n",
    "Use the by now well known data in the ```bbh_gw.dat``` to make a beautiful three panel plot. The top panel should show $h_+$, the center panel $h_\\times$, and the bottom panel should show the amplitude $A = \\sqrt{h_+^2 + h_\\times^2}$. All as a function of time. Label everything nicely, use good axis ranges. Also annotate the time of merger (defined as the time of maximum amplitude) in all three panels with a thick dashed line.\n",
    "\n",
    "Save the result as a PDF file, download it, and check that there is not too little or too much white space around the final PDF result.\n",
    "\n"
   ]
  },
  {
   "cell_type": "code",
   "execution_count": null,
   "metadata": {
    "collapsed": true
   },
   "outputs": [],
   "source": []
  },
  {
   "cell_type": "markdown",
   "metadata": {},
   "source": [
    "## Exercise 4.2 -- Interpolation\n",
    "\n",
    "Given the following data points\n",
    "\n",
    "$$\\begin{array}{c|cccc}\n",
    "x & -2 &-1 & 0 & 1 & 2\\\\\n",
    "y & 29 & 7 & 5 & 5 & 13\n",
    "\\end{array}$$\n",
    "\n",
    "make ```NumPy``` arrays from the data. Make a rough plot with dots '.' and adjust the axis limits so that its easy to see all points. Make a new array with 100 points in [-2,2] and interpolate the data to these points. Try different interpolation functions to see what gives the best results.\n"
   ]
  },
  {
   "cell_type": "code",
   "execution_count": null,
   "metadata": {
    "collapsed": true
   },
   "outputs": [],
   "source": []
  },
  {
   "cell_type": "markdown",
   "metadata": {},
   "source": [
    "## Exercise 4.3 -- Curve Fitting\n",
    "\n",
    "Read the data in the provided file ```fitdata.txt```. Make a rough plot to see how they look like. Make sure to use dots as plotting symbols (\".\"). Adjust the plot ranges appropriately. Then fit the data with a sine wave. What are the best-fitting wave parameters?"
   ]
  },
  {
   "cell_type": "code",
   "execution_count": null,
   "metadata": {
    "collapsed": true
   },
   "outputs": [],
   "source": []
  }
 ],
 "metadata": {
  "kernelspec": {
   "display_name": "Python 3",
   "language": "python",
   "name": "python3"
  },
  "language_info": {
   "codemirror_mode": {
    "name": "ipython",
    "version": 3
   },
   "file_extension": ".py",
   "mimetype": "text/x-python",
   "name": "python",
   "nbconvert_exporter": "python",
   "pygments_lexer": "ipython3",
   "version": "3.7.3"
  }
 },
 "nbformat": 4,
 "nbformat_minor": 1
}
