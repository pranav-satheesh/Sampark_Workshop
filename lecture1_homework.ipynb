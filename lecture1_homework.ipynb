{
 "cells": [
  {
   "cell_type": "markdown",
   "metadata": {},
   "source": [
    "# Exercises to Python Party Lecture I\n",
    "These exercises here are motivated by and in part taken from H. P. Langtangen's exercises."
   ]
  },
  {
   "cell_type": "markdown",
   "metadata": {},
   "source": [
    "## Exercise I.1 -- Program a formula in a function\n",
    "Write code that creates a function that calculates the formula\n",
    "\n",
    "$$y = 6 x^2 + 3 x + 2$$\n",
    "\n",
    "and that returns y. Call it with $x=2$ and have your program print out the result."
   ]
  },
  {
   "cell_type": "code",
   "execution_count": null,
   "metadata": {
    "collapsed": true
   },
   "outputs": [],
   "source": []
  },
  {
   "cell_type": "markdown",
   "metadata": {},
   "source": [
    "## Exercise I.2 -- Combine text and numbers in output\n",
    "Let $y=x^2$. Write a program that outputs\n",
    "\n",
    "```y(2.550)=6.502```\n",
    "\n",
    "if $x=2.55$.\n"
   ]
  },
  {
   "cell_type": "code",
   "execution_count": null,
   "metadata": {
    "collapsed": true
   },
   "outputs": [],
   "source": []
  },
  {
   "cell_type": "markdown",
   "metadata": {},
   "source": [
    "## Exercise I.3 -- Program a while loop with an if statement"
   ]
  },
  {
   "cell_type": "markdown",
   "metadata": {},
   "source": [
    "Define a sequence of numbers\n",
    "\n",
    "$$x_n = n^2 + 1\\,.$$\n",
    "\n",
    "First write a Python function (using ```def```) that returns $x_n(n)$. Then write a while loop that calls the function and prints out $x_n$ for $n = 1, 2, ..., 20$ with the exception of the case of $n = 14$. If $n = 14$, have it print ```\"no output, sorry\"```.\n"
   ]
  },
  {
   "cell_type": "code",
   "execution_count": null,
   "metadata": {
    "collapsed": true
   },
   "outputs": [],
   "source": []
  },
  {
   "cell_type": "markdown",
   "metadata": {},
   "source": [
    "## Exercise I.4 -- Create a list with a while loop\n",
    "Store all the $x_n$ values computed in Exercise I.3 in a list within the while loop. Print the entire list (as one object) once the loop is done."
   ]
  },
  {
   "cell_type": "code",
   "execution_count": null,
   "metadata": {
    "collapsed": true
   },
   "outputs": [],
   "source": []
  },
  {
   "cell_type": "markdown",
   "metadata": {},
   "source": [
    "## Exercise I.5 -- Use a for loop\n",
    "Repeat exercise I.4, but this time use a ```for``` loop."
   ]
  },
  {
   "cell_type": "code",
   "execution_count": null,
   "metadata": {
    "collapsed": true
   },
   "outputs": [],
   "source": []
  },
  {
   "cell_type": "markdown",
   "metadata": {},
   "source": [
    "## Exercise I.6 -- Return three values from a Python function\n",
    "\n",
    "Write a Python function that computes and returns:\n",
    "\n",
    "$$f(x) = \\cos(2x)$$\n",
    "$$f'(x) = -2 \\sin(2x)$$\n",
    "$$f''(x) = -4 \\cos(2x)$$\n",
    "\n",
    "Write out the results for $x = \\pi$. Note that you'll get $\\pi$ to double precision with ```math.pi```, so you'll need to import ```math```.\n"
   ]
  },
  {
   "cell_type": "code",
   "execution_count": null,
   "metadata": {
    "collapsed": false
   },
   "outputs": [],
   "source": []
  },
  {
   "cell_type": "code",
   "execution_count": null,
   "metadata": {
    "collapsed": true
   },
   "outputs": [],
   "source": []
  }
 ],
 "metadata": {
  "kernelspec": {
   "display_name": "Python 3",
   "language": "python",
   "name": "python3"
  },
  "language_info": {
   "codemirror_mode": {
    "name": "ipython",
    "version": 3
   },
   "file_extension": ".py",
   "mimetype": "text/x-python",
   "name": "python",
   "nbconvert_exporter": "python",
   "pygments_lexer": "ipython3",
   "version": "3.5.2"
  }
 },
 "nbformat": 4,
 "nbformat_minor": 1
}
