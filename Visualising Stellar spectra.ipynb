{
 "cells": [
  {
   "cell_type": "markdown",
   "metadata": {},
   "source": [
    "# Astropy.Modelling"
   ]
  },
  {
   "cell_type": "code",
   "execution_count": 2,
   "metadata": {},
   "outputs": [
    {
     "name": "stdout",
     "output_type": "stream",
     "text": [
      "Collecting astroquery\n",
      "\u001b[?25l  Downloading https://files.pythonhosted.org/packages/2e/c6/5a4c3831a8f8fe5714118e49506efd5a52ec2a58bee85f1a70b289f90d88/astroquery-0.4.dev5750.tar.gz (4.5MB)\n",
      "\u001b[K    100% |████████████████████████████████| 4.5MB 2.1MB/s eta 0:00:01\n",
      "\u001b[?25hRequirement already satisfied: astropy>=2.0 in /home/pranav/anaconda3/lib/python3.7/site-packages (from astroquery) (3.1.2)\n",
      "Requirement already satisfied: requests>=2.4.3 in /home/pranav/anaconda3/lib/python3.7/site-packages (from astroquery) (2.21.0)\n",
      "Requirement already satisfied: keyring>=4.0 in /home/pranav/anaconda3/lib/python3.7/site-packages (from astroquery) (18.0.0)\n",
      "Requirement already satisfied: beautifulsoup4>=4.3.2 in /home/pranav/anaconda3/lib/python3.7/site-packages (from astroquery) (4.7.1)\n",
      "Requirement already satisfied: html5lib>=0.999 in /home/pranav/anaconda3/lib/python3.7/site-packages (from astroquery) (1.0.1)\n",
      "Requirement already satisfied: six in /home/pranav/anaconda3/lib/python3.7/site-packages (from astroquery) (1.12.0)\n",
      "Requirement already satisfied: numpy>=1.13.0 in /home/pranav/anaconda3/lib/python3.7/site-packages (from astropy>=2.0->astroquery) (1.16.2)\n",
      "Requirement already satisfied: urllib3<1.25,>=1.21.1 in /home/pranav/anaconda3/lib/python3.7/site-packages (from requests>=2.4.3->astroquery) (1.24.1)\n",
      "Requirement already satisfied: chardet<3.1.0,>=3.0.2 in /home/pranav/anaconda3/lib/python3.7/site-packages (from requests>=2.4.3->astroquery) (3.0.4)\n",
      "Requirement already satisfied: certifi>=2017.4.17 in /home/pranav/anaconda3/lib/python3.7/site-packages (from requests>=2.4.3->astroquery) (2019.9.11)\n",
      "Requirement already satisfied: idna<2.9,>=2.5 in /home/pranav/anaconda3/lib/python3.7/site-packages (from requests>=2.4.3->astroquery) (2.8)\n",
      "Requirement already satisfied: entrypoints in /home/pranav/anaconda3/lib/python3.7/site-packages (from keyring>=4.0->astroquery) (0.3)\n",
      "Requirement already satisfied: secretstorage; sys_platform == \"linux\" and python_version >= \"3.5\" in /home/pranav/anaconda3/lib/python3.7/site-packages (from keyring>=4.0->astroquery) (3.1.1)\n",
      "Requirement already satisfied: soupsieve>=1.2 in /home/pranav/anaconda3/lib/python3.7/site-packages (from beautifulsoup4>=4.3.2->astroquery) (1.8)\n",
      "Requirement already satisfied: webencodings in /home/pranav/anaconda3/lib/python3.7/site-packages (from html5lib>=0.999->astroquery) (0.5.1)\n",
      "Requirement already satisfied: cryptography in /home/pranav/anaconda3/lib/python3.7/site-packages (from secretstorage; sys_platform == \"linux\" and python_version >= \"3.5\"->keyring>=4.0->astroquery) (2.6.1)\n",
      "Requirement already satisfied: jeepney in /home/pranav/anaconda3/lib/python3.7/site-packages (from secretstorage; sys_platform == \"linux\" and python_version >= \"3.5\"->keyring>=4.0->astroquery) (0.4)\n",
      "Requirement already satisfied: asn1crypto>=0.21.0 in /home/pranav/anaconda3/lib/python3.7/site-packages (from cryptography->secretstorage; sys_platform == \"linux\" and python_version >= \"3.5\"->keyring>=4.0->astroquery) (0.24.0)\n",
      "Requirement already satisfied: cffi!=1.11.3,>=1.8 in /home/pranav/anaconda3/lib/python3.7/site-packages (from cryptography->secretstorage; sys_platform == \"linux\" and python_version >= \"3.5\"->keyring>=4.0->astroquery) (1.12.2)\n",
      "Requirement already satisfied: pycparser in /home/pranav/anaconda3/lib/python3.7/site-packages (from cffi!=1.11.3,>=1.8->cryptography->secretstorage; sys_platform == \"linux\" and python_version >= \"3.5\"->keyring>=4.0->astroquery) (2.19)\n",
      "Building wheels for collected packages: astroquery\n",
      "  Building wheel for astroquery (setup.py) ... \u001b[?25ldone\n",
      "\u001b[?25h  Stored in directory: /home/pranav/.cache/pip/wheels/27/60/eb/678794ad1072bd63df6d9789e75937f07afeea75fa1d26c8e6\n",
      "Successfully built astroquery\n",
      "Installing collected packages: astroquery\n",
      "Successfully installed astroquery-0.4.dev0\n",
      "Note: you may need to restart the kernel to use updated packages.\n"
     ]
    }
   ],
   "source": [
    "pip install --pre astroquery"
   ]
  },
  {
   "cell_type": "code",
   "execution_count": 3,
   "metadata": {},
   "outputs": [],
   "source": [
    "import numpy as np\n",
    "import matplotlib.pyplot as plt\n",
    "from astropy.modeling import models, fitting\n",
    "from astroquery.vizier import Vizier\n",
    "import scipy.optimize\n",
    "# Make plots display in notebooks\n",
    "%matplotlib inline"
   ]
  },
  {
   "cell_type": "markdown",
   "metadata": {},
   "source": [
    "# 1) Fit a Linear model: Three steps to fit data using astropy.modeling\n",
    "\n",
    "We are going to start with a linear fit to real data. The data comes from the paper Bhardwaj et al. 2017. This is a catalog of Type II Cepheids, which is a type of variable stars that pulsate with a period between 1 and 50 days. In this part of the tutorial, we are going to measure the Cepheids Period-Luminosity relation using astropy.modeling. This relation states that if a star has a longer period, the luminosity we measure is higher.\n",
    "\n",
    "To get it, we are going to import it from Vizier using astroquery."
   ]
  },
  {
   "cell_type": "code",
   "execution_count": 4,
   "metadata": {},
   "outputs": [],
   "source": [
    "catalog = Vizier.get_catalogs('J/A+A/605/A100')"
   ]
  },
  {
   "cell_type": "markdown",
   "metadata": {},
   "source": [
    "This catalog has a lot of information, but for this tutorial we are going to work only with periods and magnitudes. Let’s grab them using the keywords 'Period' and __Ksmag__. Note that 'e__Ksmag_' refers to the error bars in the magnitude measurements."
   ]
  },
  {
   "cell_type": "code",
   "execution_count": 6,
   "metadata": {},
   "outputs": [],
   "source": [
    "period = np.array(catalog[0]['Period'])\n",
    "log_period = np.log10(period)\n",
    "k_mag = np.array(catalog[0]['__Ksmag_'])\n",
    "k_mag_err = np.array(catalog[0]['e__Ksmag_'])"
   ]
  },
  {
   "cell_type": "code",
   "execution_count": 7,
   "metadata": {},
   "outputs": [
    {
     "data": {
      "text/plain": [
       "Text(0, 0.5, 'Ks')"
      ]
     },
     "execution_count": 7,
     "metadata": {},
     "output_type": "execute_result"
    },
    {
     "data": {
      "image/png": "[encoded data removed]",
      "text/plain": [
       "<Figure size 432x288 with 1 Axes>"
      ]
     },
     "metadata": {
      "needs_background": "light"
     },
     "output_type": "display_data"
    }
   ],
   "source": [
    "plt.errorbar(log_period, k_mag, k_mag_err, fmt='k.')\n",
    "plt.xlabel(r'$\\log_{10}$(Period [days])')\n",
    "plt.ylabel('Ks')"
   ]
  },
  {
   "cell_type": "markdown",
   "metadata": {},
   "source": [
    "One could say that there is a linear relationship between log period and magnitudes. To probe it, we want to make a fit to the data. This is where astropy.modeling is useful. We are going to understand how in three simple lines we can make any fit we want. We are going to start with the linear fit, but first, let’s understand what a model and a fitter are."
   ]
  },
  {
   "cell_type": "markdown",
   "metadata": {},
   "source": [
    "## Models in Astropy\n",
    "Models in Astropy are known parametrized functions. With this format they are easy to define and to use, given that we do not need to write the function expression every time we want to use a model, just the name. They can be linear or non-linear in the variables. Some examples of models are:\n",
    "\n",
    "Gaussian1D\n",
    "\n",
    "Trapezoid1D\n",
    "\n",
    "Polynomial1D\n",
    "\n",
    "Sine1D\n",
    "\n",
    "Linear1D\n",
    "\n",
    "The list continues.\n",
    "\n",
    "## Fitters in Astropy\n",
    "Fitters in Astropy are the classes resposable for making the fit. They can be linear or non-linear in the parameters (no the variable, like models). Some examples are:\n",
    "\n",
    "LevMarLSQFitter() Levenberg-Marquardt algorithm and least squares statistic.\n",
    "\n",
    "LinearLSQFitter() A class performing a linear least square fitting.\n",
    "\n",
    "SLSQPLSQFitter() SLSQP optimization algorithm and least squares statistic.\n",
    "\n",
    "SimplexLSQFitter() Simplex algorithm and least squares statistic.\n",
    "\n",
    "More detailles here\n",
    "\n",
    "Now we continue with our fitting.\n",
    "\n",
    "## Step 1: Model\n",
    "First we need to choose which model we are going to use to fit to our data. As we said before, our data looks like a linear relation, so we are going to use a linear model."
   ]
  },
  {
   "cell_type": "code",
   "execution_count": 8,
   "metadata": {},
   "outputs": [],
   "source": [
    "model = models.Linear1D()"
   ]
  },
  {
   "cell_type": "code",
   "execution_count": null,
   "metadata": {},
   "outputs": [],
   "source": []
  }
 ],
 "metadata": {
  "kernelspec": {
   "display_name": "Python 3",
   "language": "python",
   "name": "python3"
  },
  "language_info": {
   "codemirror_mode": {
    "name": "ipython",
    "version": 3
   },
   "file_extension": ".py",
   "mimetype": "text/x-python",
   "name": "python",
   "nbconvert_exporter": "python",
   "pygments_lexer": "ipython3",
   "version": "3.7.3"
  }
 },
 "nbformat": 4,
 "nbformat_minor": 2
}
