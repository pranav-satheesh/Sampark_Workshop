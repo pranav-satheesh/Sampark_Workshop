{
 "cells": [
  {
   "cell_type": "markdown",
   "metadata": {},
   "source": [
    "# Scientific Computing with Python\n",
    "## Lecture 2: Introduction to numpy and matplotlib\n",
    "---\n",
    "\n",
    "\n",
    "\n",
    "\n",
    "\n",
    "\n",
    "\n",
    "![My laptop rn](https://imgs.xkcd.com/comics/python_environment.png)"
   ]
  },
  {
   "cell_type": "markdown",
   "metadata": {},
   "source": [
    "## 2.1 But First: A brief review from last lecture"
   ]
  },
  {
   "cell_type": "markdown",
   "metadata": {},
   "source": [
    "### Importing Modules"
   ]
  },
  {
   "cell_type": "code",
   "execution_count": 1,
   "metadata": {},
   "outputs": [],
   "source": [
    "import numpy as np"
   ]
  },
  {
   "cell_type": "code",
   "execution_count": 2,
   "metadata": {},
   "outputs": [
    {
     "data": {
      "text/plain": [
       "['ALLOW_THREADS',\n",
       " 'AxisError',\n",
       " 'BUFSIZE',\n",
       " 'CLIP',\n",
       " 'ComplexWarning',\n",
       " 'DataSource',\n",
       " 'ERR_CALL',\n",
       " 'ERR_DEFAULT',\n",
       " 'ERR_IGNORE',\n",
       " 'ERR_LOG',\n",
       " 'ERR_PRINT',\n",
       " 'ERR_RAISE',\n",
       " 'ERR_WARN',\n",
       " 'FLOATING_POINT_SUPPORT',\n",
       " 'FPE_DIVIDEBYZERO',\n",
       " 'FPE_INVALID',\n",
       " 'FPE_OVERFLOW',\n",
       " 'FPE_UNDERFLOW',\n",
       " 'False_',\n",
       " 'Inf',\n",
       " 'Infinity',\n",
       " 'MAXDIMS',\n",
       " 'MAY_SHARE_BOUNDS',\n",
       " 'MAY_SHARE_EXACT',\n",
       " 'MachAr',\n",
       " 'ModuleDeprecationWarning',\n",
       " 'NAN',\n",
       " 'NINF',\n",
       " 'NZERO',\n",
       " 'NaN',\n",
       " 'PINF',\n",
       " 'PZERO',\n",
       " 'RAISE',\n",
       " 'RankWarning',\n",
       " 'SHIFT_DIVIDEBYZERO',\n",
       " 'SHIFT_INVALID',\n",
       " 'SHIFT_OVERFLOW',\n",
       " 'SHIFT_UNDERFLOW',\n",
       " 'ScalarType',\n",
       " 'Tester',\n",
       " 'TooHardError',\n",
       " 'True_',\n",
       " 'UFUNC_BUFSIZE_DEFAULT',\n",
       " 'UFUNC_PYVALS_NAME',\n",
       " 'VisibleDeprecationWarning',\n",
       " 'WRAP',\n",
       " '_NoValue',\n",
       " '_UFUNC_API',\n",
       " '__NUMPY_SETUP__',\n",
       " '__all__',\n",
       " '__builtins__',\n",
       " '__cached__',\n",
       " '__config__',\n",
       " '__doc__',\n",
       " '__file__',\n",
       " '__git_revision__',\n",
       " '__loader__',\n",
       " '__mkl_version__',\n",
       " '__name__',\n",
       " '__package__',\n",
       " '__path__',\n",
       " '__spec__',\n",
       " '__version__',\n",
       " '_add_newdoc_ufunc',\n",
       " '_arg',\n",
       " '_distributor_init',\n",
       " '_globals',\n",
       " '_mat',\n",
       " '_mklinit',\n",
       " '_pytesttester',\n",
       " 'abs',\n",
       " 'absolute',\n",
       " 'absolute_import',\n",
       " 'add',\n",
       " 'add_docstring',\n",
       " 'add_newdoc',\n",
       " 'add_newdoc_ufunc',\n",
       " 'alen',\n",
       " 'all',\n",
       " 'allclose',\n",
       " 'alltrue',\n",
       " 'amax',\n",
       " 'amin',\n",
       " 'angle',\n",
       " 'any',\n",
       " 'append',\n",
       " 'apply_along_axis',\n",
       " 'apply_over_axes',\n",
       " 'arange',\n",
       " 'arccos',\n",
       " 'arccosh',\n",
       " 'arcsin',\n",
       " 'arcsinh',\n",
       " 'arctan',\n",
       " 'arctan2',\n",
       " 'arctanh',\n",
       " 'argmax',\n",
       " 'argmin',\n",
       " 'argpartition',\n",
       " 'argsort',\n",
       " 'argwhere',\n",
       " 'around',\n",
       " 'array',\n",
       " 'array2string',\n",
       " 'array_equal',\n",
       " 'array_equiv',\n",
       " 'array_repr',\n",
       " 'array_split',\n",
       " 'array_str',\n",
       " 'asanyarray',\n",
       " 'asarray',\n",
       " 'asarray_chkfinite',\n",
       " 'ascontiguousarray',\n",
       " 'asfarray',\n",
       " 'asfortranarray',\n",
       " 'asmatrix',\n",
       " 'asscalar',\n",
       " 'atleast_1d',\n",
       " 'atleast_2d',\n",
       " 'atleast_3d',\n",
       " 'average',\n",
       " 'bartlett',\n",
       " 'base_repr',\n",
       " 'binary_repr',\n",
       " 'bincount',\n",
       " 'bitwise_and',\n",
       " 'bitwise_not',\n",
       " 'bitwise_or',\n",
       " 'bitwise_xor',\n",
       " 'blackman',\n",
       " 'block',\n",
       " 'bmat',\n",
       " 'bool',\n",
       " 'bool8',\n",
       " 'bool_',\n",
       " 'broadcast',\n",
       " 'broadcast_arrays',\n",
       " 'broadcast_to',\n",
       " 'busday_count',\n",
       " 'busday_offset',\n",
       " 'busdaycalendar',\n",
       " 'byte',\n",
       " 'byte_bounds',\n",
       " 'bytes0',\n",
       " 'bytes_',\n",
       " 'c_',\n",
       " 'can_cast',\n",
       " 'cast',\n",
       " 'cbrt',\n",
       " 'cdouble',\n",
       " 'ceil',\n",
       " 'cfloat',\n",
       " 'char',\n",
       " 'character',\n",
       " 'chararray',\n",
       " 'choose',\n",
       " 'clip',\n",
       " 'clongdouble',\n",
       " 'clongfloat',\n",
       " 'column_stack',\n",
       " 'common_type',\n",
       " 'compare_chararrays',\n",
       " 'compat',\n",
       " 'complex',\n",
       " 'complex128',\n",
       " 'complex256',\n",
       " 'complex64',\n",
       " 'complex_',\n",
       " 'complexfloating',\n",
       " 'compress',\n",
       " 'concatenate',\n",
       " 'conj',\n",
       " 'conjugate',\n",
       " 'convolve',\n",
       " 'copy',\n",
       " 'copysign',\n",
       " 'copyto',\n",
       " 'core',\n",
       " 'corrcoef',\n",
       " 'correlate',\n",
       " 'cos',\n",
       " 'cosh',\n",
       " 'count_nonzero',\n",
       " 'cov',\n",
       " 'cross',\n",
       " 'csingle',\n",
       " 'ctypeslib',\n",
       " 'cumprod',\n",
       " 'cumproduct',\n",
       " 'cumsum',\n",
       " 'datetime64',\n",
       " 'datetime_as_string',\n",
       " 'datetime_data',\n",
       " 'deg2rad',\n",
       " 'degrees',\n",
       " 'delete',\n",
       " 'deprecate',\n",
       " 'deprecate_with_doc',\n",
       " 'diag',\n",
       " 'diag_indices',\n",
       " 'diag_indices_from',\n",
       " 'diagflat',\n",
       " 'diagonal',\n",
       " 'diff',\n",
       " 'digitize',\n",
       " 'disp',\n",
       " 'divide',\n",
       " 'division',\n",
       " 'divmod',\n",
       " 'dot',\n",
       " 'double',\n",
       " 'dsplit',\n",
       " 'dstack',\n",
       " 'dtype',\n",
       " 'e',\n",
       " 'ediff1d',\n",
       " 'einsum',\n",
       " 'einsum_path',\n",
       " 'emath',\n",
       " 'empty',\n",
       " 'empty_like',\n",
       " 'equal',\n",
       " 'errstate',\n",
       " 'euler_gamma',\n",
       " 'exp',\n",
       " 'exp2',\n",
       " 'expand_dims',\n",
       " 'expm1',\n",
       " 'extract',\n",
       " 'eye',\n",
       " 'fabs',\n",
       " 'fastCopyAndTranspose',\n",
       " 'fft',\n",
       " 'fill_diagonal',\n",
       " 'find_common_type',\n",
       " 'finfo',\n",
       " 'fix',\n",
       " 'flatiter',\n",
       " 'flatnonzero',\n",
       " 'flexible',\n",
       " 'flip',\n",
       " 'fliplr',\n",
       " 'flipud',\n",
       " 'float',\n",
       " 'float128',\n",
       " 'float16',\n",
       " 'float32',\n",
       " 'float64',\n",
       " 'float_',\n",
       " 'float_power',\n",
       " 'floating',\n",
       " 'floor',\n",
       " 'floor_divide',\n",
       " 'fmax',\n",
       " 'fmin',\n",
       " 'fmod',\n",
       " 'format_float_positional',\n",
       " 'format_float_scientific',\n",
       " 'format_parser',\n",
       " 'frexp',\n",
       " 'frombuffer',\n",
       " 'fromfile',\n",
       " 'fromfunction',\n",
       " 'fromiter',\n",
       " 'frompyfunc',\n",
       " 'fromregex',\n",
       " 'fromstring',\n",
       " 'full',\n",
       " 'full_like',\n",
       " 'fv',\n",
       " 'gcd',\n",
       " 'generic',\n",
       " 'genfromtxt',\n",
       " 'geomspace',\n",
       " 'get_array_wrap',\n",
       " 'get_include',\n",
       " 'get_printoptions',\n",
       " 'getbufsize',\n",
       " 'geterr',\n",
       " 'geterrcall',\n",
       " 'geterrobj',\n",
       " 'gradient',\n",
       " 'greater',\n",
       " 'greater_equal',\n",
       " 'half',\n",
       " 'hamming',\n",
       " 'hanning',\n",
       " 'heaviside',\n",
       " 'histogram',\n",
       " 'histogram2d',\n",
       " 'histogram_bin_edges',\n",
       " 'histogramdd',\n",
       " 'hsplit',\n",
       " 'hstack',\n",
       " 'hypot',\n",
       " 'i0',\n",
       " 'identity',\n",
       " 'iinfo',\n",
       " 'imag',\n",
       " 'in1d',\n",
       " 'index_exp',\n",
       " 'indices',\n",
       " 'inexact',\n",
       " 'inf',\n",
       " 'info',\n",
       " 'infty',\n",
       " 'inner',\n",
       " 'insert',\n",
       " 'int',\n",
       " 'int0',\n",
       " 'int16',\n",
       " 'int32',\n",
       " 'int64',\n",
       " 'int8',\n",
       " 'int_',\n",
       " 'int_asbuffer',\n",
       " 'intc',\n",
       " 'integer',\n",
       " 'interp',\n",
       " 'intersect1d',\n",
       " 'intp',\n",
       " 'invert',\n",
       " 'ipmt',\n",
       " 'irr',\n",
       " 'is_busday',\n",
       " 'isclose',\n",
       " 'iscomplex',\n",
       " 'iscomplexobj',\n",
       " 'isfinite',\n",
       " 'isfortran',\n",
       " 'isin',\n",
       " 'isinf',\n",
       " 'isnan',\n",
       " 'isnat',\n",
       " 'isneginf',\n",
       " 'isposinf',\n",
       " 'isreal',\n",
       " 'isrealobj',\n",
       " 'isscalar',\n",
       " 'issctype',\n",
       " 'issubclass_',\n",
       " 'issubdtype',\n",
       " 'issubsctype',\n",
       " 'iterable',\n",
       " 'ix_',\n",
       " 'kaiser',\n",
       " 'kron',\n",
       " 'lcm',\n",
       " 'ldexp',\n",
       " 'left_shift',\n",
       " 'less',\n",
       " 'less_equal',\n",
       " 'lexsort',\n",
       " 'lib',\n",
       " 'linalg',\n",
       " 'linspace',\n",
       " 'little_endian',\n",
       " 'load',\n",
       " 'loads',\n",
       " 'loadtxt',\n",
       " 'log',\n",
       " 'log10',\n",
       " 'log1p',\n",
       " 'log2',\n",
       " 'logaddexp',\n",
       " 'logaddexp2',\n",
       " 'logical_and',\n",
       " 'logical_not',\n",
       " 'logical_or',\n",
       " 'logical_xor',\n",
       " 'logspace',\n",
       " 'long',\n",
       " 'longcomplex',\n",
       " 'longdouble',\n",
       " 'longfloat',\n",
       " 'longlong',\n",
       " 'lookfor',\n",
       " 'ma',\n",
       " 'mafromtxt',\n",
       " 'mask_indices',\n",
       " 'mat',\n",
       " 'math',\n",
       " 'matmul',\n",
       " 'matrix',\n",
       " 'matrixlib',\n",
       " 'max',\n",
       " 'maximum',\n",
       " 'maximum_sctype',\n",
       " 'may_share_memory',\n",
       " 'mean',\n",
       " 'median',\n",
       " 'memmap',\n",
       " 'meshgrid',\n",
       " 'mgrid',\n",
       " 'min',\n",
       " 'min_scalar_type',\n",
       " 'minimum',\n",
       " 'mintypecode',\n",
       " 'mirr',\n",
       " 'mod',\n",
       " 'modf',\n",
       " 'moveaxis',\n",
       " 'msort',\n",
       " 'multiply',\n",
       " 'nan',\n",
       " 'nan_to_num',\n",
       " 'nanargmax',\n",
       " 'nanargmin',\n",
       " 'nancumprod',\n",
       " 'nancumsum',\n",
       " 'nanmax',\n",
       " 'nanmean',\n",
       " 'nanmedian',\n",
       " 'nanmin',\n",
       " 'nanpercentile',\n",
       " 'nanprod',\n",
       " 'nanquantile',\n",
       " 'nanstd',\n",
       " 'nansum',\n",
       " 'nanvar',\n",
       " 'nbytes',\n",
       " 'ndarray',\n",
       " 'ndenumerate',\n",
       " 'ndfromtxt',\n",
       " 'ndim',\n",
       " 'ndindex',\n",
       " 'nditer',\n",
       " 'negative',\n",
       " 'nested_iters',\n",
       " 'newaxis',\n",
       " 'nextafter',\n",
       " 'nonzero',\n",
       " 'not_equal',\n",
       " 'nper',\n",
       " 'npv',\n",
       " 'numarray',\n",
       " 'number',\n",
       " 'obj2sctype',\n",
       " 'object',\n",
       " 'object0',\n",
       " 'object_',\n",
       " 'ogrid',\n",
       " 'oldnumeric',\n",
       " 'ones',\n",
       " 'ones_like',\n",
       " 'outer',\n",
       " 'packbits',\n",
       " 'pad',\n",
       " 'partition',\n",
       " 'percentile',\n",
       " 'pi',\n",
       " 'piecewise',\n",
       " 'place',\n",
       " 'pmt',\n",
       " 'poly',\n",
       " 'poly1d',\n",
       " 'polyadd',\n",
       " 'polyder',\n",
       " 'polydiv',\n",
       " 'polyfit',\n",
       " 'polyint',\n",
       " 'polymul',\n",
       " 'polynomial',\n",
       " 'polysub',\n",
       " 'polyval',\n",
       " 'positive',\n",
       " 'power',\n",
       " 'ppmt',\n",
       " 'print_function',\n",
       " 'printoptions',\n",
       " 'prod',\n",
       " 'product',\n",
       " 'promote_types',\n",
       " 'ptp',\n",
       " 'put',\n",
       " 'put_along_axis',\n",
       " 'putmask',\n",
       " 'pv',\n",
       " 'quantile',\n",
       " 'r_',\n",
       " 'rad2deg',\n",
       " 'radians',\n",
       " 'random',\n",
       " 'rank',\n",
       " 'rate',\n",
       " 'ravel',\n",
       " 'ravel_multi_index',\n",
       " 'real',\n",
       " 'real_if_close',\n",
       " 'rec',\n",
       " 'recarray',\n",
       " 'recfromcsv',\n",
       " 'recfromtxt',\n",
       " 'reciprocal',\n",
       " 'record',\n",
       " 'remainder',\n",
       " 'repeat',\n",
       " 'require',\n",
       " 'reshape',\n",
       " 'resize',\n",
       " 'result_type',\n",
       " 'right_shift',\n",
       " 'rint',\n",
       " 'roll',\n",
       " 'rollaxis',\n",
       " 'roots',\n",
       " 'rot90',\n",
       " 'round',\n",
       " 'round_',\n",
       " 'row_stack',\n",
       " 's_',\n",
       " 'safe_eval',\n",
       " 'save',\n",
       " 'savetxt',\n",
       " 'savez',\n",
       " 'savez_compressed',\n",
       " 'sctype2char',\n",
       " 'sctypeDict',\n",
       " 'sctypeNA',\n",
       " 'sctypes',\n",
       " 'searchsorted',\n",
       " 'select',\n",
       " 'set_numeric_ops',\n",
       " 'set_printoptions',\n",
       " 'set_string_function',\n",
       " 'setbufsize',\n",
       " 'setdiff1d',\n",
       " 'seterr',\n",
       " 'seterrcall',\n",
       " 'seterrobj',\n",
       " 'setxor1d',\n",
       " 'shape',\n",
       " 'shares_memory',\n",
       " 'short',\n",
       " 'show_config',\n",
       " 'sign',\n",
       " 'signbit',\n",
       " 'signedinteger',\n",
       " 'sin',\n",
       " 'sinc',\n",
       " 'single',\n",
       " 'singlecomplex',\n",
       " 'sinh',\n",
       " 'size',\n",
       " 'sometrue',\n",
       " 'sort',\n",
       " 'sort_complex',\n",
       " 'source',\n",
       " 'spacing',\n",
       " 'split',\n",
       " 'sqrt',\n",
       " 'square',\n",
       " 'squeeze',\n",
       " 'stack',\n",
       " 'std',\n",
       " 'str',\n",
       " 'str0',\n",
       " 'str_',\n",
       " 'string_',\n",
       " 'subtract',\n",
       " 'sum',\n",
       " 'swapaxes',\n",
       " 'sys',\n",
       " 'take',\n",
       " 'take_along_axis',\n",
       " 'tan',\n",
       " 'tanh',\n",
       " 'tensordot',\n",
       " 'test',\n",
       " 'testing',\n",
       " 'tile',\n",
       " 'timedelta64',\n",
       " 'trace',\n",
       " 'tracemalloc_domain',\n",
       " 'transpose',\n",
       " 'trapz',\n",
       " 'tri',\n",
       " 'tril',\n",
       " 'tril_indices',\n",
       " 'tril_indices_from',\n",
       " 'trim_zeros',\n",
       " 'triu',\n",
       " 'triu_indices',\n",
       " 'triu_indices_from',\n",
       " 'true_divide',\n",
       " 'trunc',\n",
       " 'typeDict',\n",
       " 'typeNA',\n",
       " 'typecodes',\n",
       " 'typename',\n",
       " 'ubyte',\n",
       " 'ufunc',\n",
       " 'uint',\n",
       " 'uint0',\n",
       " 'uint16',\n",
       " 'uint32',\n",
       " 'uint64',\n",
       " 'uint8',\n",
       " 'uintc',\n",
       " 'uintp',\n",
       " 'ulonglong',\n",
       " 'unicode',\n",
       " 'unicode_',\n",
       " 'union1d',\n",
       " 'unique',\n",
       " 'unpackbits',\n",
       " 'unravel_index',\n",
       " 'unsignedinteger',\n",
       " 'unwrap',\n",
       " 'ushort',\n",
       " 'vander',\n",
       " 'var',\n",
       " 'vdot',\n",
       " 'vectorize',\n",
       " 'version',\n",
       " 'void',\n",
       " 'void0',\n",
       " 'vsplit',\n",
       " 'vstack',\n",
       " 'warnings',\n",
       " 'where',\n",
       " 'who',\n",
       " 'zeros',\n",
       " 'zeros_like']"
      ]
     },
     "execution_count": 2,
     "metadata": {},
     "output_type": "execute_result"
    }
   ],
   "source": [
    "# check what's in numpy\n",
    "dir(np)"
   ]
  },
  {
   "cell_type": "markdown",
   "metadata": {},
   "source": [
    "### Function Definitions"
   ]
  },
  {
   "cell_type": "code",
   "execution_count": 3,
   "metadata": {},
   "outputs": [
    {
     "name": "stdout",
     "output_type": "stream",
     "text": [
      "   5.062500E+12\n"
     ]
    }
   ],
   "source": [
    "def square(x):\n",
    "    return x**2\n",
    "\n",
    "x = 2.25e6\n",
    "y = square(x)\n",
    "\n",
    "# nice output:\n",
    "print(\"%15.6E\" % y)"
   ]
  },
  {
   "cell_type": "code",
   "execution_count": 4,
   "metadata": {},
   "outputs": [
    {
     "name": "stdout",
     "output_type": "stream",
     "text": [
      "value:     200.100  square:   40040.010   cube: 8012006.001\n"
     ]
    }
   ],
   "source": [
    "def square_and_cube(x):\n",
    "    return x**2, x**3\n",
    "\n",
    "a = 200.1\n",
    "y1, y2 = square_and_cube(a)\n",
    "\n",
    "print( \"value: %11.3f  square: %11.3f   cube: %11.3f\" % (a,y1,y2))\n"
   ]
  },
  {
   "cell_type": "markdown",
   "metadata": {},
   "source": [
    "### Loops, If Statements, and Indentation"
   ]
  },
  {
   "cell_type": "code",
   "execution_count": 5,
   "metadata": {},
   "outputs": [
    {
     "name": "stdout",
     "output_type": "stream",
     "text": [
      "0\n",
      "1\n",
      "2\n",
      "3\n",
      "4\n",
      "25\n",
      "6\n",
      "7\n",
      "8\n",
      "9\n",
      "sum:  45\n"
     ]
    }
   ],
   "source": [
    "sum = 0\n",
    "for i in range(0,10):\n",
    "    if i == 5:\n",
    "        print(square(i))\n",
    "    else:\n",
    "        print(i)\n",
    "    sum = sum + i\n",
    "print(\"sum: \", sum)"
   ]
  },
  {
   "cell_type": "markdown",
   "metadata": {},
   "source": [
    "---\n",
    "## 2.2 NumPy\n",
    "\n",
    "NumPy is a Python module for numerical computations. It provides high-performance vector, matrix, and higher-dimensional data structures. NumPy backend routines are implemented in C or Fortran, which leads to very high performance if one uses *vector operations*.\n",
    "\n",
    "\n",
    "### 2.2.1 NumPy Arrays\n",
    "\n",
    "NumPy arrays are the most powerful data structures we'll be working with. They can be generated in multiple ways:\n",
    "\n",
    "* from Python lists or tuples\n",
    "* by functions that are dedicated to generating NumPy arrays, such as zeros, ones, arange, linspace, etc.\n",
    "* reading data from files\n",
    "\n",
    "**Unlike Python lists, NumPy arrays are fixed length**. More information on NumPy arrays and how to modify them can be found at: https://docs.scipy.org/doc/numpy/reference/routines.array-manipulation.html\n"
   ]
  },
  {
   "cell_type": "code",
   "execution_count": 6,
   "metadata": {},
   "outputs": [],
   "source": [
    "#simple example\n",
    "mylist = [1,2,3,4]\n",
    "myarray = np.array(mylist)"
   ]
  },
  {
   "cell_type": "code",
   "execution_count": 7,
   "metadata": {},
   "outputs": [
    {
     "data": {
      "text/plain": [
       "array([1, 2, 3, 4])"
      ]
     },
     "execution_count": 7,
     "metadata": {},
     "output_type": "execute_result"
    }
   ],
   "source": [
    "myarray"
   ]
  },
  {
   "cell_type": "code",
   "execution_count": 8,
   "metadata": {},
   "outputs": [
    {
     "data": {
      "text/plain": [
       "numpy.ndarray"
      ]
     },
     "execution_count": 8,
     "metadata": {},
     "output_type": "execute_result"
    }
   ],
   "source": [
    "# get the type\n",
    "type(myarray)"
   ]
  },
  {
   "cell_type": "code",
   "execution_count": 9,
   "metadata": {},
   "outputs": [
    {
     "data": {
      "text/plain": [
       "(4,)"
      ]
     },
     "execution_count": 9,
     "metadata": {},
     "output_type": "execute_result"
    }
   ],
   "source": [
    "# get info about the shape of the array\n",
    "myarray.shape"
   ]
  },
  {
   "cell_type": "code",
   "execution_count": 10,
   "metadata": {},
   "outputs": [
    {
     "data": {
      "text/plain": [
       "4"
      ]
     },
     "execution_count": 10,
     "metadata": {},
     "output_type": "execute_result"
    }
   ],
   "source": [
    "# more info about the array:\n",
    "np.size(myarray)"
   ]
  },
  {
   "cell_type": "code",
   "execution_count": 11,
   "metadata": {},
   "outputs": [
    {
     "data": {
      "text/plain": [
       "4"
      ]
     },
     "execution_count": 11,
     "metadata": {},
     "output_type": "execute_result"
    }
   ],
   "source": [
    "# or use this\n",
    "myarray.size"
   ]
  },
  {
   "cell_type": "code",
   "execution_count": 12,
   "metadata": {},
   "outputs": [
    {
     "data": {
      "text/plain": [
       "4"
      ]
     },
     "execution_count": 12,
     "metadata": {},
     "output_type": "execute_result"
    }
   ],
   "source": [
    "# or use the Python built-in 'len' function\n",
    "len(myarray)"
   ]
  },
  {
   "cell_type": "code",
   "execution_count": 13,
   "metadata": {},
   "outputs": [
    {
     "name": "stdout",
     "output_type": "stream",
     "text": [
      "1\n"
     ]
    }
   ],
   "source": [
    "# print an element: Remember, Python indexing starts at 0!\n",
    "print(myarray[0])"
   ]
  },
  {
   "cell_type": "code",
   "execution_count": 14,
   "metadata": {},
   "outputs": [],
   "source": [
    "# Let's make a matrix:\n",
    "mymatrix = np.array( [ [1,2], [3,4] ])"
   ]
  },
  {
   "cell_type": "code",
   "execution_count": 15,
   "metadata": {},
   "outputs": [
    {
     "data": {
      "text/plain": [
       "array([[1, 2],\n",
       "       [3, 4]])"
      ]
     },
     "execution_count": 15,
     "metadata": {},
     "output_type": "execute_result"
    }
   ],
   "source": [
    "mymatrix"
   ]
  },
  {
   "cell_type": "code",
   "execution_count": 16,
   "metadata": {},
   "outputs": [
    {
     "data": {
      "text/plain": [
       "(2, 2)"
      ]
     },
     "execution_count": 16,
     "metadata": {},
     "output_type": "execute_result"
    }
   ],
   "source": [
    "# get the shape\n",
    "mymatrix.shape"
   ]
  },
  {
   "cell_type": "code",
   "execution_count": 17,
   "metadata": {},
   "outputs": [
    {
     "name": "stdout",
     "output_type": "stream",
     "text": [
      "2\n"
     ]
    }
   ],
   "source": [
    "# change an element:\n",
    "mymatrix[0,0] = mymatrix[0,0] * 2\n",
    "print(mymatrix[0,0])"
   ]
  },
  {
   "cell_type": "code",
   "execution_count": 18,
   "metadata": {},
   "outputs": [
    {
     "name": "stdout",
     "output_type": "stream",
     "text": [
      "[[2 2]\n",
      " [3 4]]\n"
     ]
    }
   ],
   "source": [
    "print(mymatrix)"
   ]
  },
  {
   "cell_type": "markdown",
   "metadata": {},
   "source": [
    "### 2.2.2 Generating initialized arrays"
   ]
  },
  {
   "cell_type": "code",
   "execution_count": 19,
   "metadata": {},
   "outputs": [
    {
     "name": "stdout",
     "output_type": "stream",
     "text": [
      "[0. 0. 0. 0. 0. 0. 0. 0. 0. 0.]\n"
     ]
    }
   ],
   "source": [
    "# numpy.zeros is a great way to get initialized arrays\n",
    "a = np.zeros(10) # by default, you get a double precision array\n",
    "print(a)"
   ]
  },
  {
   "cell_type": "code",
   "execution_count": 20,
   "metadata": {},
   "outputs": [
    {
     "name": "stdout",
     "output_type": "stream",
     "text": [
      "float64\n"
     ]
    }
   ],
   "source": [
    "print(a.dtype)"
   ]
  },
  {
   "cell_type": "code",
   "execution_count": 21,
   "metadata": {},
   "outputs": [
    {
     "name": "stdout",
     "output_type": "stream",
     "text": [
      "[0 0 0 0 0 0 0 0 0 0]\n",
      "int16\n"
     ]
    }
   ],
   "source": [
    "# array of integers\n",
    "a = np.zeros(10,dtype=np.int16)\n",
    "print(a)\n",
    "print(a.dtype)"
   ]
  },
  {
   "cell_type": "code",
   "execution_count": 22,
   "metadata": {},
   "outputs": [
    {
     "name": "stdout",
     "output_type": "stream",
     "text": [
      "{'int': [<class 'numpy.int8'>, <class 'numpy.int16'>, <class 'numpy.int32'>, <class 'numpy.int64'>], 'uint': [<class 'numpy.uint8'>, <class 'numpy.uint16'>, <class 'numpy.uint32'>, <class 'numpy.uint64'>], 'float': [<class 'numpy.float16'>, <class 'numpy.float32'>, <class 'numpy.float64'>, <class 'numpy.float128'>], 'complex': [<class 'numpy.complex64'>, <class 'numpy.complex128'>, <class 'numpy.complex256'>], 'others': [<class 'bool'>, <class 'object'>, <class 'bytes'>, <class 'str'>, <class 'numpy.void'>]}\n"
     ]
    }
   ],
   "source": [
    "# What datatypes are there?\n",
    "print(np.sctypes)"
   ]
  },
  {
   "cell_type": "markdown",
   "metadata": {},
   "source": [
    "For floating point numbers, recall:\n",
    "\n",
    "32-bit -> single precision (fastest)\n",
    "\n",
    "64-bit -> double precision (standard in most numerical codes)\n",
    "\n",
    "128-bit -> quadruple precision (slow)"
   ]
  },
  {
   "cell_type": "code",
   "execution_count": 23,
   "metadata": {},
   "outputs": [
    {
     "name": "stdout",
     "output_type": "stream",
     "text": [
      "[1. 1. 1. 1. 1. 1. 1. 1. 1. 1.]\n"
     ]
    }
   ],
   "source": [
    "# make an array initialized to 1:\n",
    "a = np.ones(10,dtype=np.float64)\n",
    "print(a)"
   ]
  },
  {
   "cell_type": "code",
   "execution_count": 24,
   "metadata": {},
   "outputs": [
    {
     "name": "stdout",
     "output_type": "stream",
     "text": [
      "[5. 5. 5. 5. 5. 5. 5. 5. 5. 5.]\n"
     ]
    }
   ],
   "source": [
    "# what if we want to initialize it to 5 instead? Well, that's easy!\n",
    "a = np.ones(10,dtype=np.float64) * 5\n",
    "print(a)"
   ]
  },
  {
   "cell_type": "markdown",
   "metadata": {},
   "source": [
    "Note that this is a first example of a **vector** operation! All elements of np.ones(10) where multiplied by 5 at once."
   ]
  },
  {
   "cell_type": "markdown",
   "metadata": {},
   "source": [
    "### 2.2.3 Making arrays initialized with a range of numbers\n",
    "\n",
    "np.linspace(min,max,number of points). "
   ]
  },
  {
   "cell_type": "code",
   "execution_count": 25,
   "metadata": {},
   "outputs": [
    {
     "name": "stdout",
     "output_type": "stream",
     "text": [
      "[ 0.          1.11111111  2.22222222  3.33333333  4.44444444  5.55555556\n",
      "  6.66666667  7.77777778  8.88888889 10.        ]\n",
      "10\n"
     ]
    }
   ],
   "source": [
    "a = np.linspace(0,10,10) \n",
    "print(a)\n",
    "print(a.size)"
   ]
  },
  {
   "cell_type": "markdown",
   "metadata": {},
   "source": [
    "There is also np.arange(min,max,step size), but this is creating a half-open range of numbers [min,max):"
   ]
  },
  {
   "cell_type": "code",
   "execution_count": 26,
   "metadata": {},
   "outputs": [
    {
     "name": "stdout",
     "output_type": "stream",
     "text": [
      "[0 1 2 3 4 5 6 7 8 9]\n",
      "10\n"
     ]
    }
   ],
   "source": [
    "b = np.arange(0,10,1)\n",
    "print(b)\n",
    "print(b.size)"
   ]
  },
  {
   "cell_type": "markdown",
   "metadata": {},
   "source": [
    "I don't recommend it."
   ]
  },
  {
   "cell_type": "code",
   "execution_count": 27,
   "metadata": {},
   "outputs": [
    {
     "name": "stdout",
     "output_type": "stream",
     "text": [
      "[ 0.  1.  2.  3.  4.  5.  6.  7.  8.  9. 10.]\n",
      "11\n"
     ]
    }
   ],
   "source": [
    "a = np.linspace(0,10,11) \n",
    "print(a)\n",
    "print(a.size)"
   ]
  },
  {
   "cell_type": "markdown",
   "metadata": {},
   "source": [
    "### 2.2.4 Making Arrays from random numbers\n",
    "\n",
    "This can be useful for exercises.\n",
    "np.random.rand() -- using the 'random' submodule of NumPy."
   ]
  },
  {
   "cell_type": "code",
   "execution_count": 28,
   "metadata": {},
   "outputs": [
    {
     "data": {
      "text/plain": [
       "0.07766962789655507"
      ]
     },
     "execution_count": 28,
     "metadata": {},
     "output_type": "execute_result"
    }
   ],
   "source": [
    "# this will spit out a random number in [0,1)\n",
    "np.random.rand()"
   ]
  },
  {
   "cell_type": "code",
   "execution_count": 29,
   "metadata": {},
   "outputs": [],
   "source": [
    "# let's make an array of rands, let's say we want 100 random numbers\n",
    "my_rand_array = np.random.rand(100)"
   ]
  },
  {
   "cell_type": "code",
   "execution_count": 30,
   "metadata": {},
   "outputs": [
    {
     "name": "stdout",
     "output_type": "stream",
     "text": [
      "[0.66355025 0.57046713 0.71650686 0.28215016 0.94174613 0.25568802\n",
      " 0.15291291 0.32926474 0.07480559 0.74292951 0.94078463 0.16368586\n",
      " 0.59426921 0.42522069 0.45374447 0.16516648 0.96595201 0.31427627\n",
      " 0.51579202 0.97419745 0.16946349 0.11378608 0.66041709 0.74870832\n",
      " 0.37183645 0.02877567 0.87509058 0.63491082 0.25600151 0.45123091\n",
      " 0.37694242 0.24460932 0.53538954 0.38450627 0.78286414 0.24762284\n",
      " 0.71499878 0.92755467 0.69316462 0.71576181 0.59132112 0.28754725\n",
      " 0.1270069  0.34689931 0.7437631  0.25202168 0.31651975 0.13722192\n",
      " 0.47685452 0.06034723 0.18433636 0.43624474 0.08265433 0.17617709\n",
      " 0.91174325 0.41563563 0.04825047 0.20365108 0.69736422 0.68980571\n",
      " 0.12691356 0.0151687  0.85363285 0.22959842 0.02589019 0.9663226\n",
      " 0.84017872 0.79276757 0.57359447 0.55471384 0.13276577 0.11357274\n",
      " 0.62545716 0.60736609 0.19046207 0.754704   0.04374851 0.8944593\n",
      " 0.60062069 0.61387995 0.72834343 0.43055023 0.04502085 0.48076805\n",
      " 0.9981438  0.05155269 0.25697102 0.17543263 0.38250197 0.34654732\n",
      " 0.4093207  0.4720129  0.09737043 0.99542069 0.64365627 0.01899435\n",
      " 0.59453735 0.3568604  0.66018012 0.08723908]\n"
     ]
    }
   ],
   "source": [
    "print(my_rand_array)"
   ]
  },
  {
   "cell_type": "code",
   "execution_count": 31,
   "metadata": {},
   "outputs": [],
   "source": [
    "# We can do this also with a 2D and higher-D array.\n",
    "my2D_rand_array = np.random.rand(100,100)"
   ]
  },
  {
   "cell_type": "code",
   "execution_count": 32,
   "metadata": {},
   "outputs": [
    {
     "name": "stdout",
     "output_type": "stream",
     "text": [
      "[[0.43635846 0.22690398 0.36868256 ... 0.44654626 0.41977311 0.03100411]\n",
      " [0.57678684 0.58615584 0.55905924 ... 0.82930706 0.3451147  0.35540326]\n",
      " [0.91848961 0.42810911 0.30783677 ... 0.8101834  0.04215993 0.36995362]\n",
      " ...\n",
      " [0.16569193 0.96922407 0.41570857 ... 0.03330062 0.8900027  0.15881339]\n",
      " [0.23049157 0.08886785 0.60355082 ... 0.01630931 0.10963974 0.9181971 ]\n",
      " [0.48744332 0.66178751 0.52707003 ... 0.01278135 0.56541614 0.38312256]]\n"
     ]
    }
   ],
   "source": [
    "print(my2D_rand_array)"
   ]
  },
  {
   "cell_type": "markdown",
   "metadata": {},
   "source": [
    "### 2.2.4 Performance example: NumPy vector operation vs. Python loop"
   ]
  },
  {
   "cell_type": "code",
   "execution_count": 33,
   "metadata": {},
   "outputs": [
    {
     "name": "stdout",
     "output_type": "stream",
     "text": [
      "time to completion in seconds:  6.482221364974976\n"
     ]
    }
   ],
   "source": [
    "# import time module (need for timing)\n",
    "import time\n",
    "# make a very large array with random numbers\n",
    "mylen = 10000000\n",
    "a = np.random.rand(mylen)\n",
    "start_time = time.time() # get start time\n",
    "for i in range(len(a)):\n",
    "    a[i] = a[i] * 2\n",
    "end_time = time.time() # get completion time\n",
    "\n",
    "print(\"time to completion in seconds: \", end_time-start_time)"
   ]
  },
  {
   "cell_type": "code",
   "execution_count": 34,
   "metadata": {},
   "outputs": [
    {
     "name": "stdout",
     "output_type": "stream",
     "text": [
      "time to completion in seconds:  0.46948790550231934\n"
     ]
    }
   ],
   "source": [
    "# now let's do it with a vector operation:\n",
    "b = np.random.rand(mylen)\n",
    "start_time = time.time() # get start time\n",
    "b = b * 2  # vector operation on all elements of b\n",
    "end_time = time.time() # get completion time\n",
    "print(\"time to completion in seconds: \", end_time-start_time)"
   ]
  },
  {
   "cell_type": "markdown",
   "metadata": {},
   "source": [
    "** The NumPy vector operation was 100 times faster than the Python loop **\n",
    "-> ** Use NumPy vector operations whenever possible! **"
   ]
  },
  {
   "cell_type": "markdown",
   "metadata": {},
   "source": [
    "### 2.2.5 Other NumPy Array Operations"
   ]
  },
  {
   "cell_type": "code",
   "execution_count": 35,
   "metadata": {},
   "outputs": [
    {
     "name": "stdout",
     "output_type": "stream",
     "text": [
      "46.38872533065436\n",
      "46.38872533065436\n"
     ]
    }
   ],
   "source": [
    "# let's make an array\n",
    "myarr = np.random.random(100)\n",
    "# sum\n",
    "print(myarr.sum())\n",
    "print(np.sum(myarr))"
   ]
  },
  {
   "cell_type": "code",
   "execution_count": 36,
   "metadata": {},
   "outputs": [
    {
     "name": "stdout",
     "output_type": "stream",
     "text": [
      "0.4638872533065436\n",
      "0.9942453884261904\n",
      "0.008456384167530917\n"
     ]
    }
   ],
   "source": [
    "# average, minimum, maximum\n",
    "print(myarr.mean())\n",
    "print(myarr.max())\n",
    "print(myarr.min())"
   ]
  },
  {
   "cell_type": "code",
   "execution_count": 37,
   "metadata": {},
   "outputs": [
    {
     "data": {
      "text/plain": [
       "['T',\n",
       " '__abs__',\n",
       " '__add__',\n",
       " '__and__',\n",
       " '__array__',\n",
       " '__array_finalize__',\n",
       " '__array_function__',\n",
       " '__array_interface__',\n",
       " '__array_prepare__',\n",
       " '__array_priority__',\n",
       " '__array_struct__',\n",
       " '__array_ufunc__',\n",
       " '__array_wrap__',\n",
       " '__bool__',\n",
       " '__class__',\n",
       " '__complex__',\n",
       " '__contains__',\n",
       " '__copy__',\n",
       " '__deepcopy__',\n",
       " '__delattr__',\n",
       " '__delitem__',\n",
       " '__dir__',\n",
       " '__divmod__',\n",
       " '__doc__',\n",
       " '__eq__',\n",
       " '__float__',\n",
       " '__floordiv__',\n",
       " '__format__',\n",
       " '__ge__',\n",
       " '__getattribute__',\n",
       " '__getitem__',\n",
       " '__gt__',\n",
       " '__hash__',\n",
       " '__iadd__',\n",
       " '__iand__',\n",
       " '__ifloordiv__',\n",
       " '__ilshift__',\n",
       " '__imatmul__',\n",
       " '__imod__',\n",
       " '__imul__',\n",
       " '__index__',\n",
       " '__init__',\n",
       " '__init_subclass__',\n",
       " '__int__',\n",
       " '__invert__',\n",
       " '__ior__',\n",
       " '__ipow__',\n",
       " '__irshift__',\n",
       " '__isub__',\n",
       " '__iter__',\n",
       " '__itruediv__',\n",
       " '__ixor__',\n",
       " '__le__',\n",
       " '__len__',\n",
       " '__lshift__',\n",
       " '__lt__',\n",
       " '__matmul__',\n",
       " '__mod__',\n",
       " '__mul__',\n",
       " '__ne__',\n",
       " '__neg__',\n",
       " '__new__',\n",
       " '__or__',\n",
       " '__pos__',\n",
       " '__pow__',\n",
       " '__radd__',\n",
       " '__rand__',\n",
       " '__rdivmod__',\n",
       " '__reduce__',\n",
       " '__reduce_ex__',\n",
       " '__repr__',\n",
       " '__rfloordiv__',\n",
       " '__rlshift__',\n",
       " '__rmatmul__',\n",
       " '__rmod__',\n",
       " '__rmul__',\n",
       " '__ror__',\n",
       " '__rpow__',\n",
       " '__rrshift__',\n",
       " '__rshift__',\n",
       " '__rsub__',\n",
       " '__rtruediv__',\n",
       " '__rxor__',\n",
       " '__setattr__',\n",
       " '__setitem__',\n",
       " '__setstate__',\n",
       " '__sizeof__',\n",
       " '__str__',\n",
       " '__sub__',\n",
       " '__subclasshook__',\n",
       " '__truediv__',\n",
       " '__xor__',\n",
       " 'all',\n",
       " 'any',\n",
       " 'argmax',\n",
       " 'argmin',\n",
       " 'argpartition',\n",
       " 'argsort',\n",
       " 'astype',\n",
       " 'base',\n",
       " 'byteswap',\n",
       " 'choose',\n",
       " 'clip',\n",
       " 'compress',\n",
       " 'conj',\n",
       " 'conjugate',\n",
       " 'copy',\n",
       " 'ctypes',\n",
       " 'cumprod',\n",
       " 'cumsum',\n",
       " 'data',\n",
       " 'diagonal',\n",
       " 'dot',\n",
       " 'dtype',\n",
       " 'dump',\n",
       " 'dumps',\n",
       " 'fill',\n",
       " 'flags',\n",
       " 'flat',\n",
       " 'flatten',\n",
       " 'getfield',\n",
       " 'imag',\n",
       " 'item',\n",
       " 'itemset',\n",
       " 'itemsize',\n",
       " 'max',\n",
       " 'mean',\n",
       " 'min',\n",
       " 'nbytes',\n",
       " 'ndim',\n",
       " 'newbyteorder',\n",
       " 'nonzero',\n",
       " 'partition',\n",
       " 'prod',\n",
       " 'ptp',\n",
       " 'put',\n",
       " 'ravel',\n",
       " 'real',\n",
       " 'repeat',\n",
       " 'reshape',\n",
       " 'resize',\n",
       " 'round',\n",
       " 'searchsorted',\n",
       " 'setfield',\n",
       " 'setflags',\n",
       " 'shape',\n",
       " 'size',\n",
       " 'sort',\n",
       " 'squeeze',\n",
       " 'std',\n",
       " 'strides',\n",
       " 'sum',\n",
       " 'swapaxes',\n",
       " 'take',\n",
       " 'tobytes',\n",
       " 'tofile',\n",
       " 'tolist',\n",
       " 'tostring',\n",
       " 'trace',\n",
       " 'transpose',\n",
       " 'var',\n",
       " 'view']"
      ]
     },
     "execution_count": 37,
     "metadata": {},
     "output_type": "execute_result"
    }
   ],
   "source": [
    "# other stuff\n",
    "dir(myarr)"
   ]
  },
  {
   "cell_type": "code",
   "execution_count": 38,
   "metadata": {},
   "outputs": [
    {
     "name": "stdout",
     "output_type": "stream",
     "text": [
      "9\n",
      "74\n"
     ]
    }
   ],
   "source": [
    "# useful: index that holds the maximum or minimum element\n",
    "print(myarr.argmin())\n",
    "print(myarr.argmax())"
   ]
  },
  {
   "cell_type": "code",
   "execution_count": 39,
   "metadata": {},
   "outputs": [
    {
     "name": "stdout",
     "output_type": "stream",
     "text": [
      "0.1198157770210585\n",
      "0.7219278128663504\n"
     ]
    }
   ],
   "source": [
    "print(myarr[34])\n",
    "print(myarr[48])"
   ]
  },
  {
   "cell_type": "markdown",
   "metadata": {},
   "source": [
    "### 2.2.6 Indexing and Slicing Arrays"
   ]
  },
  {
   "cell_type": "code",
   "execution_count": 40,
   "metadata": {},
   "outputs": [
    {
     "name": "stdout",
     "output_type": "stream",
     "text": [
      "[  0.  10.  20.  30.  40.  50.  60.  70.  80.  90. 100.]\n"
     ]
    }
   ],
   "source": [
    "myarr = np.linspace(0,100,11)\n",
    "print(myarr)"
   ]
  },
  {
   "cell_type": "code",
   "execution_count": 41,
   "metadata": {},
   "outputs": [
    {
     "name": "stdout",
     "output_type": "stream",
     "text": [
      "[  0.  10.  20.  30.  40.  50.  60.  70.  80.  90. 100.]\n"
     ]
    }
   ],
   "source": [
    "print(myarr[:])  # everything"
   ]
  },
  {
   "cell_type": "code",
   "execution_count": 42,
   "metadata": {},
   "outputs": [
    {
     "name": "stdout",
     "output_type": "stream",
     "text": [
      "0.0\n"
     ]
    }
   ],
   "source": [
    "print(myarr[0])  # first element"
   ]
  },
  {
   "cell_type": "code",
   "execution_count": 43,
   "metadata": {},
   "outputs": [
    {
     "name": "stdout",
     "output_type": "stream",
     "text": [
      "100.0\n"
     ]
    }
   ],
   "source": [
    "print(myarr[-1]) # last element"
   ]
  },
  {
   "cell_type": "code",
   "execution_count": 44,
   "metadata": {},
   "outputs": [
    {
     "name": "stdout",
     "output_type": "stream",
     "text": [
      "[ 0. 10. 20. 30. 40.]\n"
     ]
    }
   ],
   "source": [
    "print(myarr[0:5]) # from element 0 to 4 <- note that it is [start:stop-1] what's being output"
   ]
  },
  {
   "cell_type": "code",
   "execution_count": 45,
   "metadata": {},
   "outputs": [
    {
     "name": "stdout",
     "output_type": "stream",
     "text": [
      "[ 50.  60.  70.  80.  90. 100.]\n"
     ]
    }
   ],
   "source": [
    "print(myarr[5:11]) # from element 5 to the last one"
   ]
  },
  {
   "cell_type": "code",
   "execution_count": 46,
   "metadata": {},
   "outputs": [
    {
     "name": "stdout",
     "output_type": "stream",
     "text": [
      "[ 50.  60.  70.  80.  90. 100.]\n"
     ]
    }
   ],
   "source": [
    "# can get the same in this way:\n",
    "print(myarr[5:myarr.size])"
   ]
  },
  {
   "cell_type": "code",
   "execution_count": 47,
   "metadata": {},
   "outputs": [
    {
     "name": "stdout",
     "output_type": "stream",
     "text": [
      "[ 50.  60.  70.  80.  90. 100.]\n"
     ]
    }
   ],
   "source": [
    "# or you can do it this way:\n",
    "print(myarr[5:])"
   ]
  },
  {
   "cell_type": "code",
   "execution_count": 48,
   "metadata": {},
   "outputs": [
    {
     "name": "stdout",
     "output_type": "stream",
     "text": [
      "[ 50.  60.  70.  80.  90. 100.]\n"
     ]
    }
   ],
   "source": [
    "# or you can do it this way -- choose the last 6 elements\n",
    "print(myarr[-6:])"
   ]
  },
  {
   "cell_type": "code",
   "execution_count": 49,
   "metadata": {},
   "outputs": [
    {
     "name": "stdout",
     "output_type": "stream",
     "text": [
      "[ 60.  70.  80.  90. 100.]\n"
     ]
    }
   ],
   "source": [
    "# but we can do cooler stuff:\n",
    "myval = 50.0\n",
    "# get entries above that value from myarr:\n",
    "print(myarr[ myarr > myval ])"
   ]
  },
  {
   "cell_type": "code",
   "execution_count": 50,
   "metadata": {},
   "outputs": [
    {
     "name": "stdout",
     "output_type": "stream",
     "text": [
      "[ 50.  60.  70.  80.  90. 100.]\n"
     ]
    }
   ],
   "source": [
    "# get entries greater than OR EQUAL:\n",
    "print(myarr[ myarr >= myval ])"
   ]
  },
  {
   "cell_type": "code",
   "execution_count": 51,
   "metadata": {},
   "outputs": [
    {
     "name": "stdout",
     "output_type": "stream",
     "text": [
      "[-70. -60. -50. -40. -30. -20. -10.   0.  10.  20.  30.]\n"
     ]
    }
   ],
   "source": [
    "# shifting all elments to be zero, at say 70:\n",
    "myarr = myarr - 70.0\n",
    "print(myarr)"
   ]
  },
  {
   "cell_type": "code",
   "execution_count": 52,
   "metadata": {},
   "outputs": [
    {
     "name": "stdout",
     "output_type": "stream",
     "text": [
      "49645 50355\n"
     ]
    }
   ],
   "source": [
    "# an example with random numbers\n",
    "d = np.random.rand(100000)\n",
    "# get all numbers smaller than 0.5\n",
    "dl50 = d[d < 0.5]\n",
    "# get all numbers larger than or equal to 0.5\n",
    "du50 = d[d >= 0.5]\n",
    "print( dl50.size, du50.size)"
   ]
  },
  {
   "cell_type": "code",
   "execution_count": 53,
   "metadata": {},
   "outputs": [
    {
     "name": "stdout",
     "output_type": "stream",
     "text": [
      "101\n",
      "51\n",
      "26\n"
     ]
    }
   ],
   "source": [
    "# Taking only every n-th element -- an easy way to downsample\n",
    "e = np.linspace(0,10,101)\n",
    "print(e.size)\n",
    "print(e[::2].size)\n",
    "print(e[::4].size)"
   ]
  },
  {
   "cell_type": "markdown",
   "metadata": {},
   "source": [
    "### 2.2.6 Numpy Arrays and Functions\n",
    "\n",
    "Many scalar functions will handle NumPy vectors."
   ]
  },
  {
   "cell_type": "code",
   "execution_count": 54,
   "metadata": {},
   "outputs": [
    {
     "name": "stdout",
     "output_type": "stream",
     "text": [
      "2.25\n"
     ]
    }
   ],
   "source": [
    "def power(x,n):\n",
    "    return x**n\n",
    "\n",
    "x = 1.5\n",
    "n = 2\n",
    "y = power(x,n)\n",
    "print(y)"
   ]
  },
  {
   "cell_type": "code",
   "execution_count": 55,
   "metadata": {},
   "outputs": [],
   "source": [
    "# let's do this with a vector\n",
    "x = np.linspace(0,100,11)\n",
    "y = power(x,n)"
   ]
  },
  {
   "cell_type": "code",
   "execution_count": 56,
   "metadata": {},
   "outputs": [
    {
     "data": {
      "text/plain": [
       "numpy.ndarray"
      ]
     },
     "execution_count": 56,
     "metadata": {},
     "output_type": "execute_result"
    }
   ],
   "source": [
    "type(y)"
   ]
  },
  {
   "cell_type": "code",
   "execution_count": 57,
   "metadata": {},
   "outputs": [
    {
     "name": "stdout",
     "output_type": "stream",
     "text": [
      "[    0.   100.   400.   900.  1600.  2500.  3600.  4900.  6400.  8100.\n",
      " 10000.]\n"
     ]
    }
   ],
   "source": [
    "# so power has operated on all array entries\n",
    "print(y)"
   ]
  },
  {
   "cell_type": "code",
   "execution_count": 58,
   "metadata": {},
   "outputs": [],
   "source": [
    "# this one here won't work:\n",
    "def mypower(x,n):\n",
    "    if x > 50.0:\n",
    "        return x**n\n",
    "    else:\n",
    "        return x**(n+1)"
   ]
  },
  {
   "cell_type": "code",
   "execution_count": 59,
   "metadata": {},
   "outputs": [
    {
     "ename": "ValueError",
     "evalue": "The truth value of an array with more than one element is ambiguous. Use a.any() or a.all()",
     "output_type": "error",
     "traceback": [
      "\u001b[0;31m---------------------------------------------------------------------------\u001b[0m",
      "\u001b[0;31mValueError\u001b[0m                                Traceback (most recent call last)",
      "\u001b[0;32m<ipython-input-59-4f9aac22e77e>\u001b[0m in \u001b[0;36m<module>\u001b[0;34m\u001b[0m\n\u001b[0;32m----> 1\u001b[0;31m \u001b[0my\u001b[0m \u001b[0;34m=\u001b[0m \u001b[0mmypower\u001b[0m\u001b[0;34m(\u001b[0m\u001b[0mx\u001b[0m\u001b[0;34m,\u001b[0m\u001b[0;36m2\u001b[0m\u001b[0;34m)\u001b[0m\u001b[0;34m\u001b[0m\u001b[0;34m\u001b[0m\u001b[0m\n\u001b[0m",
      "\u001b[0;32m<ipython-input-58-7bed325498fc>\u001b[0m in \u001b[0;36mmypower\u001b[0;34m(x, n)\u001b[0m\n\u001b[1;32m      1\u001b[0m \u001b[0;31m# this one here won't work:\u001b[0m\u001b[0;34m\u001b[0m\u001b[0;34m\u001b[0m\u001b[0;34m\u001b[0m\u001b[0m\n\u001b[1;32m      2\u001b[0m \u001b[0;32mdef\u001b[0m \u001b[0mmypower\u001b[0m\u001b[0;34m(\u001b[0m\u001b[0mx\u001b[0m\u001b[0;34m,\u001b[0m\u001b[0mn\u001b[0m\u001b[0;34m)\u001b[0m\u001b[0;34m:\u001b[0m\u001b[0;34m\u001b[0m\u001b[0;34m\u001b[0m\u001b[0m\n\u001b[0;32m----> 3\u001b[0;31m     \u001b[0;32mif\u001b[0m \u001b[0mx\u001b[0m \u001b[0;34m>\u001b[0m \u001b[0;36m50.0\u001b[0m\u001b[0;34m:\u001b[0m\u001b[0;34m\u001b[0m\u001b[0;34m\u001b[0m\u001b[0m\n\u001b[0m\u001b[1;32m      4\u001b[0m         \u001b[0;32mreturn\u001b[0m \u001b[0mx\u001b[0m\u001b[0;34m**\u001b[0m\u001b[0mn\u001b[0m\u001b[0;34m\u001b[0m\u001b[0;34m\u001b[0m\u001b[0m\n\u001b[1;32m      5\u001b[0m     \u001b[0;32melse\u001b[0m\u001b[0;34m:\u001b[0m\u001b[0;34m\u001b[0m\u001b[0;34m\u001b[0m\u001b[0m\n",
      "\u001b[0;31mValueError\u001b[0m: The truth value of an array with more than one element is ambiguous. Use a.any() or a.all()"
     ]
    }
   ],
   "source": [
    "y = mypower(x,2)"
   ]
  },
  {
   "cell_type": "code",
   "execution_count": 60,
   "metadata": {},
   "outputs": [],
   "source": [
    "# so this isn't great. BUT: NumPy can automatically vectorize simple functions for you\n",
    "# let's try this:\n",
    "mypower_vec = np.vectorize(mypower)"
   ]
  },
  {
   "cell_type": "code",
   "execution_count": 61,
   "metadata": {},
   "outputs": [
    {
     "name": "stdout",
     "output_type": "stream",
     "text": [
      "[     0.   1000.   8000.  27000.  64000. 125000.   3600.   4900.   6400.\n",
      "   8100.  10000.]\n"
     ]
    }
   ],
   "source": [
    "# then\n",
    "y = mypower_vec(x,2)\n",
    "print(y)"
   ]
  },
  {
   "cell_type": "markdown",
   "metadata": {},
   "source": [
    "---\n",
    "## 2.3 Reading Data with NumPy and the hard way\n",
    "\n",
    "There are multiple ways for getting data into Python/NumPy arrays. Here we will focus on ASCII data. In a later lecture we will deal with HDF5 and binary data.\n",
    "\n",
    "In your working directory on the server, there should be a file called 'ceph2.dat' that I found on the internet. It is the light curve of a variable star (in this case a Cepheid) as a function of time in different bands. Units are in magnitudes. Let's look at it! "
   ]
  },
  {
   "cell_type": "code",
   "execution_count": 62,
   "metadata": {
    "scrolled": true
   },
   "outputs": [
    {
     "name": "stdout",
     "output_type": "stream",
     "text": [
      "Time\tBlue\tBlueSD\tRed\tRedSD\r\n",
      "202.6288\t0.4887\t0.117\t0.4949\t0.02505\r\n",
      "205.7931\t0.2359\t0.0286\t0.2853\t0.027\r\n",
      "206.8021\t0.1545\t0.02127\t0.205\t0.02149\r\n",
      "209.823\t-0.09302\t0.01784\t-0.04896\t0.0181\r\n",
      "210.8108\t-0.1567\t0.02407\t-0.08673\t0.02181\r\n",
      "211.7849\t-0.2108\t0.01502\t-0.1717\t0.01477\r\n",
      "212.6712\t-0.1954\t0.02964\t-0.1785\t0.02545\r\n",
      "213.7561\t-0.3363\t0.02445\t-0.246\t0.02152\r\n",
      "218.7758\t0.08443\t0.02064\t-0.03662\t0.01895\r\n",
      "219.8242\t0.1792\t0.02477\t0.0266\t0.02019\r\n",
      "220.776\t0.2601\t0.02734\t0.1041\t0.02319\r\n",
      "226.7787\t0.3539\t0.02577\t0.3848\t0.02321\r\n",
      "228.7733\t-0.007334\t-99\t0.3152\t0.02762\r\n",
      "232.6753\t-0.1112\t-0.01489\t0.01114\t-99\r\n",
      "233.758\t-0.2601\t0.01408\t0.01114\t-99\r\n",
      "259.6066\t-0.1721\t0.01387\t-0.09843\t0.01511\r\n",
      "261.618\t-0.2756\t0.01624\t-0.2038\t0.01618\r\n",
      "261.6642\t-0.3189\t-0.01431\t-0.2432\t0.01538\r\n",
      "261.7043\t-0.2742\t0.01475\t-0.2404\t0.01596\r\n",
      "261.7801\t-0.2921\t0.01908\t-0.2198\t0.01805\r\n",
      "262.5851\t-0.3107\t0.01229\t-0.2752\t0.01335\r\n",
      "264.6492\t-0.335\t0.02115\t-0.3008\t0.01884\r\n",
      "265.7041\t-0.2216\t-0.01482\t-0.2719\t0.01386\r\n",
      "269.7287\t0.3403\t0.0212\t0.1754\t0.01912\r\n"
     ]
    }
   ],
   "source": [
    "!head -n 25 ceph2.txt "
   ]
  },
  {
   "cell_type": "markdown",
   "metadata": {},
   "source": [
    "### 2.3.1 Reading a file the hard, but general way.\n",
    "\n",
    "For this we will just open the file as a text file, read everything, then process the data based on what we learn from looking at the file."
   ]
  },
  {
   "cell_type": "code",
   "execution_count": 63,
   "metadata": {},
   "outputs": [],
   "source": [
    "# open and read the file, then close it\n",
    "infile = open(\"ceph2.txt\",\"r\")  # \"r\" means you're opening the file for reading\n",
    "indata = infile.readlines()\n",
    "infile.close()"
   ]
  },
  {
   "cell_type": "code",
   "execution_count": 64,
   "metadata": {},
   "outputs": [
    {
     "name": "stdout",
     "output_type": "stream",
     "text": [
      "['Time\\tBlue\\tBlueSD\\tRed\\tRedSD\\n', '202.6288\\t0.4887\\t0.117\\t0.4949\\t0.02505\\n', '205.7931\\t0.2359\\t0.0286\\t0.2853\\t0.027\\n', '206.8021\\t0.1545\\t0.02127\\t0.205\\t0.02149\\n', '209.823\\t-0.09302\\t0.01784\\t-0.04896\\t0.0181\\n', '210.8108\\t-0.1567\\t0.02407\\t-0.08673\\t0.02181\\n', '211.7849\\t-0.2108\\t0.01502\\t-0.1717\\t0.01477\\n', '212.6712\\t-0.1954\\t0.02964\\t-0.1785\\t0.02545\\n', '213.7561\\t-0.3363\\t0.02445\\t-0.246\\t0.02152\\n', '218.7758\\t0.08443\\t0.02064\\t-0.03662\\t0.01895\\n', '219.8242\\t0.1792\\t0.02477\\t0.0266\\t0.02019\\n', '220.776\\t0.2601\\t0.02734\\t0.1041\\t0.02319\\n', '226.7787\\t0.3539\\t0.02577\\t0.3848\\t0.02321\\n', '228.7733\\t-0.007334\\t-99\\t0.3152\\t0.02762\\n', '232.6753\\t-0.1112\\t-0.01489\\t0.01114\\t-99\\n', '233.758\\t-0.2601\\t0.01408\\t0.01114\\t-99\\n', '259.6066\\t-0.1721\\t0.01387\\t-0.09843\\t0.01511\\n', '261.618\\t-0.2756\\t0.01624\\t-0.2038\\t0.01618\\n', '261.6642\\t-0.3189\\t-0.01431\\t-0.2432\\t0.01538\\n', '261.7043\\t-0.2742\\t0.01475\\t-0.2404\\t0.01596\\n', '261.7801\\t-0.2921\\t0.01908\\t-0.2198\\t0.01805\\n', '262.5851\\t-0.3107\\t0.01229\\t-0.2752\\t0.01335\\n', '264.6492\\t-0.335\\t0.02115\\t-0.3008\\t0.01884\\n', '265.7041\\t-0.2216\\t-0.01482\\t-0.2719\\t0.01386\\n', '269.7287\\t0.3403\\t0.0212\\t0.1754\\t0.01912\\n', '271.7101\\t0.4256\\t0.02543\\t0.3225\\t0.02285\\n', '272.6892\\t0.4914\\t0.02245\\t0.4171\\t0.02089\\n', '272.692\\t0.4805\\t0.02342\\t0.4448\\t0.02227\\n', '272.7019\\t0.5038\\t0.0252\\t0.4106\\t0.02295\\n', '272.7082\\t0.5262\\t0.02249\\t0.4106\\t0.02079\\n', '273.7376\\t0.5403\\t0.02506\\t0.4771\\t0.02337\\n', '278.7684\\t0.2394\\t0.02603\\t0.3335\\t0.02989\\n', '278.7747\\t0.2497\\t0.01977\\t0.325\\t0.01994\\n', '283.5562\\t-0.3591\\t0.02091\\t-0.1905\\t0.01645\\n', '283.6081\\t-0.3626\\t0.01718\\t-0.1838\\t0.01554\\n', '284.5422\\t-0.4149\\t0.01764\\t-0.2705\\t0.01532\\n', '285.4272\\t-0.4635\\t0.01055\\t-0.3463\\t0.0113\\n', '285.5365\\t-0.5048\\t0.01146\\t-0.3763\\t0.01149\\n', '285.6634\\t-0.5093\\t0.01065\\t-0.3763\\t0.01078\\n', '286.5452\\t-0.5667\\t0.009711\\t-0.4507\\t0.01045\\n', '291.7264\\t-0.3018\\t0.0172\\t-0.2812\\t0.0156\\n', '292.5784\\t-0.1849\\t0.02796\\t-0.2111\\t0.02315\\n', '293.6626\\t-0.05463\\t0.01686\\t-0.09343\\t0.01617\\n', '295.6912\\t0.1749\\t0.01768\\t0.1733\\t0.01699\\n', '296.5012\\t0.2659\\t0.01951\\t0.2377\\t0.01908\\n', '297.477\\t0.3292\\t0.02049\\t0.3274\\t0.02046\\n', '300.6967\\t0.471\\t0.03964\\t0.4528\\t0.03469\\n', '304.4445\\t0.2894\\t-0.023\\t0.3225\\t0.02152\\n', '305.4802\\t0.2257\\t0.01994\\t0.2422\\t0.01915\\n', '306.4279\\t0.1387\\t0.02098\\t0.183\\t0.01983\\n', '306.663\\t0.1179\\t0.01769\\t0.1765\\t0.01734\\n', '307.4311\\t0.06267\\t0.03467\\t0.1194\\t-0.02757\\n', '308.4151\\t-0.03172\\t0.02101\\t0.02471\\t0.01888\\n', '308.6136\\t-0.02636\\t0.01632\\t0.001382\\t0.01584\\n', '309.7462\\t-0.06675\\t0.01776\\t-0.03306\\t0.01725\\n', '310.4586\\t-0.1274\\t0.01661\\t-0.08757\\t0.01577\\n', '310.6732\\t-0.1378\\t0.01538\\t-0.1124\\t0.01444\\n', '312.524\\t-0.1812\\t-0.05108\\t-0.206\\t-0.03543\\n', '314.5944\\t-0.2245\\t0.01969\\t-0.2522\\t0.01676\\n', '315.4567\\t-0.1879\\t0.01496\\t-0.2549\\t0.01373\\n', '316.4889\\t-0.1346\\t0.01495\\t-0.2068\\t0.01371\\n', '316.6468\\t-0.1202\\t0.01731\\t-0.1709\\t0.01389\\n', '318.5465\\t0.001844\\t0.01731\\t-0.06803\\t0.01562\\n', '318.6713\\t0\\t0.01784\\t-0.02141\\t0.01508\\n', '324.5791\\t0.3452\\t0.02734\\t0.3759\\t0.02619\\n', '324.7026\\t0.4164\\t0.02696\\t0.3874\\t0.02556\\n', '325.6285\\t0.3715\\t0.02021\\t0.3912\\t0.0205\\n', '326.4835\\t0.3804\\t0.02078\\t0.381\\t0.02079\\n', '341.6338\\t-0.3919\\t0.01984\\t-0.3384\\t0.0168\\n', '342.4685\\t-0.3063\\t0.01924\\t-0.2812\\t0.01611\\n', '342.607\\t-0.2769\\t0.01949\\t-0.2645\\t0.01596\\n', '342.7129\\t-0.2532\\t0.01518\\t-0.2383\\t0.01359\\n', '343.4633\\t-0.1567\\t0.01554\\t-0.177\\t0.01422\\n', '343.5872\\t-0.1218\\t0.01785\\t-0.1586\\t0.01501\\n', '343.7243\\t-0.08967\\t0.01912\\t-0.1302\\t0.01551\\n', '344.6893\\t0.06267\\t0.02232\\t0.02188\\t0.01823\\n', '344.7082\\t0.04809\\t0.01756\\t-0.01145\\t0.01524\\n', '344.7263\\t0.08543\\t0.01766\\t-0.002301\\t0.01538\\n', '350.7406\\t0.6398\\t-0.03333\\t0.6136\\t-0.03501\\n', '351.5138\\t0.6444\\t0.02601\\t0.6361\\t0.02522\\n', '360.6562\\t-0.1827\\t0.0137\\t-0.1294\\t0.01416\\n', '360.6682\\t-0.1819\\t0.01414\\t-0.1214\\t0.01472\\n', '361.463\\t-0.2414\\t0.01353\\t-0.177\\t0.01422\\n', '361.588\\t-0.2546\\t-0.03261\\t-0.2126\\t-0.02701\\n', '361.5927\\t-0.2573\\t0.02736\\t-0.192\\t0.02371\\n', '361.5975\\t-0.2635\\t0.02342\\t-0.2075\\t0.02198\\n', '361.636\\t-0.2449\\t0.01535\\t-0.1845\\t0.01552\\n', '362.4929\\t-0.2635\\t0.01273\\t-0.2162\\t0.01313\\n', '362.6085\\t-0.2855\\t0.01101\\t-0.239\\t0.01204\\n', '362.6512\\t-0.258\\t0.01282\\t-0.2263\\t0.01259\\n', '362.7226\\t-0.2762\\t0.01333\\t-0.2453\\t0.01265\\n', '364.4764\\t-0.3164\\t0.01112\\t-0.3021\\t0.01104\\n', '364.6041\\t-0.3132\\t0.01151\\t-0.2806\\t0.01171\\n', '364.6543\\t-0.2973\\t0.01112\\t-0.3117\\t0.0112\\n', '365.4652\\t-0.2802\\t0.01416\\t-0.2911\\t0.01349\\n', '365.6597\\t-0.247\\t0.01262\\t-0.3129\\t0.01187\\n', '366.5975\\t-0.1652\\t0.01697\\t-0.2611\\t0.01502\\n', '372.5016\\t0.4243\\t0.02541\\t0.3483\\t0.0226\\n', '373.4388\\t0.4441\\t0.02174\\t0.4145\\t0.02129\\n', '373.5526\\t0.4655\\t0.02259\\t0.4028\\t0.02067\\n', '373.6763\\t0.4805\\t0.02282\\t0.4368\\t0.02163\\n', '375.4404\\t0.4983\\t0.02255\\t0.4812\\t0.02183\\n', '375.5504\\t0.49\\t0.02357\\t0.5255\\t0.02296\\n', '375.6682\\t0.4914\\t0.0236\\t0.4771\\t0.02223\\n', '377.4544\\t0.4035\\t0.02283\\t0.4119\\t0.02234\\n', '377.6339\\t0.4125\\t0.03166\\t0.39\\t0.02646\\n', '378.4436\\t0.3378\\t0.01972\\t0.3583\\t0.02002\\n', '378.6355\\t0.317\\t0.02084\\t0.3335\\t0.02055\\n', '379.4413\\t0.2303\\t0.02002\\t0.2912\\t0.02043\\n', '380.4798\\t0.1251\\t0.02603\\t0.1962\\t0.02431\\n', '380.6289\\t0.09245\\t0.01777\\t0.1722\\t0.01854\\n', '381.4331\\t0.005542\\t0.01591\\t0.09799\\t0.01692\\n', '383.4504\\t-0.2736\\t0.01217\\t-0.1516\\t0.0138\\n', '383.6344\\t-0.3031\\t0.01464\\t-0.1694\\t0.0153\\n', '384.4443\\t-0.3561\\t0.01537\\t-0.257\\t0.01461\\n', '384.6121\\t-0.4041\\t0.01172\\t-0.2712\\t0.01259\\n', '387.5243\\t-0.007334\\t-99\\t-0.5234\\t0.008781\\n', '387.6142\\t-0.6332\\t0.007214\\t-0.5295\\t0.007885\\n', '388.5296\\t-0.6181\\t0.01538\\t-0.5431\\t0.01491\\n', '388.6131\\t-0.624\\t0.01579\\t-0.5621\\t0.01429\\n', '391.619\\t-0.3344\\t0.01639\\t-0.3173\\t0.01481\\n', '391.7521\\t-0.3183\\t0.02804\\t-0.3072\\t0.02261\\n', '392.4391\\t-0.2223\\t0.01303\\t-0.2418\\t0.01271\\n', '392.5699\\t-0.2158\\t0.01276\\t-0.2177\\t0.01238\\n', '393.4424\\t-0.1063\\t0.01646\\t-0.1366\\t0.0159\\n', '393.6028\\t-0.07274\\t0.01509\\t-0.09926\\t0.01425\\n', '395.477\\t0.2303\\t0.01852\\t0.1787\\t0.01774\\n', '395.5958\\t0.2474\\t0.01838\\t0.1973\\t0.01765\\n', '397.5304\\t0.4777\\t0.02404\\t0.4595\\t0.0225\\n', '397.713\\t0.5389\\t0.02435\\t0.4798\\t0.02227\\n', '398.4433\\t0.5488\\t0.02331\\t0.5059\\t0.02219\\n', '398.5886\\t0.6278\\t0.02399\\t0.551\\t0.02245\\n', '401.4381\\t0.5191\\t0.0271\\t0.5045\\t0.0238\\n', '401.7566\\t-0.007334\\t-99\\t0.5367\\t0.02831\\n', '402.4698\\t0.4629\\t0.02255\\t0.488\\t0.02193\\n', '402.5029\\t0.4887\\t0.02295\\t0.4528\\t0.02187\\n', '402.6851\\t0.4696\\t0.02463\\t0.4368\\t0.02215\\n', '406.4399\\t0.12\\t0.01772\\t0.1604\\t0.01789\\n', '408.4608\\t-0.0406\\t0.01887\\t-0.04457\\t0.0176\\n', '409.4364\\t-0.1169\\t0.01681\\t-0.09093\\t0.01622\\n', '409.5539\\t-0.1682\\t0.04371\\t-0.1157\\t0.03258\\n', '411.486\\t-0.2351\\t0.0121\\t-0.1928\\t0.01244\\n', '412.5629\\t-0.2518\\t0.01472\\t-0.2376\\t0.0136\\n', '413.6426\\t-0.2566\\t0.01831\\t-0.2786\\t0.01617\\n', '414.4222\\t-0.223\\t-0.01343\\t-0.239\\t0.01275\\n', '414.6533\\t-0.1961\\t0.01347\\t-0.2542\\t0.01213\\n', '417.4818\\t0.02612\\t0.0172\\t-0.07402\\t0.01552\\n', '417.6842\\t0.03371\\t0.02101\\t-0.06632\\t0.01777\\n', '418.6203\\t0.1117\\t0.02048\\t-0.02501\\t0.01739\\n', '419.4413\\t0.2089\\t0.01913\\t0.08993\\t0.01724\\n', '420.4388\\t0.3183\\t0.01943\\t0.1918\\t0.01756\\n', '420.5401\\t0.3366\\t0.02115\\t0.1984\\t-0.01847\\n', '421.6039\\t0.3354\\t0.02714\\t0.2759\\t0.02428\\n', '422.4231\\t0.3983\\t0.02105\\t0.3596\\t0.02046\\n', '422.5291\\t0.4322\\t0.02156\\t0.3658\\t0.02013\\n', '423.5797\\t0.4269\\t-0.03734\\t0.3977\\t-0.03234\\n', '424.4889\\t0.471\\t0.02893\\t0.4743\\t0.0263\\n', '425.4192\\t0.4602\\t0.0231\\t0.4894\\t0.02296\\n', '425.5226\\t0.4602\\t0.02251\\t0.4568\\t0.02193\\n', '426.4189\\t0.4335\\t0.02268\\t0.4703\\t0.02213\\n', '426.5605\\t0.4243\\t0.02253\\t0.4488\\t0.02292\\n', '427.5826\\t0.3256\\t0.02364\\t0.3989\\t0.02344\\n', '428.4154\\t0.2847\\t0.0209\\t0.3521\\t0.02084\\n', '430.5249\\t-0.007334\\t-99\\t0.1308\\t0.01954\\n', '432.6515\\t-0.1894\\t0.02058\\t-0.03927\\t0.01714\\n', '435.4065\\t-0.4644\\t0.01125\\t-0.3242\\t0.01168\\n', '436.4164\\t-0.5433\\t0.009282\\t-0.4125\\t0.01015\\n', '437.3997\\t-0.5975\\t0.008455\\t-0.493\\t0.008761\\n', '437.5267\\t-0.5574\\t0.07973\\t-0.428\\t0.05746\\n', '437.6433\\t-0.5835\\t0.0129\\t-0.5145\\t0.0102\\n', '438.4022\\t-0.6142\\t0.007843\\t-0.5073\\t0.008257\\n', '438.5828\\t-0.6045\\t0.01004\\t-0.5131\\t0.008969\\n', '439.4002\\t-0.5484\\t0.0098\\t-0.4482\\t0.009843\\n', '441.4994\\t-0.2953\\t0.01257\\t-0.2759\\t0.01146\\n', '441.6364\\t-0.2776\\t0.01421\\t-0.2651\\t0.01231\\n', '442.4337\\t-0.1961\\t0.01308\\t-0.1724\\t0.01276\\n', '442.6195\\t-0.1636\\t0.01361\\t-0.1785\\t0.01266\\n', '443.5042\\t-0.0753\\t0.01598\\t-0.08757\\t0.01444\\n', '444.3941\\t0.05099\\t0.01936\\t0.004152\\t0.01735\\n', '444.5359\\t0.08243\\t0.01931\\t0.02849\\t0.01724\\n', '445.4512\\t0.228\\t0.01848\\t0.1657\\t0.01718\\n', '446.405\\t0.3268\\t0.02045\\t0.3032\\t0.01921\\n', '446.556\\t0.3791\\t0.02076\\t0.3286\\t0.01923\\n', '451.3908\\t0.4832\\t0.02347\\t0.4921\\t0.02246\\n', '451.5277\\t0.515\\t0.02702\\t0.499\\t0.0259\\n', '452.382\\t0.4615\\t0.02449\\t0.4555\\t0.02303\\n', '452.6425\\t0.4629\\t0.02784\\t0.4474\\t0.02501\\n', '453.4326\\t0.3753\\t0.02238\\t0.4041\\t0.02113\\n', '453.5773\\t0.3932\\t0.02408\\t0.39\\t0.02142\\n', '454.4226\\t0.299\\t0.02177\\t0.3116\\t0.02075\\n', '455.6689\\t0.2717\\t0.02671\\t0.263\\t0.02253\\n', '457.4886\\t0.06365\\t0.01731\\t0.08993\\t0.0164\\n', '459.438\\t-0.07615\\t0.02346\\t-0.07061\\t0.01828\\n', '460.3781\\t-0.1879\\t0.02854\\t-0.1278\\t0.02148\\n', '460.5019\\t-0.1567\\t0.03179\\t-0.1157\\t0.02111\\n', '461.4197\\t-0.1636\\t0.01815\\t-0.1671\\t0.01534\\n', '462.4048\\t-0.2049\\t0.01564\\t-0.1965\\t0.01433\\n', '463.4119\\t-0.1946\\t0.01437\\t-0.2177\\t0.01311\\n', '463.5302\\t-0.2108\\t0.01658\\t-0.2119\\t0.01452\\n', '464.532\\t-0.1582\\t0.01501\\t-0.214\\t0.01317\\n', '469.4035\\t0.2179\\t0.02172\\t0.1277\\t0.01949\\n', '470.3718\\t0.28\\t0.01973\\t0.1951\\t0.01799\\n', '472.372\\t0.3219\\t0.02151\\t0.3274\\t0.02046\\n', '473.3751\\t0.3564\\t0.02146\\t0.3658\\t0.02056\\n', '473.4812\\t0.3627\\t0.02051\\t0.3658\\t0.02013\\n', '474.3769\\t0.3842\\t0.02083\\t0.4145\\t0.02085\\n', '474.5043\\t0.3957\\t0.02101\\t0.3977\\t0.0206\\n', '475.3844\\t0.3893\\t0.02048\\t0.4355\\t0.02116\\n', '475.4771\\t0.3983\\t0.02155\\t0.4421\\t0.02171\\n', '476.3645\\t0.3602\\t0.02047\\t0.4289\\t0.02106\\n', '476.4659\\t0.369\\t0.02166\\t0.4236\\t0.02194\\n', '477.362\\t0.3329\\t0.02109\\t0.3887\\t0.02047\\n', '477.4651\\t0.3207\\t0.01988\\t0.3823\\t0.02037\\n', '478.3772\\t0.2451\\t0.01874\\t0.3335\\t0.01965\\n', '480.3733\\t0.0617\\t0.01727\\t0.1572\\t0.01784\\n', '480.4746\\t0.04906\\t0.01617\\t0.169\\t0.01723\\n', '481.5282\\t-0.04852\\t0.01594\\t0.06512\\t0.01642\\n', '483.4546\\t-0.2802\\t0.01562\\t-0.1539\\t0.01509\\n', '483.5582\\t-0.2907\\t0.0149\\t-0.1555\\t0.01459\\n', '484.3706\\t-0.3737\\t-0.0105\\t-0.239\\t0.01204\\n', '484.525\\t-0.3632\\t0.01382\\t-0.239\\t0.01315\\n', '485.3768\\t-0.457\\t0.01141\\t-0.3304\\t0.01157\\n', '486.4098\\t-0.5192\\t0.01569\\t-0.4087\\t0.01283\\n', '488.4375\\t-0.5429\\t0.02402\\t-0.44\\t0.01689\\n', '489.3818\\t-0.456\\t0.01143\\t-0.3961\\t0.01044\\n', '491.3675\\t-0.2715\\t0.01433\\t-0.2508\\t0.0138\\n', '492.528\\t-0.1022\\t0.01825\\t-0.1539\\t0.01509\\n', '494.3704\\t0.1005\\t0.01844\\t0.03133\\t0.01678\\n', '495.3521\\t-0.007334\\t-99\\t0.1582\\t0.01941\\n', '497.3512\\t0.4048\\t0.02286\\t0.3861\\t0.02086\\n', '499.3788\\t0.4468\\t0.03039\\t0.4703\\t0.02892\\n', '500.3589\\t0.5011\\t0.02375\\t0.4635\\t0.02256\\n', '501.358\\t0.4642\\t0.02257\\t0.4528\\t0.02187\\n', '502.3934\\t0.4112\\t0.02124\\t0.4236\\t0.02098\\n', '503.3527\\t0.3207\\t0.02089\\t0.3286\\t0.02\\n', '504.3569\\t0.2156\\t0.01923\\t0.2759\\t0.0192\\n', '504.8163\\t0.1535\\t0.02195\\t0.2331\\t0.02131\\n', '507.3967\\t-0.05027\\t0.02485\\t-0.00597\\t0.023\\n', '508.4951\\t-0.1266\\t0.02492\\t-0.06546\\t0.02162\\n', '509.48\\t-0.1939\\t0.02172\\t-0.1366\\t0.01935\\n', '510.416\\t-0.2302\\t0.0133\\t-0.1732\\t0.01308\\n', '511.3531\\t-0.2749\\t-0.01215\\t-0.2291\\t0.0122\\n', '511.8122\\t-0.2953\\t0.01298\\t-0.2383\\t0.01205\\n', '512.3419\\t-0.2881\\t0.01158\\t-0.2624\\t0.01167\\n', '515.4044\\t-0.202\\t0.02088\\t-0.2563\\t0.01614\\n', '517.3567\\t0.1858\\t0.03289\\t-0.001382\\t0.02459\\n', '517.7624\\t0.3403\\t-0.03301\\t0.02188\\t0.02364\\n', '518.771\\t0.2682\\t-0.03619\\t0.1236\\t0.02518\\n', '519.7548\\t-0.003677\\t-0.06036\\t0.155\\t-0.03113\\n', '520.3519\\t0.406\\t0.02288\\t0.2445\\t0.01918\\n', '520.7558\\t0.5502\\t-0.03474\\t0.2491\\t0.02539\\n', '521.3458\\t0.4629\\t0.02202\\t0.3213\\t0.01947\\n', '522.3423\\t0.4521\\t-0.05974\\t0.3861\\t-0.05225\\n', '522.7563\\t1.082\\t-0.1411\\t0.4703\\t-0.105\\n', '523.3412\\t0.529\\t0.02642\\t0.4839\\t0.02414\\n', '524.8136\\t0.515\\t0.02702\\t0.5353\\t0.02498\\n', '527.8278\\t0.2428\\t-0.04685\\t0.3684\\t-0.04015\\n', '528.757\\t0.145\\t-0.0704\\t0.3189\\t-0.06\\n', '529.3408\\t0.1706\\t0.01962\\t0.2665\\t0.01952\\n', '529.753\\t0.0985\\t0.01959\\t0.2084\\t0.01912\\n', '530.3485\\t0.03848\\t0.01643\\t0.155\\t0.01738\\n', '531.3421\\t-0.1721\\t0.02702\\t0.04472\\t0.02898\\n', '532.3878\\t-0.2749\\t0.02366\\t-0.1547\\t0.02018\\n', '533.3466\\t-0.4144\\t0.01487\\t-0.3167\\t0.01483\\n', '533.8035\\t-0.4335\\t0.02184\\t-0.3588\\t0.02092\\n', '534.3461\\t-0.5667\\t0.02086\\t-0.4232\\t0.02125\\n', '538.3398\\t-0.7223\\t-0.04391\\t-0.6894\\t-0.03574\\n', '538.7568\\t-0.6991\\t0.02366\\t-0.614\\t0.0196\\n', '539.382\\t-0.612\\t0.01202\\t-0.5617\\t0.0108\\n', '539.7298\\t-0.5797\\t0.02135\\t-0.5181\\t0.01899\\n', '540.3441\\t-0.4708\\t0.01111\\t-0.4472\\t0.009861\\n', '540.7508\\t-0.4288\\t0.0128\\t-0.4016\\t0.01216\\n', '541.3425\\t-0.3399\\t0.01342\\t-0.3298\\t0.01235\\n', '541.7375\\t-0.3075\\t0.01812\\t-0.2878\\t0.01596\\n', '542.3935\\t-0.1931\\t0.01987\\t-0.18\\t0.01613\\n', '542.715\\t-0.1675\\t0.02376\\t-0.1524\\t0.02088\\n', '543.4146\\t-0.1202\\t0.07876\\t0.1267\\t0.05126\\n', '544.8323\\t0.219\\t0.02246\\t0.1466\\t0.01981\\n', '545.8076\\t0.293\\t0.01993\\t0.302\\t0.0196\\n', '546.3419\\t0.3868\\t0.02913\\t0.3759\\t0.02535\\n', '546.7535\\t0.3829\\t0.0225\\t0.3823\\t0.02131\\n', '548.7339\\t0.655\\t-0.04723\\t0.4408\\t0.03229\\n', '549.3392\\t0.5248\\t0.02555\\t0.4921\\t0.023\\n', '553.3441\\t0.2894\\t0.023\\t0.3311\\t0.02231\\n', '555.6757\\t0.1631\\t0.02364\\t0.1984\\t0.02138\\n', '556.6965\\t0.06267\\t0.02232\\t0.08793\\t0.02004\\n', '557.3459\\t0.01111\\t0.01924\\t0.04665\\t0.01809\\n', '557.6644\\t-0.01916\\t0.01807\\t0.01812\\t0.01759\\n', '558.3595\\t-0.01644\\t0.02807\\t-0.04192\\t0.02217\\n', '558.8109\\t-0.09967\\t0.01465\\t-0.04016\\t0.01519\\n', '559.7428\\t-0.1682\\t0.02508\\t-0.1009\\t0.02283\\n', '559.831\\t-0.1226\\t0.01616\\t-0.09677\\t0.01611\\n', '560.6437\\t-0.169\\t0.03275\\t-0.164\\t0.02658\\n', '560.7698\\t-0.1441\\t0.01629\\t-0.1398\\t0.01585\\n', '561.3563\\t-0.1426\\t0.01529\\t-0.1366\\t0.01492\\n', '561.7139\\t-0.1812\\t0.02017\\t-0.1793\\t0.01781\\n', '562.3528\\t-0.1796\\t0.01511\\t-0.1686\\t0.01437\\n', '563.3439\\t-0.1621\\t0.01595\\t-0.2205\\t0.0139\\n', '563.7478\\t-0.1465\\t0.02233\\t-0.2212\\t0.01859\\n', '565.3679\\t-0.05376\\t0.01923\\t-0.1724\\t0.01575\\n', '565.6329\\t-0.09468\\t0.01964\\t-0.1778\\t0.01671\\n', '566.6413\\t-0.02994\\t0.01787\\t-0.1254\\t0.0156\\n', '568.8152\\t0.1117\\t0.02335\\t0.002304\\t0.01971\\n', '571.6551\\t0.293\\t0.02167\\t0.2263\\t0.01995\\n', '571.8237\\t0.2753\\t0.02018\\t0.2286\\t0.01944\\n', '572.605\\t0.3428\\t0.0232\\t0.2829\\t0.0203\\n', '573.6393\\t0.3195\\t0.02431\\t0.3323\\t0.02233\\n', '573.8315\\t0.3292\\t0.02163\\t0.3372\\t0.02176\\n', '576.6665\\t0.3465\\t0.02648\\t0.2912\\t0.02231\\n', '576.7971\\t0.2485\\t0.01975\\t0.308\\t0.02016\\n', '577.8331\\t0.1397\\t-0.02894\\t0.2241\\t0.02656\\n', '578.6018\\t-0.4669\\t-0.04143\\t0.17\\t0.02622\\n', '578.822\\t0.08743\\t0.0194\\t0.182\\t0.01923\\n', '578.8316\\t0.1076\\t0.02179\\t0.2039\\t0.02081\\n', '580.6235\\t-0.02096\\t-0.02411\\t0.04761\\t0.01869\\n', '580.8222\\t-0.03883\\t0.01714\\t0.04954\\t0.0166\\n', '581.6221\\t-0.07189\\t-0.01949\\t-0.01145\\t0.01708\\n', '584.8008\\t-0.4515\\t-0.0491\\t-0.3249\\t0.03789\\n', '585.6108\\t-0.4387\\t0.02358\\t-0.3564\\t0.01889\\n', '585.817\\t-0.4469\\t0.0124\\t-0.3588\\t0.0122\\n', '586.5894\\t-0.4747\\t0.02025\\t-0.4114\\t0.01727\\n', '586.8148\\t-0.4979\\t0.02461\\t-0.4168\\t0.02099\\n', '587.6005\\t-0.5161\\t0.01824\\t-0.4602\\t0.01584\\n', '587.8179\\t-0.4946\\t0.01061\\t-0.4369\\t0.01108\\n', '588.6314\\t-0.5066\\t0.01253\\t-0.428\\t0.01163\\n', '589.7524\\t-0.5111\\t-0.05134\\t-0.439\\t-0.0436\\n', '591.7407\\t-0.2057\\t0.02725\\t-0.2263\\t0.0227\\n', '592.5808\\t-0.08378\\t0.02838\\t-0.1578\\t0.02269\\n', '592.7999\\t-0.06244\\t0.02169\\t-0.1173\\t0.01854\\n', '593.5667\\t-0.01099\\t-0.03644\\t-0.04808\\t-0.03027\\n', '593.7986\\t0.1046\\t0.02035\\t0.02944\\t0.01779\\n', '594.5767\\t0.2123\\t0.02032\\t0.1225\\t0.01776\\n', '595.5666\\t0.2729\\t0.02133\\t0.2128\\t0.01869\\n', '595.8057\\t0.3366\\t0.02175\\t0.2252\\t0.01888\\n', '596.5834\\t0.1978\\t-0.06615\\t0.2388\\t-0.0467\\n', '597.6674\\t-0.007334\\t-99\\t0.3201\\t-0.09304\\n', '597.7841\\t0.4508\\t0.02431\\t0.3785\\t0.02243\\n', '597.8022\\t0.4615\\t0.02449\\t0.3964\\t0.02209\\n', '598.5636\\t0.5531\\t0.0277\\t0.4328\\t0.02401\\n', '599.5488\\t0.4928\\t0.02429\\t0.4555\\t0.02243\\n', '600.5507\\t0.4243\\t0.02541\\t0.4541\\t0.02301\\n', '601.5289\\t0.4296\\t0.02633\\t0.4368\\t0.02273\\n', '601.8234\\t0.3944\\t0.02269\\t0.3887\\t0.0214\\n', '602.7496\\t0.2847\\t0.0222\\t0.314\\t0.02079\\n', '603.7822\\t0.2348\\t0.01954\\t0.27\\t0.01911\\n']\n"
     ]
    }
   ],
   "source": [
    "# indata is a list of strings:\n",
    "print(indata)"
   ]
  },
  {
   "cell_type": "markdown",
   "metadata": {},
   "source": [
    "We see lots of \\t characters, this means the data are tabulator (tab) - separated.\n",
    "We also see a \\n at the end of each entry. That's a new line character. We'll get rid of it later.\n",
    "\n",
    "\n",
    "Now, let's process the data.\n",
    "\n",
    "First, from above, we know that we don't want the first two lines, because they don't contain data.\n",
    "That's easy:"
   ]
  },
  {
   "cell_type": "code",
   "execution_count": 65,
   "metadata": {},
   "outputs": [
    {
     "name": "stdout",
     "output_type": "stream",
     "text": [
      "Time\tBlue\tBlueSD\tRed\tRedSD\n",
      "\n",
      "202.6288\t0.4887\t0.117\t0.4949\t0.02505\n",
      "\n"
     ]
    }
   ],
   "source": [
    "print(indata[0])\n",
    "print(indata[1])"
   ]
  },
  {
   "cell_type": "code",
   "execution_count": 66,
   "metadata": {},
   "outputs": [
    {
     "data": {
      "text/plain": [
       "'202.6288\\t0.4887\\t0.117\\t0.4949\\t0.02505\\n'"
      ]
     },
     "execution_count": 66,
     "metadata": {},
     "output_type": "execute_result"
    }
   ],
   "source": [
    "# so let's git rid of these:\n",
    "indata.pop(0) # remove top element\n",
    "indata.pop(0) # remove top element"
   ]
  },
  {
   "cell_type": "code",
   "execution_count": 67,
   "metadata": {},
   "outputs": [
    {
     "name": "stdout",
     "output_type": "stream",
     "text": [
      "205.7931\t0.2359\t0.0286\t0.2853\t0.027\n",
      "\n"
     ]
    }
   ],
   "source": [
    "print(indata[0]) # -- so that's data"
   ]
  },
  {
   "cell_type": "code",
   "execution_count": 68,
   "metadata": {},
   "outputs": [
    {
     "name": "stdout",
     "output_type": "stream",
     "text": [
      "343\n"
     ]
    }
   ],
   "source": [
    "# first, make a 2D numpy array. We have 5 columns and a length of:\n",
    "n = len(indata)\n",
    "print(n)"
   ]
  },
  {
   "cell_type": "code",
   "execution_count": 69,
   "metadata": {},
   "outputs": [
    {
     "name": "stdout",
     "output_type": "stream",
     "text": [
      "(343, 5)\n"
     ]
    }
   ],
   "source": [
    "# let's make the array:\n",
    "inarr = np.zeros( (n, 5))\n",
    "# so this has 5 columns and n rows -- python is row-major\n",
    "print(inarr.shape)"
   ]
  },
  {
   "cell_type": "code",
   "execution_count": 70,
   "metadata": {},
   "outputs": [
    {
     "name": "stdout",
     "output_type": "stream",
     "text": [
      "['205.7931', '0.2359', '0.0286', '0.2853', '0.027\\n']\n",
      "['206.8021', '0.1545', '0.02127', '0.205', '0.02149\\n']\n",
      "['209.823', '-0.09302', '0.01784', '-0.04896', '0.0181\\n']\n",
      "['210.8108', '-0.1567', '0.02407', '-0.08673', '0.02181\\n']\n",
      "['211.7849', '-0.2108', '0.01502', '-0.1717', '0.01477\\n']\n",
      "['212.6712', '-0.1954', '0.02964', '-0.1785', '0.02545\\n']\n",
      "['213.7561', '-0.3363', '0.02445', '-0.246', '0.02152\\n']\n",
      "['218.7758', '0.08443', '0.02064', '-0.03662', '0.01895\\n']\n",
      "['219.8242', '0.1792', '0.02477', '0.0266', '0.02019\\n']\n",
      "['220.776', '0.2601', '0.02734', '0.1041', '0.02319\\n']\n",
      "['226.7787', '0.3539', '0.02577', '0.3848', '0.02321\\n']\n",
      "['228.7733', '-0.007334', '-99', '0.3152', '0.02762\\n']\n",
      "['232.6753', '-0.1112', '-0.01489', '0.01114', '-99\\n']\n",
      "['233.758', '-0.2601', '0.01408', '0.01114', '-99\\n']\n",
      "['259.6066', '-0.1721', '0.01387', '-0.09843', '0.01511\\n']\n",
      "['261.618', '-0.2756', '0.01624', '-0.2038', '0.01618\\n']\n",
      "['261.6642', '-0.3189', '-0.01431', '-0.2432', '0.01538\\n']\n",
      "['261.7043', '-0.2742', '0.01475', '-0.2404', '0.01596\\n']\n",
      "['261.7801', '-0.2921', '0.01908', '-0.2198', '0.01805\\n']\n",
      "['262.5851', '-0.3107', '0.01229', '-0.2752', '0.01335\\n']\n",
      "['264.6492', '-0.335', '0.02115', '-0.3008', '0.01884\\n']\n",
      "['265.7041', '-0.2216', '-0.01482', '-0.2719', '0.01386\\n']\n",
      "['269.7287', '0.3403', '0.0212', '0.1754', '0.01912\\n']\n",
      "['271.7101', '0.4256', '0.02543', '0.3225', '0.02285\\n']\n",
      "['272.6892', '0.4914', '0.02245', '0.4171', '0.02089\\n']\n",
      "['272.692', '0.4805', '0.02342', '0.4448', '0.02227\\n']\n",
      "['272.7019', '0.5038', '0.0252', '0.4106', '0.02295\\n']\n",
      "['272.7082', '0.5262', '0.02249', '0.4106', '0.02079\\n']\n",
      "['273.7376', '0.5403', '0.02506', '0.4771', '0.02337\\n']\n",
      "['278.7684', '0.2394', '0.02603', '0.3335', '0.02989\\n']\n",
      "['278.7747', '0.2497', '0.01977', '0.325', '0.01994\\n']\n",
      "['283.5562', '-0.3591', '0.02091', '-0.1905', '0.01645\\n']\n",
      "['283.6081', '-0.3626', '0.01718', '-0.1838', '0.01554\\n']\n",
      "['284.5422', '-0.4149', '0.01764', '-0.2705', '0.01532\\n']\n",
      "['285.4272', '-0.4635', '0.01055', '-0.3463', '0.0113\\n']\n",
      "['285.5365', '-0.5048', '0.01146', '-0.3763', '0.01149\\n']\n",
      "['285.6634', '-0.5093', '0.01065', '-0.3763', '0.01078\\n']\n",
      "['286.5452', '-0.5667', '0.009711', '-0.4507', '0.01045\\n']\n",
      "['291.7264', '-0.3018', '0.0172', '-0.2812', '0.0156\\n']\n",
      "['292.5784', '-0.1849', '0.02796', '-0.2111', '0.02315\\n']\n",
      "['293.6626', '-0.05463', '0.01686', '-0.09343', '0.01617\\n']\n",
      "['295.6912', '0.1749', '0.01768', '0.1733', '0.01699\\n']\n",
      "['296.5012', '0.2659', '0.01951', '0.2377', '0.01908\\n']\n",
      "['297.477', '0.3292', '0.02049', '0.3274', '0.02046\\n']\n",
      "['300.6967', '0.471', '0.03964', '0.4528', '0.03469\\n']\n",
      "['304.4445', '0.2894', '-0.023', '0.3225', '0.02152\\n']\n",
      "['305.4802', '0.2257', '0.01994', '0.2422', '0.01915\\n']\n",
      "['306.4279', '0.1387', '0.02098', '0.183', '0.01983\\n']\n",
      "['306.663', '0.1179', '0.01769', '0.1765', '0.01734\\n']\n",
      "['307.4311', '0.06267', '0.03467', '0.1194', '-0.02757\\n']\n",
      "['308.4151', '-0.03172', '0.02101', '0.02471', '0.01888\\n']\n",
      "['308.6136', '-0.02636', '0.01632', '0.001382', '0.01584\\n']\n",
      "['309.7462', '-0.06675', '0.01776', '-0.03306', '0.01725\\n']\n",
      "['310.4586', '-0.1274', '0.01661', '-0.08757', '0.01577\\n']\n",
      "['310.6732', '-0.1378', '0.01538', '-0.1124', '0.01444\\n']\n",
      "['312.524', '-0.1812', '-0.05108', '-0.206', '-0.03543\\n']\n",
      "['314.5944', '-0.2245', '0.01969', '-0.2522', '0.01676\\n']\n",
      "['315.4567', '-0.1879', '0.01496', '-0.2549', '0.01373\\n']\n",
      "['316.4889', '-0.1346', '0.01495', '-0.2068', '0.01371\\n']\n",
      "['316.6468', '-0.1202', '0.01731', '-0.1709', '0.01389\\n']\n",
      "['318.5465', '0.001844', '0.01731', '-0.06803', '0.01562\\n']\n",
      "['318.6713', '0', '0.01784', '-0.02141', '0.01508\\n']\n",
      "['324.5791', '0.3452', '0.02734', '0.3759', '0.02619\\n']\n",
      "['324.7026', '0.4164', '0.02696', '0.3874', '0.02556\\n']\n",
      "['325.6285', '0.3715', '0.02021', '0.3912', '0.0205\\n']\n",
      "['326.4835', '0.3804', '0.02078', '0.381', '0.02079\\n']\n",
      "['341.6338', '-0.3919', '0.01984', '-0.3384', '0.0168\\n']\n",
      "['342.4685', '-0.3063', '0.01924', '-0.2812', '0.01611\\n']\n",
      "['342.607', '-0.2769', '0.01949', '-0.2645', '0.01596\\n']\n",
      "['342.7129', '-0.2532', '0.01518', '-0.2383', '0.01359\\n']\n",
      "['343.4633', '-0.1567', '0.01554', '-0.177', '0.01422\\n']\n",
      "['343.5872', '-0.1218', '0.01785', '-0.1586', '0.01501\\n']\n",
      "['343.7243', '-0.08967', '0.01912', '-0.1302', '0.01551\\n']\n",
      "['344.6893', '0.06267', '0.02232', '0.02188', '0.01823\\n']\n",
      "['344.7082', '0.04809', '0.01756', '-0.01145', '0.01524\\n']\n",
      "['344.7263', '0.08543', '0.01766', '-0.002301', '0.01538\\n']\n",
      "['350.7406', '0.6398', '-0.03333', '0.6136', '-0.03501\\n']\n",
      "['351.5138', '0.6444', '0.02601', '0.6361', '0.02522\\n']\n",
      "['360.6562', '-0.1827', '0.0137', '-0.1294', '0.01416\\n']\n",
      "['360.6682', '-0.1819', '0.01414', '-0.1214', '0.01472\\n']\n",
      "['361.463', '-0.2414', '0.01353', '-0.177', '0.01422\\n']\n",
      "['361.588', '-0.2546', '-0.03261', '-0.2126', '-0.02701\\n']\n",
      "['361.5927', '-0.2573', '0.02736', '-0.192', '0.02371\\n']\n",
      "['361.5975', '-0.2635', '0.02342', '-0.2075', '0.02198\\n']\n",
      "['361.636', '-0.2449', '0.01535', '-0.1845', '0.01552\\n']\n",
      "['362.4929', '-0.2635', '0.01273', '-0.2162', '0.01313\\n']\n",
      "['362.6085', '-0.2855', '0.01101', '-0.239', '0.01204\\n']\n",
      "['362.6512', '-0.258', '0.01282', '-0.2263', '0.01259\\n']\n",
      "['362.7226', '-0.2762', '0.01333', '-0.2453', '0.01265\\n']\n",
      "['364.4764', '-0.3164', '0.01112', '-0.3021', '0.01104\\n']\n",
      "['364.6041', '-0.3132', '0.01151', '-0.2806', '0.01171\\n']\n",
      "['364.6543', '-0.2973', '0.01112', '-0.3117', '0.0112\\n']\n",
      "['365.4652', '-0.2802', '0.01416', '-0.2911', '0.01349\\n']\n",
      "['365.6597', '-0.247', '0.01262', '-0.3129', '0.01187\\n']\n",
      "['366.5975', '-0.1652', '0.01697', '-0.2611', '0.01502\\n']\n",
      "['372.5016', '0.4243', '0.02541', '0.3483', '0.0226\\n']\n",
      "['373.4388', '0.4441', '0.02174', '0.4145', '0.02129\\n']\n",
      "['373.5526', '0.4655', '0.02259', '0.4028', '0.02067\\n']\n",
      "['373.6763', '0.4805', '0.02282', '0.4368', '0.02163\\n']\n",
      "['375.4404', '0.4983', '0.02255', '0.4812', '0.02183\\n']\n",
      "['375.5504', '0.49', '0.02357', '0.5255', '0.02296\\n']\n",
      "['375.6682', '0.4914', '0.0236', '0.4771', '0.02223\\n']\n",
      "['377.4544', '0.4035', '0.02283', '0.4119', '0.02234\\n']\n",
      "['377.6339', '0.4125', '0.03166', '0.39', '0.02646\\n']\n",
      "['378.4436', '0.3378', '0.01972', '0.3583', '0.02002\\n']\n",
      "['378.6355', '0.317', '0.02084', '0.3335', '0.02055\\n']\n",
      "['379.4413', '0.2303', '0.02002', '0.2912', '0.02043\\n']\n",
      "['380.4798', '0.1251', '0.02603', '0.1962', '0.02431\\n']\n",
      "['380.6289', '0.09245', '0.01777', '0.1722', '0.01854\\n']\n",
      "['381.4331', '0.005542', '0.01591', '0.09799', '0.01692\\n']\n",
      "['383.4504', '-0.2736', '0.01217', '-0.1516', '0.0138\\n']\n",
      "['383.6344', '-0.3031', '0.01464', '-0.1694', '0.0153\\n']\n",
      "['384.4443', '-0.3561', '0.01537', '-0.257', '0.01461\\n']\n",
      "['384.6121', '-0.4041', '0.01172', '-0.2712', '0.01259\\n']\n",
      "['387.5243', '-0.007334', '-99', '-0.5234', '0.008781\\n']\n",
      "['387.6142', '-0.6332', '0.007214', '-0.5295', '0.007885\\n']\n",
      "['388.5296', '-0.6181', '0.01538', '-0.5431', '0.01491\\n']\n",
      "['388.6131', '-0.624', '0.01579', '-0.5621', '0.01429\\n']\n",
      "['391.619', '-0.3344', '0.01639', '-0.3173', '0.01481\\n']\n",
      "['391.7521', '-0.3183', '0.02804', '-0.3072', '0.02261\\n']\n",
      "['392.4391', '-0.2223', '0.01303', '-0.2418', '0.01271\\n']\n",
      "['392.5699', '-0.2158', '0.01276', '-0.2177', '0.01238\\n']\n",
      "['393.4424', '-0.1063', '0.01646', '-0.1366', '0.0159\\n']\n",
      "['393.6028', '-0.07274', '0.01509', '-0.09926', '0.01425\\n']\n",
      "['395.477', '0.2303', '0.01852', '0.1787', '0.01774\\n']\n",
      "['395.5958', '0.2474', '0.01838', '0.1973', '0.01765\\n']\n",
      "['397.5304', '0.4777', '0.02404', '0.4595', '0.0225\\n']\n",
      "['397.713', '0.5389', '0.02435', '0.4798', '0.02227\\n']\n",
      "['398.4433', '0.5488', '0.02331', '0.5059', '0.02219\\n']\n",
      "['398.5886', '0.6278', '0.02399', '0.551', '0.02245\\n']\n",
      "['401.4381', '0.5191', '0.0271', '0.5045', '0.0238\\n']\n",
      "['401.7566', '-0.007334', '-99', '0.5367', '0.02831\\n']\n",
      "['402.4698', '0.4629', '0.02255', '0.488', '0.02193\\n']\n",
      "['402.5029', '0.4887', '0.02295', '0.4528', '0.02187\\n']\n",
      "['402.6851', '0.4696', '0.02463', '0.4368', '0.02215\\n']\n",
      "['406.4399', '0.12', '0.01772', '0.1604', '0.01789\\n']\n",
      "['408.4608', '-0.0406', '0.01887', '-0.04457', '0.0176\\n']\n",
      "['409.4364', '-0.1169', '0.01681', '-0.09093', '0.01622\\n']\n",
      "['409.5539', '-0.1682', '0.04371', '-0.1157', '0.03258\\n']\n",
      "['411.486', '-0.2351', '0.0121', '-0.1928', '0.01244\\n']\n",
      "['412.5629', '-0.2518', '0.01472', '-0.2376', '0.0136\\n']\n",
      "['413.6426', '-0.2566', '0.01831', '-0.2786', '0.01617\\n']\n",
      "['414.4222', '-0.223', '-0.01343', '-0.239', '0.01275\\n']\n",
      "['414.6533', '-0.1961', '0.01347', '-0.2542', '0.01213\\n']\n",
      "['417.4818', '0.02612', '0.0172', '-0.07402', '0.01552\\n']\n",
      "['417.6842', '0.03371', '0.02101', '-0.06632', '0.01777\\n']\n",
      "['418.6203', '0.1117', '0.02048', '-0.02501', '0.01739\\n']\n",
      "['419.4413', '0.2089', '0.01913', '0.08993', '0.01724\\n']\n",
      "['420.4388', '0.3183', '0.01943', '0.1918', '0.01756\\n']\n",
      "['420.5401', '0.3366', '0.02115', '0.1984', '-0.01847\\n']\n",
      "['421.6039', '0.3354', '0.02714', '0.2759', '0.02428\\n']\n",
      "['422.4231', '0.3983', '0.02105', '0.3596', '0.02046\\n']\n",
      "['422.5291', '0.4322', '0.02156', '0.3658', '0.02013\\n']\n",
      "['423.5797', '0.4269', '-0.03734', '0.3977', '-0.03234\\n']\n",
      "['424.4889', '0.471', '0.02893', '0.4743', '0.0263\\n']\n",
      "['425.4192', '0.4602', '0.0231', '0.4894', '0.02296\\n']\n",
      "['425.5226', '0.4602', '0.02251', '0.4568', '0.02193\\n']\n",
      "['426.4189', '0.4335', '0.02268', '0.4703', '0.02213\\n']\n",
      "['426.5605', '0.4243', '0.02253', '0.4488', '0.02292\\n']\n",
      "['427.5826', '0.3256', '0.02364', '0.3989', '0.02344\\n']\n",
      "['428.4154', '0.2847', '0.0209', '0.3521', '0.02084\\n']\n",
      "['430.5249', '-0.007334', '-99', '0.1308', '0.01954\\n']\n",
      "['432.6515', '-0.1894', '0.02058', '-0.03927', '0.01714\\n']\n",
      "['435.4065', '-0.4644', '0.01125', '-0.3242', '0.01168\\n']\n",
      "['436.4164', '-0.5433', '0.009282', '-0.4125', '0.01015\\n']\n",
      "['437.3997', '-0.5975', '0.008455', '-0.493', '0.008761\\n']\n",
      "['437.5267', '-0.5574', '0.07973', '-0.428', '0.05746\\n']\n",
      "['437.6433', '-0.5835', '0.0129', '-0.5145', '0.0102\\n']\n",
      "['438.4022', '-0.6142', '0.007843', '-0.5073', '0.008257\\n']\n",
      "['438.5828', '-0.6045', '0.01004', '-0.5131', '0.008969\\n']\n",
      "['439.4002', '-0.5484', '0.0098', '-0.4482', '0.009843\\n']\n",
      "['441.4994', '-0.2953', '0.01257', '-0.2759', '0.01146\\n']\n",
      "['441.6364', '-0.2776', '0.01421', '-0.2651', '0.01231\\n']\n",
      "['442.4337', '-0.1961', '0.01308', '-0.1724', '0.01276\\n']\n",
      "['442.6195', '-0.1636', '0.01361', '-0.1785', '0.01266\\n']\n",
      "['443.5042', '-0.0753', '0.01598', '-0.08757', '0.01444\\n']\n",
      "['444.3941', '0.05099', '0.01936', '0.004152', '0.01735\\n']\n",
      "['444.5359', '0.08243', '0.01931', '0.02849', '0.01724\\n']\n",
      "['445.4512', '0.228', '0.01848', '0.1657', '0.01718\\n']\n",
      "['446.405', '0.3268', '0.02045', '0.3032', '0.01921\\n']\n",
      "['446.556', '0.3791', '0.02076', '0.3286', '0.01923\\n']\n",
      "['451.3908', '0.4832', '0.02347', '0.4921', '0.02246\\n']\n",
      "['451.5277', '0.515', '0.02702', '0.499', '0.0259\\n']\n",
      "['452.382', '0.4615', '0.02449', '0.4555', '0.02303\\n']\n",
      "['452.6425', '0.4629', '0.02784', '0.4474', '0.02501\\n']\n",
      "['453.4326', '0.3753', '0.02238', '0.4041', '0.02113\\n']\n",
      "['453.5773', '0.3932', '0.02408', '0.39', '0.02142\\n']\n",
      "['454.4226', '0.299', '0.02177', '0.3116', '0.02075\\n']\n",
      "['455.6689', '0.2717', '0.02671', '0.263', '0.02253\\n']\n",
      "['457.4886', '0.06365', '0.01731', '0.08993', '0.0164\\n']\n",
      "['459.438', '-0.07615', '0.02346', '-0.07061', '0.01828\\n']\n",
      "['460.3781', '-0.1879', '0.02854', '-0.1278', '0.02148\\n']\n",
      "['460.5019', '-0.1567', '0.03179', '-0.1157', '0.02111\\n']\n",
      "['461.4197', '-0.1636', '0.01815', '-0.1671', '0.01534\\n']\n",
      "['462.4048', '-0.2049', '0.01564', '-0.1965', '0.01433\\n']\n",
      "['463.4119', '-0.1946', '0.01437', '-0.2177', '0.01311\\n']\n",
      "['463.5302', '-0.2108', '0.01658', '-0.2119', '0.01452\\n']\n",
      "['464.532', '-0.1582', '0.01501', '-0.214', '0.01317\\n']\n",
      "['469.4035', '0.2179', '0.02172', '0.1277', '0.01949\\n']\n",
      "['470.3718', '0.28', '0.01973', '0.1951', '0.01799\\n']\n",
      "['472.372', '0.3219', '0.02151', '0.3274', '0.02046\\n']\n",
      "['473.3751', '0.3564', '0.02146', '0.3658', '0.02056\\n']\n",
      "['473.4812', '0.3627', '0.02051', '0.3658', '0.02013\\n']\n",
      "['474.3769', '0.3842', '0.02083', '0.4145', '0.02085\\n']\n",
      "['474.5043', '0.3957', '0.02101', '0.3977', '0.0206\\n']\n",
      "['475.3844', '0.3893', '0.02048', '0.4355', '0.02116\\n']\n",
      "['475.4771', '0.3983', '0.02155', '0.4421', '0.02171\\n']\n",
      "['476.3645', '0.3602', '0.02047', '0.4289', '0.02106\\n']\n",
      "['476.4659', '0.369', '0.02166', '0.4236', '0.02194\\n']\n",
      "['477.362', '0.3329', '0.02109', '0.3887', '0.02047\\n']\n",
      "['477.4651', '0.3207', '0.01988', '0.3823', '0.02037\\n']\n",
      "['478.3772', '0.2451', '0.01874', '0.3335', '0.01965\\n']\n",
      "['480.3733', '0.0617', '0.01727', '0.1572', '0.01784\\n']\n",
      "['480.4746', '0.04906', '0.01617', '0.169', '0.01723\\n']\n",
      "['481.5282', '-0.04852', '0.01594', '0.06512', '0.01642\\n']\n",
      "['483.4546', '-0.2802', '0.01562', '-0.1539', '0.01509\\n']\n",
      "['483.5582', '-0.2907', '0.0149', '-0.1555', '0.01459\\n']\n",
      "['484.3706', '-0.3737', '-0.0105', '-0.239', '0.01204\\n']\n",
      "['484.525', '-0.3632', '0.01382', '-0.239', '0.01315\\n']\n",
      "['485.3768', '-0.457', '0.01141', '-0.3304', '0.01157\\n']\n",
      "['486.4098', '-0.5192', '0.01569', '-0.4087', '0.01283\\n']\n",
      "['488.4375', '-0.5429', '0.02402', '-0.44', '0.01689\\n']\n",
      "['489.3818', '-0.456', '0.01143', '-0.3961', '0.01044\\n']\n",
      "['491.3675', '-0.2715', '0.01433', '-0.2508', '0.0138\\n']\n",
      "['492.528', '-0.1022', '0.01825', '-0.1539', '0.01509\\n']\n",
      "['494.3704', '0.1005', '0.01844', '0.03133', '0.01678\\n']\n",
      "['495.3521', '-0.007334', '-99', '0.1582', '0.01941\\n']\n",
      "['497.3512', '0.4048', '0.02286', '0.3861', '0.02086\\n']\n",
      "['499.3788', '0.4468', '0.03039', '0.4703', '0.02892\\n']\n",
      "['500.3589', '0.5011', '0.02375', '0.4635', '0.02256\\n']\n",
      "['501.358', '0.4642', '0.02257', '0.4528', '0.02187\\n']\n",
      "['502.3934', '0.4112', '0.02124', '0.4236', '0.02098\\n']\n",
      "['503.3527', '0.3207', '0.02089', '0.3286', '0.02\\n']\n",
      "['504.3569', '0.2156', '0.01923', '0.2759', '0.0192\\n']\n",
      "['504.8163', '0.1535', '0.02195', '0.2331', '0.02131\\n']\n",
      "['507.3967', '-0.05027', '0.02485', '-0.00597', '0.023\\n']\n",
      "['508.4951', '-0.1266', '0.02492', '-0.06546', '0.02162\\n']\n",
      "['509.48', '-0.1939', '0.02172', '-0.1366', '0.01935\\n']\n",
      "['510.416', '-0.2302', '0.0133', '-0.1732', '0.01308\\n']\n",
      "['511.3531', '-0.2749', '-0.01215', '-0.2291', '0.0122\\n']\n",
      "['511.8122', '-0.2953', '0.01298', '-0.2383', '0.01205\\n']\n",
      "['512.3419', '-0.2881', '0.01158', '-0.2624', '0.01167\\n']\n",
      "['515.4044', '-0.202', '0.02088', '-0.2563', '0.01614\\n']\n",
      "['517.3567', '0.1858', '0.03289', '-0.001382', '0.02459\\n']\n",
      "['517.7624', '0.3403', '-0.03301', '0.02188', '0.02364\\n']\n",
      "['518.771', '0.2682', '-0.03619', '0.1236', '0.02518\\n']\n",
      "['519.7548', '-0.003677', '-0.06036', '0.155', '-0.03113\\n']\n",
      "['520.3519', '0.406', '0.02288', '0.2445', '0.01918\\n']\n",
      "['520.7558', '0.5502', '-0.03474', '0.2491', '0.02539\\n']\n",
      "['521.3458', '0.4629', '0.02202', '0.3213', '0.01947\\n']\n",
      "['522.3423', '0.4521', '-0.05974', '0.3861', '-0.05225\\n']\n",
      "['522.7563', '1.082', '-0.1411', '0.4703', '-0.105\\n']\n",
      "['523.3412', '0.529', '0.02642', '0.4839', '0.02414\\n']\n",
      "['524.8136', '0.515', '0.02702', '0.5353', '0.02498\\n']\n",
      "['527.8278', '0.2428', '-0.04685', '0.3684', '-0.04015\\n']\n",
      "['528.757', '0.145', '-0.0704', '0.3189', '-0.06\\n']\n",
      "['529.3408', '0.1706', '0.01962', '0.2665', '0.01952\\n']\n",
      "['529.753', '0.0985', '0.01959', '0.2084', '0.01912\\n']\n",
      "['530.3485', '0.03848', '0.01643', '0.155', '0.01738\\n']\n",
      "['531.3421', '-0.1721', '0.02702', '0.04472', '0.02898\\n']\n",
      "['532.3878', '-0.2749', '0.02366', '-0.1547', '0.02018\\n']\n",
      "['533.3466', '-0.4144', '0.01487', '-0.3167', '0.01483\\n']\n",
      "['533.8035', '-0.4335', '0.02184', '-0.3588', '0.02092\\n']\n",
      "['534.3461', '-0.5667', '0.02086', '-0.4232', '0.02125\\n']\n",
      "['538.3398', '-0.7223', '-0.04391', '-0.6894', '-0.03574\\n']\n",
      "['538.7568', '-0.6991', '0.02366', '-0.614', '0.0196\\n']\n",
      "['539.382', '-0.612', '0.01202', '-0.5617', '0.0108\\n']\n",
      "['539.7298', '-0.5797', '0.02135', '-0.5181', '0.01899\\n']\n",
      "['540.3441', '-0.4708', '0.01111', '-0.4472', '0.009861\\n']\n",
      "['540.7508', '-0.4288', '0.0128', '-0.4016', '0.01216\\n']\n",
      "['541.3425', '-0.3399', '0.01342', '-0.3298', '0.01235\\n']\n",
      "['541.7375', '-0.3075', '0.01812', '-0.2878', '0.01596\\n']\n",
      "['542.3935', '-0.1931', '0.01987', '-0.18', '0.01613\\n']\n",
      "['542.715', '-0.1675', '0.02376', '-0.1524', '0.02088\\n']\n",
      "['543.4146', '-0.1202', '0.07876', '0.1267', '0.05126\\n']\n",
      "['544.8323', '0.219', '0.02246', '0.1466', '0.01981\\n']\n",
      "['545.8076', '0.293', '0.01993', '0.302', '0.0196\\n']\n",
      "['546.3419', '0.3868', '0.02913', '0.3759', '0.02535\\n']\n",
      "['546.7535', '0.3829', '0.0225', '0.3823', '0.02131\\n']\n",
      "['548.7339', '0.655', '-0.04723', '0.4408', '0.03229\\n']\n",
      "['549.3392', '0.5248', '0.02555', '0.4921', '0.023\\n']\n",
      "['553.3441', '0.2894', '0.023', '0.3311', '0.02231\\n']\n",
      "['555.6757', '0.1631', '0.02364', '0.1984', '0.02138\\n']\n",
      "['556.6965', '0.06267', '0.02232', '0.08793', '0.02004\\n']\n",
      "['557.3459', '0.01111', '0.01924', '0.04665', '0.01809\\n']\n",
      "['557.6644', '-0.01916', '0.01807', '0.01812', '0.01759\\n']\n",
      "['558.3595', '-0.01644', '0.02807', '-0.04192', '0.02217\\n']\n",
      "['558.8109', '-0.09967', '0.01465', '-0.04016', '0.01519\\n']\n",
      "['559.7428', '-0.1682', '0.02508', '-0.1009', '0.02283\\n']\n",
      "['559.831', '-0.1226', '0.01616', '-0.09677', '0.01611\\n']\n",
      "['560.6437', '-0.169', '0.03275', '-0.164', '0.02658\\n']\n",
      "['560.7698', '-0.1441', '0.01629', '-0.1398', '0.01585\\n']\n",
      "['561.3563', '-0.1426', '0.01529', '-0.1366', '0.01492\\n']\n",
      "['561.7139', '-0.1812', '0.02017', '-0.1793', '0.01781\\n']\n",
      "['562.3528', '-0.1796', '0.01511', '-0.1686', '0.01437\\n']\n",
      "['563.3439', '-0.1621', '0.01595', '-0.2205', '0.0139\\n']\n",
      "['563.7478', '-0.1465', '0.02233', '-0.2212', '0.01859\\n']\n",
      "['565.3679', '-0.05376', '0.01923', '-0.1724', '0.01575\\n']\n",
      "['565.6329', '-0.09468', '0.01964', '-0.1778', '0.01671\\n']\n",
      "['566.6413', '-0.02994', '0.01787', '-0.1254', '0.0156\\n']\n",
      "['568.8152', '0.1117', '0.02335', '0.002304', '0.01971\\n']\n",
      "['571.6551', '0.293', '0.02167', '0.2263', '0.01995\\n']\n",
      "['571.8237', '0.2753', '0.02018', '0.2286', '0.01944\\n']\n",
      "['572.605', '0.3428', '0.0232', '0.2829', '0.0203\\n']\n",
      "['573.6393', '0.3195', '0.02431', '0.3323', '0.02233\\n']\n",
      "['573.8315', '0.3292', '0.02163', '0.3372', '0.02176\\n']\n",
      "['576.6665', '0.3465', '0.02648', '0.2912', '0.02231\\n']\n",
      "['576.7971', '0.2485', '0.01975', '0.308', '0.02016\\n']\n",
      "['577.8331', '0.1397', '-0.02894', '0.2241', '0.02656\\n']\n",
      "['578.6018', '-0.4669', '-0.04143', '0.17', '0.02622\\n']\n",
      "['578.822', '0.08743', '0.0194', '0.182', '0.01923\\n']\n",
      "['578.8316', '0.1076', '0.02179', '0.2039', '0.02081\\n']\n",
      "['580.6235', '-0.02096', '-0.02411', '0.04761', '0.01869\\n']\n",
      "['580.8222', '-0.03883', '0.01714', '0.04954', '0.0166\\n']\n",
      "['581.6221', '-0.07189', '-0.01949', '-0.01145', '0.01708\\n']\n",
      "['584.8008', '-0.4515', '-0.0491', '-0.3249', '0.03789\\n']\n",
      "['585.6108', '-0.4387', '0.02358', '-0.3564', '0.01889\\n']\n",
      "['585.817', '-0.4469', '0.0124', '-0.3588', '0.0122\\n']\n",
      "['586.5894', '-0.4747', '0.02025', '-0.4114', '0.01727\\n']\n",
      "['586.8148', '-0.4979', '0.02461', '-0.4168', '0.02099\\n']\n",
      "['587.6005', '-0.5161', '0.01824', '-0.4602', '0.01584\\n']\n",
      "['587.8179', '-0.4946', '0.01061', '-0.4369', '0.01108\\n']\n",
      "['588.6314', '-0.5066', '0.01253', '-0.428', '0.01163\\n']\n",
      "['589.7524', '-0.5111', '-0.05134', '-0.439', '-0.0436\\n']\n",
      "['591.7407', '-0.2057', '0.02725', '-0.2263', '0.0227\\n']\n",
      "['592.5808', '-0.08378', '0.02838', '-0.1578', '0.02269\\n']\n",
      "['592.7999', '-0.06244', '0.02169', '-0.1173', '0.01854\\n']\n",
      "['593.5667', '-0.01099', '-0.03644', '-0.04808', '-0.03027\\n']\n",
      "['593.7986', '0.1046', '0.02035', '0.02944', '0.01779\\n']\n",
      "['594.5767', '0.2123', '0.02032', '0.1225', '0.01776\\n']\n",
      "['595.5666', '0.2729', '0.02133', '0.2128', '0.01869\\n']\n",
      "['595.8057', '0.3366', '0.02175', '0.2252', '0.01888\\n']\n",
      "['596.5834', '0.1978', '-0.06615', '0.2388', '-0.0467\\n']\n",
      "['597.6674', '-0.007334', '-99', '0.3201', '-0.09304\\n']\n",
      "['597.7841', '0.4508', '0.02431', '0.3785', '0.02243\\n']\n",
      "['597.8022', '0.4615', '0.02449', '0.3964', '0.02209\\n']\n",
      "['598.5636', '0.5531', '0.0277', '0.4328', '0.02401\\n']\n",
      "['599.5488', '0.4928', '0.02429', '0.4555', '0.02243\\n']\n",
      "['600.5507', '0.4243', '0.02541', '0.4541', '0.02301\\n']\n",
      "['601.5289', '0.4296', '0.02633', '0.4368', '0.02273\\n']\n",
      "['601.8234', '0.3944', '0.02269', '0.3887', '0.0214\\n']\n",
      "['602.7496', '0.2847', '0.0222', '0.314', '0.02079\\n']\n",
      "['603.7822', '0.2348', '0.01954', '0.27', '0.01911\\n']\n"
     ]
    }
   ],
   "source": [
    "# now loop over indata and fill inarr:\n",
    "for i in range(len(indata)):\n",
    "    myline = indata[i].split(\"\\t\")   \n",
    "    print(myline)"
   ]
  },
  {
   "cell_type": "code",
   "execution_count": 71,
   "metadata": {},
   "outputs": [
    {
     "name": "stdout",
     "output_type": "stream",
     "text": [
      "['205.7931', '0.2359', '0.0286', '0.2853', '0.027']\n",
      "['206.8021', '0.1545', '0.02127', '0.205', '0.02149']\n",
      "['209.823', '-0.09302', '0.01784', '-0.04896', '0.0181']\n",
      "['210.8108', '-0.1567', '0.02407', '-0.08673', '0.02181']\n",
      "['211.7849', '-0.2108', '0.01502', '-0.1717', '0.01477']\n",
      "['212.6712', '-0.1954', '0.02964', '-0.1785', '0.02545']\n",
      "['213.7561', '-0.3363', '0.02445', '-0.246', '0.02152']\n",
      "['218.7758', '0.08443', '0.02064', '-0.03662', '0.01895']\n",
      "['219.8242', '0.1792', '0.02477', '0.0266', '0.02019']\n",
      "['220.776', '0.2601', '0.02734', '0.1041', '0.02319']\n",
      "['226.7787', '0.3539', '0.02577', '0.3848', '0.02321']\n",
      "['228.7733', '-0.007334', '-99', '0.3152', '0.02762']\n",
      "['232.6753', '-0.1112', '-0.01489', '0.01114', '-99']\n",
      "['233.758', '-0.2601', '0.01408', '0.01114', '-99']\n",
      "['259.6066', '-0.1721', '0.01387', '-0.09843', '0.01511']\n",
      "['261.618', '-0.2756', '0.01624', '-0.2038', '0.01618']\n",
      "['261.6642', '-0.3189', '-0.01431', '-0.2432', '0.01538']\n",
      "['261.7043', '-0.2742', '0.01475', '-0.2404', '0.01596']\n",
      "['261.7801', '-0.2921', '0.01908', '-0.2198', '0.01805']\n",
      "['262.5851', '-0.3107', '0.01229', '-0.2752', '0.01335']\n",
      "['264.6492', '-0.335', '0.02115', '-0.3008', '0.01884']\n",
      "['265.7041', '-0.2216', '-0.01482', '-0.2719', '0.01386']\n",
      "['269.7287', '0.3403', '0.0212', '0.1754', '0.01912']\n",
      "['271.7101', '0.4256', '0.02543', '0.3225', '0.02285']\n",
      "['272.6892', '0.4914', '0.02245', '0.4171', '0.02089']\n",
      "['272.692', '0.4805', '0.02342', '0.4448', '0.02227']\n",
      "['272.7019', '0.5038', '0.0252', '0.4106', '0.02295']\n",
      "['272.7082', '0.5262', '0.02249', '0.4106', '0.02079']\n",
      "['273.7376', '0.5403', '0.02506', '0.4771', '0.02337']\n",
      "['278.7684', '0.2394', '0.02603', '0.3335', '0.02989']\n",
      "['278.7747', '0.2497', '0.01977', '0.325', '0.01994']\n",
      "['283.5562', '-0.3591', '0.02091', '-0.1905', '0.01645']\n",
      "['283.6081', '-0.3626', '0.01718', '-0.1838', '0.01554']\n",
      "['284.5422', '-0.4149', '0.01764', '-0.2705', '0.01532']\n",
      "['285.4272', '-0.4635', '0.01055', '-0.3463', '0.0113']\n",
      "['285.5365', '-0.5048', '0.01146', '-0.3763', '0.01149']\n",
      "['285.6634', '-0.5093', '0.01065', '-0.3763', '0.01078']\n",
      "['286.5452', '-0.5667', '0.009711', '-0.4507', '0.01045']\n",
      "['291.7264', '-0.3018', '0.0172', '-0.2812', '0.0156']\n",
      "['292.5784', '-0.1849', '0.02796', '-0.2111', '0.02315']\n",
      "['293.6626', '-0.05463', '0.01686', '-0.09343', '0.01617']\n",
      "['295.6912', '0.1749', '0.01768', '0.1733', '0.01699']\n",
      "['296.5012', '0.2659', '0.01951', '0.2377', '0.01908']\n",
      "['297.477', '0.3292', '0.02049', '0.3274', '0.02046']\n",
      "['300.6967', '0.471', '0.03964', '0.4528', '0.03469']\n",
      "['304.4445', '0.2894', '-0.023', '0.3225', '0.02152']\n",
      "['305.4802', '0.2257', '0.01994', '0.2422', '0.01915']\n",
      "['306.4279', '0.1387', '0.02098', '0.183', '0.01983']\n",
      "['306.663', '0.1179', '0.01769', '0.1765', '0.01734']\n",
      "['307.4311', '0.06267', '0.03467', '0.1194', '-0.02757']\n",
      "['308.4151', '-0.03172', '0.02101', '0.02471', '0.01888']\n",
      "['308.6136', '-0.02636', '0.01632', '0.001382', '0.01584']\n",
      "['309.7462', '-0.06675', '0.01776', '-0.03306', '0.01725']\n",
      "['310.4586', '-0.1274', '0.01661', '-0.08757', '0.01577']\n",
      "['310.6732', '-0.1378', '0.01538', '-0.1124', '0.01444']\n",
      "['312.524', '-0.1812', '-0.05108', '-0.206', '-0.03543']\n",
      "['314.5944', '-0.2245', '0.01969', '-0.2522', '0.01676']\n",
      "['315.4567', '-0.1879', '0.01496', '-0.2549', '0.01373']\n",
      "['316.4889', '-0.1346', '0.01495', '-0.2068', '0.01371']\n",
      "['316.6468', '-0.1202', '0.01731', '-0.1709', '0.01389']\n",
      "['318.5465', '0.001844', '0.01731', '-0.06803', '0.01562']\n",
      "['318.6713', '0', '0.01784', '-0.02141', '0.01508']\n",
      "['324.5791', '0.3452', '0.02734', '0.3759', '0.02619']\n",
      "['324.7026', '0.4164', '0.02696', '0.3874', '0.02556']\n",
      "['325.6285', '0.3715', '0.02021', '0.3912', '0.0205']\n",
      "['326.4835', '0.3804', '0.02078', '0.381', '0.02079']\n",
      "['341.6338', '-0.3919', '0.01984', '-0.3384', '0.0168']\n",
      "['342.4685', '-0.3063', '0.01924', '-0.2812', '0.01611']\n",
      "['342.607', '-0.2769', '0.01949', '-0.2645', '0.01596']\n",
      "['342.7129', '-0.2532', '0.01518', '-0.2383', '0.01359']\n",
      "['343.4633', '-0.1567', '0.01554', '-0.177', '0.01422']\n",
      "['343.5872', '-0.1218', '0.01785', '-0.1586', '0.01501']\n",
      "['343.7243', '-0.08967', '0.01912', '-0.1302', '0.01551']\n",
      "['344.6893', '0.06267', '0.02232', '0.02188', '0.01823']\n",
      "['344.7082', '0.04809', '0.01756', '-0.01145', '0.01524']\n",
      "['344.7263', '0.08543', '0.01766', '-0.002301', '0.01538']\n",
      "['350.7406', '0.6398', '-0.03333', '0.6136', '-0.03501']\n",
      "['351.5138', '0.6444', '0.02601', '0.6361', '0.02522']\n",
      "['360.6562', '-0.1827', '0.0137', '-0.1294', '0.01416']\n",
      "['360.6682', '-0.1819', '0.01414', '-0.1214', '0.01472']\n",
      "['361.463', '-0.2414', '0.01353', '-0.177', '0.01422']\n",
      "['361.588', '-0.2546', '-0.03261', '-0.2126', '-0.02701']\n",
      "['361.5927', '-0.2573', '0.02736', '-0.192', '0.02371']\n",
      "['361.5975', '-0.2635', '0.02342', '-0.2075', '0.02198']\n",
      "['361.636', '-0.2449', '0.01535', '-0.1845', '0.01552']\n",
      "['362.4929', '-0.2635', '0.01273', '-0.2162', '0.01313']\n",
      "['362.6085', '-0.2855', '0.01101', '-0.239', '0.01204']\n",
      "['362.6512', '-0.258', '0.01282', '-0.2263', '0.01259']\n",
      "['362.7226', '-0.2762', '0.01333', '-0.2453', '0.01265']\n",
      "['364.4764', '-0.3164', '0.01112', '-0.3021', '0.01104']\n",
      "['364.6041', '-0.3132', '0.01151', '-0.2806', '0.01171']\n",
      "['364.6543', '-0.2973', '0.01112', '-0.3117', '0.0112']\n",
      "['365.4652', '-0.2802', '0.01416', '-0.2911', '0.01349']\n",
      "['365.6597', '-0.247', '0.01262', '-0.3129', '0.01187']\n",
      "['366.5975', '-0.1652', '0.01697', '-0.2611', '0.01502']\n",
      "['372.5016', '0.4243', '0.02541', '0.3483', '0.0226']\n",
      "['373.4388', '0.4441', '0.02174', '0.4145', '0.02129']\n",
      "['373.5526', '0.4655', '0.02259', '0.4028', '0.02067']\n",
      "['373.6763', '0.4805', '0.02282', '0.4368', '0.02163']\n",
      "['375.4404', '0.4983', '0.02255', '0.4812', '0.02183']\n",
      "['375.5504', '0.49', '0.02357', '0.5255', '0.02296']\n",
      "['375.6682', '0.4914', '0.0236', '0.4771', '0.02223']\n",
      "['377.4544', '0.4035', '0.02283', '0.4119', '0.02234']\n",
      "['377.6339', '0.4125', '0.03166', '0.39', '0.02646']\n",
      "['378.4436', '0.3378', '0.01972', '0.3583', '0.02002']\n",
      "['378.6355', '0.317', '0.02084', '0.3335', '0.02055']\n",
      "['379.4413', '0.2303', '0.02002', '0.2912', '0.02043']\n",
      "['380.4798', '0.1251', '0.02603', '0.1962', '0.02431']\n",
      "['380.6289', '0.09245', '0.01777', '0.1722', '0.01854']\n",
      "['381.4331', '0.005542', '0.01591', '0.09799', '0.01692']\n",
      "['383.4504', '-0.2736', '0.01217', '-0.1516', '0.0138']\n",
      "['383.6344', '-0.3031', '0.01464', '-0.1694', '0.0153']\n",
      "['384.4443', '-0.3561', '0.01537', '-0.257', '0.01461']\n",
      "['384.6121', '-0.4041', '0.01172', '-0.2712', '0.01259']\n",
      "['387.5243', '-0.007334', '-99', '-0.5234', '0.008781']\n",
      "['387.6142', '-0.6332', '0.007214', '-0.5295', '0.007885']\n",
      "['388.5296', '-0.6181', '0.01538', '-0.5431', '0.01491']\n",
      "['388.6131', '-0.624', '0.01579', '-0.5621', '0.01429']\n",
      "['391.619', '-0.3344', '0.01639', '-0.3173', '0.01481']\n",
      "['391.7521', '-0.3183', '0.02804', '-0.3072', '0.02261']\n",
      "['392.4391', '-0.2223', '0.01303', '-0.2418', '0.01271']\n",
      "['392.5699', '-0.2158', '0.01276', '-0.2177', '0.01238']\n",
      "['393.4424', '-0.1063', '0.01646', '-0.1366', '0.0159']\n",
      "['393.6028', '-0.07274', '0.01509', '-0.09926', '0.01425']\n",
      "['395.477', '0.2303', '0.01852', '0.1787', '0.01774']\n",
      "['395.5958', '0.2474', '0.01838', '0.1973', '0.01765']\n",
      "['397.5304', '0.4777', '0.02404', '0.4595', '0.0225']\n",
      "['397.713', '0.5389', '0.02435', '0.4798', '0.02227']\n",
      "['398.4433', '0.5488', '0.02331', '0.5059', '0.02219']\n",
      "['398.5886', '0.6278', '0.02399', '0.551', '0.02245']\n",
      "['401.4381', '0.5191', '0.0271', '0.5045', '0.0238']\n",
      "['401.7566', '-0.007334', '-99', '0.5367', '0.02831']\n",
      "['402.4698', '0.4629', '0.02255', '0.488', '0.02193']\n",
      "['402.5029', '0.4887', '0.02295', '0.4528', '0.02187']\n",
      "['402.6851', '0.4696', '0.02463', '0.4368', '0.02215']\n",
      "['406.4399', '0.12', '0.01772', '0.1604', '0.01789']\n",
      "['408.4608', '-0.0406', '0.01887', '-0.04457', '0.0176']\n",
      "['409.4364', '-0.1169', '0.01681', '-0.09093', '0.01622']\n",
      "['409.5539', '-0.1682', '0.04371', '-0.1157', '0.03258']\n",
      "['411.486', '-0.2351', '0.0121', '-0.1928', '0.01244']\n",
      "['412.5629', '-0.2518', '0.01472', '-0.2376', '0.0136']\n",
      "['413.6426', '-0.2566', '0.01831', '-0.2786', '0.01617']\n",
      "['414.4222', '-0.223', '-0.01343', '-0.239', '0.01275']\n",
      "['414.6533', '-0.1961', '0.01347', '-0.2542', '0.01213']\n",
      "['417.4818', '0.02612', '0.0172', '-0.07402', '0.01552']\n",
      "['417.6842', '0.03371', '0.02101', '-0.06632', '0.01777']\n",
      "['418.6203', '0.1117', '0.02048', '-0.02501', '0.01739']\n",
      "['419.4413', '0.2089', '0.01913', '0.08993', '0.01724']\n",
      "['420.4388', '0.3183', '0.01943', '0.1918', '0.01756']\n",
      "['420.5401', '0.3366', '0.02115', '0.1984', '-0.01847']\n",
      "['421.6039', '0.3354', '0.02714', '0.2759', '0.02428']\n",
      "['422.4231', '0.3983', '0.02105', '0.3596', '0.02046']\n",
      "['422.5291', '0.4322', '0.02156', '0.3658', '0.02013']\n",
      "['423.5797', '0.4269', '-0.03734', '0.3977', '-0.03234']\n",
      "['424.4889', '0.471', '0.02893', '0.4743', '0.0263']\n",
      "['425.4192', '0.4602', '0.0231', '0.4894', '0.02296']\n",
      "['425.5226', '0.4602', '0.02251', '0.4568', '0.02193']\n",
      "['426.4189', '0.4335', '0.02268', '0.4703', '0.02213']\n",
      "['426.5605', '0.4243', '0.02253', '0.4488', '0.02292']\n",
      "['427.5826', '0.3256', '0.02364', '0.3989', '0.02344']\n",
      "['428.4154', '0.2847', '0.0209', '0.3521', '0.02084']\n",
      "['430.5249', '-0.007334', '-99', '0.1308', '0.01954']\n",
      "['432.6515', '-0.1894', '0.02058', '-0.03927', '0.01714']\n",
      "['435.4065', '-0.4644', '0.01125', '-0.3242', '0.01168']\n",
      "['436.4164', '-0.5433', '0.009282', '-0.4125', '0.01015']\n",
      "['437.3997', '-0.5975', '0.008455', '-0.493', '0.008761']\n",
      "['437.5267', '-0.5574', '0.07973', '-0.428', '0.05746']\n",
      "['437.6433', '-0.5835', '0.0129', '-0.5145', '0.0102']\n",
      "['438.4022', '-0.6142', '0.007843', '-0.5073', '0.008257']\n",
      "['438.5828', '-0.6045', '0.01004', '-0.5131', '0.008969']\n",
      "['439.4002', '-0.5484', '0.0098', '-0.4482', '0.009843']\n",
      "['441.4994', '-0.2953', '0.01257', '-0.2759', '0.01146']\n",
      "['441.6364', '-0.2776', '0.01421', '-0.2651', '0.01231']\n",
      "['442.4337', '-0.1961', '0.01308', '-0.1724', '0.01276']\n",
      "['442.6195', '-0.1636', '0.01361', '-0.1785', '0.01266']\n",
      "['443.5042', '-0.0753', '0.01598', '-0.08757', '0.01444']\n",
      "['444.3941', '0.05099', '0.01936', '0.004152', '0.01735']\n",
      "['444.5359', '0.08243', '0.01931', '0.02849', '0.01724']\n",
      "['445.4512', '0.228', '0.01848', '0.1657', '0.01718']\n",
      "['446.405', '0.3268', '0.02045', '0.3032', '0.01921']\n",
      "['446.556', '0.3791', '0.02076', '0.3286', '0.01923']\n",
      "['451.3908', '0.4832', '0.02347', '0.4921', '0.02246']\n",
      "['451.5277', '0.515', '0.02702', '0.499', '0.0259']\n",
      "['452.382', '0.4615', '0.02449', '0.4555', '0.02303']\n",
      "['452.6425', '0.4629', '0.02784', '0.4474', '0.02501']\n",
      "['453.4326', '0.3753', '0.02238', '0.4041', '0.02113']\n",
      "['453.5773', '0.3932', '0.02408', '0.39', '0.02142']\n",
      "['454.4226', '0.299', '0.02177', '0.3116', '0.02075']\n",
      "['455.6689', '0.2717', '0.02671', '0.263', '0.02253']\n",
      "['457.4886', '0.06365', '0.01731', '0.08993', '0.0164']\n",
      "['459.438', '-0.07615', '0.02346', '-0.07061', '0.01828']\n",
      "['460.3781', '-0.1879', '0.02854', '-0.1278', '0.02148']\n",
      "['460.5019', '-0.1567', '0.03179', '-0.1157', '0.02111']\n",
      "['461.4197', '-0.1636', '0.01815', '-0.1671', '0.01534']\n",
      "['462.4048', '-0.2049', '0.01564', '-0.1965', '0.01433']\n",
      "['463.4119', '-0.1946', '0.01437', '-0.2177', '0.01311']\n",
      "['463.5302', '-0.2108', '0.01658', '-0.2119', '0.01452']\n",
      "['464.532', '-0.1582', '0.01501', '-0.214', '0.01317']\n",
      "['469.4035', '0.2179', '0.02172', '0.1277', '0.01949']\n",
      "['470.3718', '0.28', '0.01973', '0.1951', '0.01799']\n",
      "['472.372', '0.3219', '0.02151', '0.3274', '0.02046']\n",
      "['473.3751', '0.3564', '0.02146', '0.3658', '0.02056']\n",
      "['473.4812', '0.3627', '0.02051', '0.3658', '0.02013']\n",
      "['474.3769', '0.3842', '0.02083', '0.4145', '0.02085']\n",
      "['474.5043', '0.3957', '0.02101', '0.3977', '0.0206']\n",
      "['475.3844', '0.3893', '0.02048', '0.4355', '0.02116']\n",
      "['475.4771', '0.3983', '0.02155', '0.4421', '0.02171']\n",
      "['476.3645', '0.3602', '0.02047', '0.4289', '0.02106']\n",
      "['476.4659', '0.369', '0.02166', '0.4236', '0.02194']\n",
      "['477.362', '0.3329', '0.02109', '0.3887', '0.02047']\n",
      "['477.4651', '0.3207', '0.01988', '0.3823', '0.02037']\n",
      "['478.3772', '0.2451', '0.01874', '0.3335', '0.01965']\n",
      "['480.3733', '0.0617', '0.01727', '0.1572', '0.01784']\n",
      "['480.4746', '0.04906', '0.01617', '0.169', '0.01723']\n",
      "['481.5282', '-0.04852', '0.01594', '0.06512', '0.01642']\n",
      "['483.4546', '-0.2802', '0.01562', '-0.1539', '0.01509']\n",
      "['483.5582', '-0.2907', '0.0149', '-0.1555', '0.01459']\n",
      "['484.3706', '-0.3737', '-0.0105', '-0.239', '0.01204']\n",
      "['484.525', '-0.3632', '0.01382', '-0.239', '0.01315']\n",
      "['485.3768', '-0.457', '0.01141', '-0.3304', '0.01157']\n",
      "['486.4098', '-0.5192', '0.01569', '-0.4087', '0.01283']\n",
      "['488.4375', '-0.5429', '0.02402', '-0.44', '0.01689']\n",
      "['489.3818', '-0.456', '0.01143', '-0.3961', '0.01044']\n",
      "['491.3675', '-0.2715', '0.01433', '-0.2508', '0.0138']\n",
      "['492.528', '-0.1022', '0.01825', '-0.1539', '0.01509']\n",
      "['494.3704', '0.1005', '0.01844', '0.03133', '0.01678']\n",
      "['495.3521', '-0.007334', '-99', '0.1582', '0.01941']\n",
      "['497.3512', '0.4048', '0.02286', '0.3861', '0.02086']\n",
      "['499.3788', '0.4468', '0.03039', '0.4703', '0.02892']\n",
      "['500.3589', '0.5011', '0.02375', '0.4635', '0.02256']\n",
      "['501.358', '0.4642', '0.02257', '0.4528', '0.02187']\n",
      "['502.3934', '0.4112', '0.02124', '0.4236', '0.02098']\n",
      "['503.3527', '0.3207', '0.02089', '0.3286', '0.02']\n",
      "['504.3569', '0.2156', '0.01923', '0.2759', '0.0192']\n",
      "['504.8163', '0.1535', '0.02195', '0.2331', '0.02131']\n",
      "['507.3967', '-0.05027', '0.02485', '-0.00597', '0.023']\n",
      "['508.4951', '-0.1266', '0.02492', '-0.06546', '0.02162']\n",
      "['509.48', '-0.1939', '0.02172', '-0.1366', '0.01935']\n",
      "['510.416', '-0.2302', '0.0133', '-0.1732', '0.01308']\n",
      "['511.3531', '-0.2749', '-0.01215', '-0.2291', '0.0122']\n",
      "['511.8122', '-0.2953', '0.01298', '-0.2383', '0.01205']\n",
      "['512.3419', '-0.2881', '0.01158', '-0.2624', '0.01167']\n",
      "['515.4044', '-0.202', '0.02088', '-0.2563', '0.01614']\n",
      "['517.3567', '0.1858', '0.03289', '-0.001382', '0.02459']\n",
      "['517.7624', '0.3403', '-0.03301', '0.02188', '0.02364']\n",
      "['518.771', '0.2682', '-0.03619', '0.1236', '0.02518']\n",
      "['519.7548', '-0.003677', '-0.06036', '0.155', '-0.03113']\n",
      "['520.3519', '0.406', '0.02288', '0.2445', '0.01918']\n",
      "['520.7558', '0.5502', '-0.03474', '0.2491', '0.02539']\n",
      "['521.3458', '0.4629', '0.02202', '0.3213', '0.01947']\n",
      "['522.3423', '0.4521', '-0.05974', '0.3861', '-0.05225']\n",
      "['522.7563', '1.082', '-0.1411', '0.4703', '-0.105']\n",
      "['523.3412', '0.529', '0.02642', '0.4839', '0.02414']\n",
      "['524.8136', '0.515', '0.02702', '0.5353', '0.02498']\n",
      "['527.8278', '0.2428', '-0.04685', '0.3684', '-0.04015']\n",
      "['528.757', '0.145', '-0.0704', '0.3189', '-0.06']\n",
      "['529.3408', '0.1706', '0.01962', '0.2665', '0.01952']\n",
      "['529.753', '0.0985', '0.01959', '0.2084', '0.01912']\n",
      "['530.3485', '0.03848', '0.01643', '0.155', '0.01738']\n",
      "['531.3421', '-0.1721', '0.02702', '0.04472', '0.02898']\n",
      "['532.3878', '-0.2749', '0.02366', '-0.1547', '0.02018']\n",
      "['533.3466', '-0.4144', '0.01487', '-0.3167', '0.01483']\n",
      "['533.8035', '-0.4335', '0.02184', '-0.3588', '0.02092']\n",
      "['534.3461', '-0.5667', '0.02086', '-0.4232', '0.02125']\n",
      "['538.3398', '-0.7223', '-0.04391', '-0.6894', '-0.03574']\n",
      "['538.7568', '-0.6991', '0.02366', '-0.614', '0.0196']\n",
      "['539.382', '-0.612', '0.01202', '-0.5617', '0.0108']\n",
      "['539.7298', '-0.5797', '0.02135', '-0.5181', '0.01899']\n",
      "['540.3441', '-0.4708', '0.01111', '-0.4472', '0.009861']\n",
      "['540.7508', '-0.4288', '0.0128', '-0.4016', '0.01216']\n",
      "['541.3425', '-0.3399', '0.01342', '-0.3298', '0.01235']\n",
      "['541.7375', '-0.3075', '0.01812', '-0.2878', '0.01596']\n",
      "['542.3935', '-0.1931', '0.01987', '-0.18', '0.01613']\n",
      "['542.715', '-0.1675', '0.02376', '-0.1524', '0.02088']\n",
      "['543.4146', '-0.1202', '0.07876', '0.1267', '0.05126']\n",
      "['544.8323', '0.219', '0.02246', '0.1466', '0.01981']\n",
      "['545.8076', '0.293', '0.01993', '0.302', '0.0196']\n",
      "['546.3419', '0.3868', '0.02913', '0.3759', '0.02535']\n",
      "['546.7535', '0.3829', '0.0225', '0.3823', '0.02131']\n",
      "['548.7339', '0.655', '-0.04723', '0.4408', '0.03229']\n",
      "['549.3392', '0.5248', '0.02555', '0.4921', '0.023']\n",
      "['553.3441', '0.2894', '0.023', '0.3311', '0.02231']\n",
      "['555.6757', '0.1631', '0.02364', '0.1984', '0.02138']\n",
      "['556.6965', '0.06267', '0.02232', '0.08793', '0.02004']\n",
      "['557.3459', '0.01111', '0.01924', '0.04665', '0.01809']\n",
      "['557.6644', '-0.01916', '0.01807', '0.01812', '0.01759']\n",
      "['558.3595', '-0.01644', '0.02807', '-0.04192', '0.02217']\n",
      "['558.8109', '-0.09967', '0.01465', '-0.04016', '0.01519']\n",
      "['559.7428', '-0.1682', '0.02508', '-0.1009', '0.02283']\n",
      "['559.831', '-0.1226', '0.01616', '-0.09677', '0.01611']\n",
      "['560.6437', '-0.169', '0.03275', '-0.164', '0.02658']\n",
      "['560.7698', '-0.1441', '0.01629', '-0.1398', '0.01585']\n",
      "['561.3563', '-0.1426', '0.01529', '-0.1366', '0.01492']\n",
      "['561.7139', '-0.1812', '0.02017', '-0.1793', '0.01781']\n",
      "['562.3528', '-0.1796', '0.01511', '-0.1686', '0.01437']\n",
      "['563.3439', '-0.1621', '0.01595', '-0.2205', '0.0139']\n",
      "['563.7478', '-0.1465', '0.02233', '-0.2212', '0.01859']\n",
      "['565.3679', '-0.05376', '0.01923', '-0.1724', '0.01575']\n",
      "['565.6329', '-0.09468', '0.01964', '-0.1778', '0.01671']\n",
      "['566.6413', '-0.02994', '0.01787', '-0.1254', '0.0156']\n",
      "['568.8152', '0.1117', '0.02335', '0.002304', '0.01971']\n",
      "['571.6551', '0.293', '0.02167', '0.2263', '0.01995']\n",
      "['571.8237', '0.2753', '0.02018', '0.2286', '0.01944']\n",
      "['572.605', '0.3428', '0.0232', '0.2829', '0.0203']\n",
      "['573.6393', '0.3195', '0.02431', '0.3323', '0.02233']\n",
      "['573.8315', '0.3292', '0.02163', '0.3372', '0.02176']\n",
      "['576.6665', '0.3465', '0.02648', '0.2912', '0.02231']\n",
      "['576.7971', '0.2485', '0.01975', '0.308', '0.02016']\n",
      "['577.8331', '0.1397', '-0.02894', '0.2241', '0.02656']\n",
      "['578.6018', '-0.4669', '-0.04143', '0.17', '0.02622']\n",
      "['578.822', '0.08743', '0.0194', '0.182', '0.01923']\n",
      "['578.8316', '0.1076', '0.02179', '0.2039', '0.02081']\n",
      "['580.6235', '-0.02096', '-0.02411', '0.04761', '0.01869']\n",
      "['580.8222', '-0.03883', '0.01714', '0.04954', '0.0166']\n",
      "['581.6221', '-0.07189', '-0.01949', '-0.01145', '0.01708']\n",
      "['584.8008', '-0.4515', '-0.0491', '-0.3249', '0.03789']\n",
      "['585.6108', '-0.4387', '0.02358', '-0.3564', '0.01889']\n",
      "['585.817', '-0.4469', '0.0124', '-0.3588', '0.0122']\n",
      "['586.5894', '-0.4747', '0.02025', '-0.4114', '0.01727']\n",
      "['586.8148', '-0.4979', '0.02461', '-0.4168', '0.02099']\n",
      "['587.6005', '-0.5161', '0.01824', '-0.4602', '0.01584']\n",
      "['587.8179', '-0.4946', '0.01061', '-0.4369', '0.01108']\n",
      "['588.6314', '-0.5066', '0.01253', '-0.428', '0.01163']\n",
      "['589.7524', '-0.5111', '-0.05134', '-0.439', '-0.0436']\n",
      "['591.7407', '-0.2057', '0.02725', '-0.2263', '0.0227']\n",
      "['592.5808', '-0.08378', '0.02838', '-0.1578', '0.02269']\n",
      "['592.7999', '-0.06244', '0.02169', '-0.1173', '0.01854']\n",
      "['593.5667', '-0.01099', '-0.03644', '-0.04808', '-0.03027']\n",
      "['593.7986', '0.1046', '0.02035', '0.02944', '0.01779']\n",
      "['594.5767', '0.2123', '0.02032', '0.1225', '0.01776']\n",
      "['595.5666', '0.2729', '0.02133', '0.2128', '0.01869']\n",
      "['595.8057', '0.3366', '0.02175', '0.2252', '0.01888']\n",
      "['596.5834', '0.1978', '-0.06615', '0.2388', '-0.0467']\n",
      "['597.6674', '-0.007334', '-99', '0.3201', '-0.09304']\n",
      "['597.7841', '0.4508', '0.02431', '0.3785', '0.02243']\n",
      "['597.8022', '0.4615', '0.02449', '0.3964', '0.02209']\n",
      "['598.5636', '0.5531', '0.0277', '0.4328', '0.02401']\n",
      "['599.5488', '0.4928', '0.02429', '0.4555', '0.02243']\n",
      "['600.5507', '0.4243', '0.02541', '0.4541', '0.02301']\n",
      "['601.5289', '0.4296', '0.02633', '0.4368', '0.02273']\n",
      "['601.8234', '0.3944', '0.02269', '0.3887', '0.0214']\n",
      "['602.7496', '0.2847', '0.0222', '0.314', '0.02079']\n",
      "['603.7822', '0.2348', '0.01954', '0.27', '0.01911']\n"
     ]
    }
   ],
   "source": [
    "# looking pretty good, but we also need to get rid of the newline character '\\n' at the end of each line.\n",
    "for i in range(len(indata)):\n",
    "    myline = indata[i][:-1].split(\"\\t\")   \n",
    "    print(myline)"
   ]
  },
  {
   "cell_type": "code",
   "execution_count": 72,
   "metadata": {},
   "outputs": [],
   "source": [
    "# nice! Now let's put that stuff into myarr. This means we also must convert to float.\n",
    "for i in range(len(indata)):\n",
    "    myline = indata[i].split(\"\\t\")   \n",
    "    inarr[i,:] = np.float64(myline) # convert the strings to floats"
   ]
  },
  {
   "cell_type": "code",
   "execution_count": 73,
   "metadata": {},
   "outputs": [
    {
     "name": "stdout",
     "output_type": "stream",
     "text": [
      "[205.7931 206.8021 209.823  210.8108 211.7849 212.6712 213.7561 218.7758\n",
      " 219.8242 220.776  226.7787 228.7733 232.6753 233.758  259.6066 261.618\n",
      " 261.6642 261.7043 261.7801 262.5851 264.6492 265.7041 269.7287 271.7101\n",
      " 272.6892 272.692  272.7019 272.7082 273.7376 278.7684 278.7747 283.5562\n",
      " 283.6081 284.5422 285.4272 285.5365 285.6634 286.5452 291.7264 292.5784\n",
      " 293.6626 295.6912 296.5012 297.477  300.6967 304.4445 305.4802 306.4279\n",
      " 306.663  307.4311 308.4151 308.6136 309.7462 310.4586 310.6732 312.524\n",
      " 314.5944 315.4567 316.4889 316.6468 318.5465 318.6713 324.5791 324.7026\n",
      " 325.6285 326.4835 341.6338 342.4685 342.607  342.7129 343.4633 343.5872\n",
      " 343.7243 344.6893 344.7082 344.7263 350.7406 351.5138 360.6562 360.6682\n",
      " 361.463  361.588  361.5927 361.5975 361.636  362.4929 362.6085 362.6512\n",
      " 362.7226 364.4764 364.6041 364.6543 365.4652 365.6597 366.5975 372.5016\n",
      " 373.4388 373.5526 373.6763 375.4404 375.5504 375.6682 377.4544 377.6339\n",
      " 378.4436 378.6355 379.4413 380.4798 380.6289 381.4331 383.4504 383.6344\n",
      " 384.4443 384.6121 387.5243 387.6142 388.5296 388.6131 391.619  391.7521\n",
      " 392.4391 392.5699 393.4424 393.6028 395.477  395.5958 397.5304 397.713\n",
      " 398.4433 398.5886 401.4381 401.7566 402.4698 402.5029 402.6851 406.4399\n",
      " 408.4608 409.4364 409.5539 411.486  412.5629 413.6426 414.4222 414.6533\n",
      " 417.4818 417.6842 418.6203 419.4413 420.4388 420.5401 421.6039 422.4231\n",
      " 422.5291 423.5797 424.4889 425.4192 425.5226 426.4189 426.5605 427.5826\n",
      " 428.4154 430.5249 432.6515 435.4065 436.4164 437.3997 437.5267 437.6433\n",
      " 438.4022 438.5828 439.4002 441.4994 441.6364 442.4337 442.6195 443.5042\n",
      " 444.3941 444.5359 445.4512 446.405  446.556  451.3908 451.5277 452.382\n",
      " 452.6425 453.4326 453.5773 454.4226 455.6689 457.4886 459.438  460.3781\n",
      " 460.5019 461.4197 462.4048 463.4119 463.5302 464.532  469.4035 470.3718\n",
      " 472.372  473.3751 473.4812 474.3769 474.5043 475.3844 475.4771 476.3645\n",
      " 476.4659 477.362  477.4651 478.3772 480.3733 480.4746 481.5282 483.4546\n",
      " 483.5582 484.3706 484.525  485.3768 486.4098 488.4375 489.3818 491.3675\n",
      " 492.528  494.3704 495.3521 497.3512 499.3788 500.3589 501.358  502.3934\n",
      " 503.3527 504.3569 504.8163 507.3967 508.4951 509.48   510.416  511.3531\n",
      " 511.8122 512.3419 515.4044 517.3567 517.7624 518.771  519.7548 520.3519\n",
      " 520.7558 521.3458 522.3423 522.7563 523.3412 524.8136 527.8278 528.757\n",
      " 529.3408 529.753  530.3485 531.3421 532.3878 533.3466 533.8035 534.3461\n",
      " 538.3398 538.7568 539.382  539.7298 540.3441 540.7508 541.3425 541.7375\n",
      " 542.3935 542.715  543.4146 544.8323 545.8076 546.3419 546.7535 548.7339\n",
      " 549.3392 553.3441 555.6757 556.6965 557.3459 557.6644 558.3595 558.8109\n",
      " 559.7428 559.831  560.6437 560.7698 561.3563 561.7139 562.3528 563.3439\n",
      " 563.7478 565.3679 565.6329 566.6413 568.8152 571.6551 571.8237 572.605\n",
      " 573.6393 573.8315 576.6665 576.7971 577.8331 578.6018 578.822  578.8316\n",
      " 580.6235 580.8222 581.6221 584.8008 585.6108 585.817  586.5894 586.8148\n",
      " 587.6005 587.8179 588.6314 589.7524 591.7407 592.5808 592.7999 593.5667\n",
      " 593.7986 594.5767 595.5666 595.8057 596.5834 597.6674 597.7841 597.8022\n",
      " 598.5636 599.5488 600.5507 601.5289 601.8234 602.7496 603.7822]\n"
     ]
    }
   ],
   "source": [
    "# sweet! Now let's look at all the times, for example:\n",
    "print(inarr[:,0])"
   ]
  },
  {
   "cell_type": "markdown",
   "metadata": {},
   "source": [
    "### 2.3.2 Reading a file the easier way with numpy.loadtxt()\n",
    "\n",
    "numpy.loadtxt() is a NumPy function that lets you **read nicely formatted data in text files**. It can't deal well\n",
    "with data that mixes numbers with text, but it's possible to exclude some text lines. numpy.genfromtxt() offers similar functionality, but is slightly more flexible and more complicated to use.\n",
    "\n",
    "For our Cepheid example:\n"
   ]
  },
  {
   "cell_type": "code",
   "execution_count": 74,
   "metadata": {},
   "outputs": [
    {
     "ename": "ValueError",
     "evalue": "could not convert string to float: 'Time'",
     "output_type": "error",
     "traceback": [
      "\u001b[0;31m---------------------------------------------------------------------------\u001b[0m",
      "\u001b[0;31mValueError\u001b[0m                                Traceback (most recent call last)",
      "\u001b[0;32m<ipython-input-74-d808955af794>\u001b[0m in \u001b[0;36m<module>\u001b[0;34m\u001b[0m\n\u001b[0;32m----> 1\u001b[0;31m \u001b[0mindata\u001b[0m \u001b[0;34m=\u001b[0m \u001b[0mnp\u001b[0m\u001b[0;34m.\u001b[0m\u001b[0mloadtxt\u001b[0m\u001b[0;34m(\u001b[0m\u001b[0;34m\"ceph2.txt\"\u001b[0m\u001b[0;34m)\u001b[0m\u001b[0;34m\u001b[0m\u001b[0;34m\u001b[0m\u001b[0m\n\u001b[0m",
      "\u001b[0;32m~/anaconda3/lib/python3.7/site-packages/numpy/lib/npyio.py\u001b[0m in \u001b[0;36mloadtxt\u001b[0;34m(fname, dtype, comments, delimiter, converters, skiprows, usecols, unpack, ndmin, encoding, max_rows)\u001b[0m\n\u001b[1;32m   1132\u001b[0m         \u001b[0;31m# converting the data\u001b[0m\u001b[0;34m\u001b[0m\u001b[0;34m\u001b[0m\u001b[0;34m\u001b[0m\u001b[0m\n\u001b[1;32m   1133\u001b[0m         \u001b[0mX\u001b[0m \u001b[0;34m=\u001b[0m \u001b[0;32mNone\u001b[0m\u001b[0;34m\u001b[0m\u001b[0;34m\u001b[0m\u001b[0m\n\u001b[0;32m-> 1134\u001b[0;31m         \u001b[0;32mfor\u001b[0m \u001b[0mx\u001b[0m \u001b[0;32min\u001b[0m \u001b[0mread_data\u001b[0m\u001b[0;34m(\u001b[0m\u001b[0m_loadtxt_chunksize\u001b[0m\u001b[0;34m)\u001b[0m\u001b[0;34m:\u001b[0m\u001b[0;34m\u001b[0m\u001b[0;34m\u001b[0m\u001b[0m\n\u001b[0m\u001b[1;32m   1135\u001b[0m             \u001b[0;32mif\u001b[0m \u001b[0mX\u001b[0m \u001b[0;32mis\u001b[0m \u001b[0;32mNone\u001b[0m\u001b[0;34m:\u001b[0m\u001b[0;34m\u001b[0m\u001b[0;34m\u001b[0m\u001b[0m\n\u001b[1;32m   1136\u001b[0m                 \u001b[0mX\u001b[0m \u001b[0;34m=\u001b[0m \u001b[0mnp\u001b[0m\u001b[0;34m.\u001b[0m\u001b[0marray\u001b[0m\u001b[0;34m(\u001b[0m\u001b[0mx\u001b[0m\u001b[0;34m,\u001b[0m \u001b[0mdtype\u001b[0m\u001b[0;34m)\u001b[0m\u001b[0;34m\u001b[0m\u001b[0;34m\u001b[0m\u001b[0m\n",
      "\u001b[0;32m~/anaconda3/lib/python3.7/site-packages/numpy/lib/npyio.py\u001b[0m in \u001b[0;36mread_data\u001b[0;34m(chunk_size)\u001b[0m\n\u001b[1;32m   1059\u001b[0m \u001b[0;34m\u001b[0m\u001b[0m\n\u001b[1;32m   1060\u001b[0m             \u001b[0;31m# Convert each value according to its column and store\u001b[0m\u001b[0;34m\u001b[0m\u001b[0;34m\u001b[0m\u001b[0;34m\u001b[0m\u001b[0m\n\u001b[0;32m-> 1061\u001b[0;31m             \u001b[0mitems\u001b[0m \u001b[0;34m=\u001b[0m \u001b[0;34m[\u001b[0m\u001b[0mconv\u001b[0m\u001b[0;34m(\u001b[0m\u001b[0mval\u001b[0m\u001b[0;34m)\u001b[0m \u001b[0;32mfor\u001b[0m \u001b[0;34m(\u001b[0m\u001b[0mconv\u001b[0m\u001b[0;34m,\u001b[0m \u001b[0mval\u001b[0m\u001b[0;34m)\u001b[0m \u001b[0;32min\u001b[0m \u001b[0mzip\u001b[0m\u001b[0;34m(\u001b[0m\u001b[0mconverters\u001b[0m\u001b[0;34m,\u001b[0m \u001b[0mvals\u001b[0m\u001b[0;34m)\u001b[0m\u001b[0;34m]\u001b[0m\u001b[0;34m\u001b[0m\u001b[0;34m\u001b[0m\u001b[0m\n\u001b[0m\u001b[1;32m   1062\u001b[0m \u001b[0;34m\u001b[0m\u001b[0m\n\u001b[1;32m   1063\u001b[0m             \u001b[0;31m# Then pack it according to the dtype's nesting\u001b[0m\u001b[0;34m\u001b[0m\u001b[0;34m\u001b[0m\u001b[0;34m\u001b[0m\u001b[0m\n",
      "\u001b[0;32m~/anaconda3/lib/python3.7/site-packages/numpy/lib/npyio.py\u001b[0m in \u001b[0;36m<listcomp>\u001b[0;34m(.0)\u001b[0m\n\u001b[1;32m   1059\u001b[0m \u001b[0;34m\u001b[0m\u001b[0m\n\u001b[1;32m   1060\u001b[0m             \u001b[0;31m# Convert each value according to its column and store\u001b[0m\u001b[0;34m\u001b[0m\u001b[0;34m\u001b[0m\u001b[0;34m\u001b[0m\u001b[0m\n\u001b[0;32m-> 1061\u001b[0;31m             \u001b[0mitems\u001b[0m \u001b[0;34m=\u001b[0m \u001b[0;34m[\u001b[0m\u001b[0mconv\u001b[0m\u001b[0;34m(\u001b[0m\u001b[0mval\u001b[0m\u001b[0;34m)\u001b[0m \u001b[0;32mfor\u001b[0m \u001b[0;34m(\u001b[0m\u001b[0mconv\u001b[0m\u001b[0;34m,\u001b[0m \u001b[0mval\u001b[0m\u001b[0;34m)\u001b[0m \u001b[0;32min\u001b[0m \u001b[0mzip\u001b[0m\u001b[0;34m(\u001b[0m\u001b[0mconverters\u001b[0m\u001b[0;34m,\u001b[0m \u001b[0mvals\u001b[0m\u001b[0;34m)\u001b[0m\u001b[0;34m]\u001b[0m\u001b[0;34m\u001b[0m\u001b[0;34m\u001b[0m\u001b[0m\n\u001b[0m\u001b[1;32m   1062\u001b[0m \u001b[0;34m\u001b[0m\u001b[0m\n\u001b[1;32m   1063\u001b[0m             \u001b[0;31m# Then pack it according to the dtype's nesting\u001b[0m\u001b[0;34m\u001b[0m\u001b[0;34m\u001b[0m\u001b[0;34m\u001b[0m\u001b[0m\n",
      "\u001b[0;32m~/anaconda3/lib/python3.7/site-packages/numpy/lib/npyio.py\u001b[0m in \u001b[0;36mfloatconv\u001b[0;34m(x)\u001b[0m\n\u001b[1;32m    766\u001b[0m         \u001b[0;32mif\u001b[0m \u001b[0;34m'0x'\u001b[0m \u001b[0;32min\u001b[0m \u001b[0mx\u001b[0m\u001b[0;34m:\u001b[0m\u001b[0;34m\u001b[0m\u001b[0;34m\u001b[0m\u001b[0m\n\u001b[1;32m    767\u001b[0m             \u001b[0;32mreturn\u001b[0m \u001b[0mfloat\u001b[0m\u001b[0;34m.\u001b[0m\u001b[0mfromhex\u001b[0m\u001b[0;34m(\u001b[0m\u001b[0mx\u001b[0m\u001b[0;34m)\u001b[0m\u001b[0;34m\u001b[0m\u001b[0;34m\u001b[0m\u001b[0m\n\u001b[0;32m--> 768\u001b[0;31m         \u001b[0;32mreturn\u001b[0m \u001b[0mfloat\u001b[0m\u001b[0;34m(\u001b[0m\u001b[0mx\u001b[0m\u001b[0;34m)\u001b[0m\u001b[0;34m\u001b[0m\u001b[0;34m\u001b[0m\u001b[0m\n\u001b[0m\u001b[1;32m    769\u001b[0m \u001b[0;34m\u001b[0m\u001b[0m\n\u001b[1;32m    770\u001b[0m     \u001b[0mtyp\u001b[0m \u001b[0;34m=\u001b[0m \u001b[0mdtype\u001b[0m\u001b[0;34m.\u001b[0m\u001b[0mtype\u001b[0m\u001b[0;34m\u001b[0m\u001b[0;34m\u001b[0m\u001b[0m\n",
      "\u001b[0;31mValueError\u001b[0m: could not convert string to float: 'Time'"
     ]
    }
   ],
   "source": [
    "indata = np.loadtxt(\"ceph2.txt\")"
   ]
  },
  {
   "cell_type": "code",
   "execution_count": 75,
   "metadata": {},
   "outputs": [],
   "source": [
    "# This didn't work, because the first two rows contain text.\n",
    "# We can get around this!\n",
    "indata = np.loadtxt(\"ceph2.txt\",skiprows=2)\n",
    "# if there were marked comments in the file, we could also do this:\n",
    "indata = np.loadtxt(\"ceph2.txt\",skiprows=2,comments=\"#\")"
   ]
  },
  {
   "cell_type": "code",
   "execution_count": 76,
   "metadata": {},
   "outputs": [
    {
     "data": {
      "text/plain": [
       "numpy.ndarray"
      ]
     },
     "execution_count": 76,
     "metadata": {},
     "output_type": "execute_result"
    }
   ],
   "source": [
    "# the beauty of this is that indata is already a numpy array of floats. It's beautiful!\n",
    "type(indata)"
   ]
  },
  {
   "cell_type": "code",
   "execution_count": 26,
   "metadata": {},
   "outputs": [
    {
     "data": {
      "text/plain": [
       "dtype('float64')"
      ]
     },
     "execution_count": 26,
     "metadata": {},
     "output_type": "execute_result"
    }
   ],
   "source": [
    "indata.dtype"
   ]
  },
  {
   "cell_type": "code",
   "execution_count": 77,
   "metadata": {},
   "outputs": [
    {
     "name": "stdout",
     "output_type": "stream",
     "text": [
      "[205.7931 206.8021 209.823  210.8108 211.7849 212.6712 213.7561 218.7758\n",
      " 219.8242 220.776  226.7787 228.7733 232.6753 233.758  259.6066 261.618\n",
      " 261.6642 261.7043 261.7801 262.5851 264.6492 265.7041 269.7287 271.7101\n",
      " 272.6892 272.692  272.7019 272.7082 273.7376 278.7684 278.7747 283.5562\n",
      " 283.6081 284.5422 285.4272 285.5365 285.6634 286.5452 291.7264 292.5784\n",
      " 293.6626 295.6912 296.5012 297.477  300.6967 304.4445 305.4802 306.4279\n",
      " 306.663  307.4311 308.4151 308.6136 309.7462 310.4586 310.6732 312.524\n",
      " 314.5944 315.4567 316.4889 316.6468 318.5465 318.6713 324.5791 324.7026\n",
      " 325.6285 326.4835 341.6338 342.4685 342.607  342.7129 343.4633 343.5872\n",
      " 343.7243 344.6893 344.7082 344.7263 350.7406 351.5138 360.6562 360.6682\n",
      " 361.463  361.588  361.5927 361.5975 361.636  362.4929 362.6085 362.6512\n",
      " 362.7226 364.4764 364.6041 364.6543 365.4652 365.6597 366.5975 372.5016\n",
      " 373.4388 373.5526 373.6763 375.4404 375.5504 375.6682 377.4544 377.6339\n",
      " 378.4436 378.6355 379.4413 380.4798 380.6289 381.4331 383.4504 383.6344\n",
      " 384.4443 384.6121 387.5243 387.6142 388.5296 388.6131 391.619  391.7521\n",
      " 392.4391 392.5699 393.4424 393.6028 395.477  395.5958 397.5304 397.713\n",
      " 398.4433 398.5886 401.4381 401.7566 402.4698 402.5029 402.6851 406.4399\n",
      " 408.4608 409.4364 409.5539 411.486  412.5629 413.6426 414.4222 414.6533\n",
      " 417.4818 417.6842 418.6203 419.4413 420.4388 420.5401 421.6039 422.4231\n",
      " 422.5291 423.5797 424.4889 425.4192 425.5226 426.4189 426.5605 427.5826\n",
      " 428.4154 430.5249 432.6515 435.4065 436.4164 437.3997 437.5267 437.6433\n",
      " 438.4022 438.5828 439.4002 441.4994 441.6364 442.4337 442.6195 443.5042\n",
      " 444.3941 444.5359 445.4512 446.405  446.556  451.3908 451.5277 452.382\n",
      " 452.6425 453.4326 453.5773 454.4226 455.6689 457.4886 459.438  460.3781\n",
      " 460.5019 461.4197 462.4048 463.4119 463.5302 464.532  469.4035 470.3718\n",
      " 472.372  473.3751 473.4812 474.3769 474.5043 475.3844 475.4771 476.3645\n",
      " 476.4659 477.362  477.4651 478.3772 480.3733 480.4746 481.5282 483.4546\n",
      " 483.5582 484.3706 484.525  485.3768 486.4098 488.4375 489.3818 491.3675\n",
      " 492.528  494.3704 495.3521 497.3512 499.3788 500.3589 501.358  502.3934\n",
      " 503.3527 504.3569 504.8163 507.3967 508.4951 509.48   510.416  511.3531\n",
      " 511.8122 512.3419 515.4044 517.3567 517.7624 518.771  519.7548 520.3519\n",
      " 520.7558 521.3458 522.3423 522.7563 523.3412 524.8136 527.8278 528.757\n",
      " 529.3408 529.753  530.3485 531.3421 532.3878 533.3466 533.8035 534.3461\n",
      " 538.3398 538.7568 539.382  539.7298 540.3441 540.7508 541.3425 541.7375\n",
      " 542.3935 542.715  543.4146 544.8323 545.8076 546.3419 546.7535 548.7339\n",
      " 549.3392 553.3441 555.6757 556.6965 557.3459 557.6644 558.3595 558.8109\n",
      " 559.7428 559.831  560.6437 560.7698 561.3563 561.7139 562.3528 563.3439\n",
      " 563.7478 565.3679 565.6329 566.6413 568.8152 571.6551 571.8237 572.605\n",
      " 573.6393 573.8315 576.6665 576.7971 577.8331 578.6018 578.822  578.8316\n",
      " 580.6235 580.8222 581.6221 584.8008 585.6108 585.817  586.5894 586.8148\n",
      " 587.6005 587.8179 588.6314 589.7524 591.7407 592.5808 592.7999 593.5667\n",
      " 593.7986 594.5767 595.5666 595.8057 596.5834 597.6674 597.7841 597.8022\n",
      " 598.5636 599.5488 600.5507 601.5289 601.8234 602.7496 603.7822]\n"
     ]
    }
   ],
   "source": [
    "print(indata[:,0])"
   ]
  },
  {
   "cell_type": "markdown",
   "metadata": {},
   "source": [
    "### 2.3.3 Quick Aside: Writing data to a text file the easy way"
   ]
  },
  {
   "cell_type": "code",
   "execution_count": 78,
   "metadata": {},
   "outputs": [],
   "source": [
    "# for this, we'll just give the plain Python example:\n",
    "outfile = open(\"outfile.txt\",\"w\")\n",
    "outfile.write(\"# Cepheid data, cleaned up \\n\")\n",
    "outfile.write(\"# time, Blue, BlueSD, Red, RedSD\\n\")\n",
    "\n",
    "for i in range(len(indata)):\n",
    "    outline = \"%8.4f %9.4f %9.4f %9.4f %9.4f\\n\" % (indata[i,0], \n",
    "                                            indata[i,1], \n",
    "                                            indata[i,2], \n",
    "                                            indata[i,3],\n",
    "                                            indata[i,4])\n",
    "    outfile.write(outline)\n",
    "\n",
    "outfile.close()"
   ]
  },
  {
   "cell_type": "code",
   "execution_count": 79,
   "metadata": {},
   "outputs": [
    {
     "name": "stdout",
     "output_type": "stream",
     "text": [
      "# Cepheid data, cleaned up \r\n",
      "# time, Blue, BlueSD, Red, RedSD\r\n",
      "205.7931    0.2359    0.0286    0.2853    0.0270\r\n",
      "206.8021    0.1545    0.0213    0.2050    0.0215\r\n",
      "209.8230   -0.0930    0.0178   -0.0490    0.0181\r\n",
      "210.8108   -0.1567    0.0241   -0.0867    0.0218\r\n",
      "211.7849   -0.2108    0.0150   -0.1717    0.0148\r\n",
      "212.6712   -0.1954    0.0296   -0.1785    0.0255\r\n",
      "213.7561   -0.3363    0.0244   -0.2460    0.0215\r\n",
      "218.7758    0.0844    0.0206   -0.0366    0.0190\r\n",
      "219.8242    0.1792    0.0248    0.0266    0.0202\r\n",
      "220.7760    0.2601    0.0273    0.1041    0.0232\r\n",
      "226.7787    0.3539    0.0258    0.3848    0.0232\r\n",
      "228.7733   -0.0073  -99.0000    0.3152    0.0276\r\n",
      "232.6753   -0.1112   -0.0149    0.0111  -99.0000\r\n",
      "233.7580   -0.2601    0.0141    0.0111  -99.0000\r\n",
      "259.6066   -0.1721    0.0139   -0.0984    0.0151\r\n",
      "261.6180   -0.2756    0.0162   -0.2038    0.0162\r\n",
      "261.6642   -0.3189   -0.0143   -0.2432    0.0154\r\n",
      "261.7043   -0.2742    0.0147   -0.2404    0.0160\r\n",
      "261.7801   -0.2921    0.0191   -0.2198    0.0181\r\n",
      "262.5851   -0.3107    0.0123   -0.2752    0.0134\r\n",
      "264.6492   -0.3350    0.0211   -0.3008    0.0188\r\n",
      "265.7041   -0.2216   -0.0148   -0.2719    0.0139\r\n",
      "269.7287    0.3403    0.0212    0.1754    0.0191\r\n"
     ]
    }
   ],
   "source": [
    "!head -n 25 outfile.txt"
   ]
  },
  {
   "cell_type": "markdown",
   "metadata": {},
   "source": [
    "## 2.4 Getting started with making plots with matplotlib\n",
    "\n",
    "Matplotlib is the primary Python plotting package. It is excellent for simple line plots and 2D color maps. For 3D visualization, other packages must me used, e.g., yt.\n",
    "\n",
    "Matplotlib documentation is available at https://matplotlib.org/ .\n",
    "\n",
    "The example at https://matplotlib.org/gallery.html are extremly useful!\n",
    "\n",
    "\n",
    "![]("
   ]
  },
  {
   "cell_type": "code",
   "execution_count": 80,
   "metadata": {},
   "outputs": [],
   "source": [
    "# first we need to have this ominous command -- it allows matplotlib to produce plots right in our notebook.\n",
    "%matplotlib inline\n",
    "import matplotlib.pyplot as pl"
   ]
  },
  {
   "cell_type": "markdown",
   "metadata": {},
   "source": [
    "### 2.4.1 A simple plot of a linear function: plotting and saving to file"
   ]
  },
  {
   "cell_type": "code",
   "execution_count": 81,
   "metadata": {},
   "outputs": [
    {
     "data": {
      "text/plain": [
       "[<matplotlib.lines.Line2D at 0x7fbea90734e0>]"
      ]
     },
     "execution_count": 81,
     "metadata": {},
     "output_type": "execute_result"
    },
    {
     "data": {
      "image/png": "[encoded data removed]",
      "text/plain": [
       "<Figure size 432x288 with 1 Axes>"
      ]
     },
     "metadata": {
      "needs_background": "light"
     },
     "output_type": "display_data"
    }
   ],
   "source": [
    "# let's do something extremely simple:\n",
    "x = np.linspace(0,10,101)\n",
    "y = x\n",
    "pl.plot(x,y)"
   ]
  },
  {
   "cell_type": "code",
   "execution_count": 82,
   "metadata": {},
   "outputs": [
    {
     "data": {
      "text/plain": [
       "<Figure size 432x288 with 0 Axes>"
      ]
     },
     "metadata": {},
     "output_type": "display_data"
    }
   ],
   "source": [
    "# OMG! That was easy! Let's save the figure to disk!\n",
    "pl.savefig(\"myfirstplot.png\")"
   ]
  },
  {
   "cell_type": "code",
   "execution_count": 83,
   "metadata": {},
   "outputs": [
    {
     "data": {
      "image/png": "[encoded data removed]",
      "text/plain": [
       "<Figure size 432x288 with 1 Axes>"
      ]
     },
     "metadata": {
      "needs_background": "light"
     },
     "output_type": "display_data"
    }
   ],
   "source": [
    "# Plot is empty! That's not good? The problem is that plot command and save command have to be in the same execution box:\n",
    "pl.plot(x,y)\n",
    "pl.savefig(\"myfirstplot.png\")"
   ]
  },
  {
   "cell_type": "code",
   "execution_count": 84,
   "metadata": {},
   "outputs": [
    {
     "data": {
      "image/png": "[encoded data removed]",
      "text/plain": [
       "<Figure size 432x288 with 1 Axes>"
      ]
     },
     "metadata": {
      "needs_background": "light"
     },
     "output_type": "display_data"
    }
   ],
   "source": [
    "# what about pdf?\n",
    "pl.plot(x,y)\n",
    "pl.savefig(\"myfirstplot.pdf\")"
   ]
  },
  {
   "cell_type": "code",
   "execution_count": 85,
   "metadata": {},
   "outputs": [
    {
     "data": {
      "image/png": "[encoded data removed]",
      "text/plain": [
       "<Figure size 432x288 with 1 Axes>"
      ]
     },
     "metadata": {
      "needs_background": "light"
     },
     "output_type": "display_data"
    }
   ],
   "source": [
    "# what about eps?\n",
    "pl.plot(x,y)\n",
    "pl.savefig(\"myfirstplot.eps\")"
   ]
  },
  {
   "cell_type": "markdown",
   "metadata": {},
   "source": [
    "### 2.4.2 Plotting simple data from a file"
   ]
  },
  {
   "cell_type": "code",
   "execution_count": 36,
   "metadata": {},
   "outputs": [],
   "source": [
    "# let's use our Cepheid light curve data:\n",
    "indata = np.loadtxt(\"ceph2.txt\",skiprows=2,comments=\"#\")"
   ]
  },
  {
   "cell_type": "code",
   "execution_count": 86,
   "metadata": {},
   "outputs": [],
   "source": [
    "time = indata[:,0]\n",
    "blue = indata[:,1] # blue magnitude\n",
    "bluesd = indata[:,2] # blue magnitude standard deviation\n",
    "red = indata[:,3]\n",
    "redsd = indata[:,4]"
   ]
  },
  {
   "cell_type": "code",
   "execution_count": 87,
   "metadata": {},
   "outputs": [
    {
     "data": {
      "text/plain": [
       "[<matplotlib.lines.Line2D at 0x7fbea86276a0>]"
      ]
     },
     "execution_count": 87,
     "metadata": {},
     "output_type": "execute_result"
    },
    {
     "data": {
      "image/png": "[encoded data removed]",
      "text/plain": [
       "<Figure size 432x288 with 1 Axes>"
      ]
     },
     "metadata": {
      "needs_background": "light"
     },
     "output_type": "display_data"
    }
   ],
   "source": [
    "pl.plot(time,blue)"
   ]
  },
  {
   "cell_type": "code",
   "execution_count": 39,
   "metadata": {},
   "outputs": [
    {
     "data": {
      "text/plain": [
       "[<matplotlib.lines.Line2D at 0x7fbe5952ac18>]"
      ]
     },
     "execution_count": 39,
     "metadata": {},
     "output_type": "execute_result"
    },
    {
     "data": {
      "image/png": "[encoded data removed]",
      "text/plain": [
       "<Figure size 720x576 with 1 Axes>"
      ]
     },
     "metadata": {
      "needs_background": "light"
     },
     "output_type": "display_data"
    }
   ],
   "source": [
    "# let's make this a bit bigger\n",
    "myfig = pl.figure(figsize=(10,8))\n",
    "pl.plot(time,blue)"
   ]
  },
  {
   "cell_type": "code",
   "execution_count": 40,
   "metadata": {},
   "outputs": [
    {
     "data": {
      "text/plain": [
       "[<matplotlib.lines.Line2D at 0x7fbe594da940>]"
      ]
     },
     "execution_count": 40,
     "metadata": {},
     "output_type": "execute_result"
    },
    {
     "data": {
      "image/png": "[encoded data removed]",
      "text/plain": [
       "<Figure size 720x576 with 1 Axes>"
      ]
     },
     "metadata": {
      "needs_background": "light"
     },
     "output_type": "display_data"
    }
   ],
   "source": [
    "# perhaps not a great idea to plot these data with lines\n",
    "# let's try this\n",
    "myfig = pl.figure(figsize=(10,8))\n",
    "pl.plot(time,blue,\"+\")"
   ]
  },
  {
   "cell_type": "code",
   "execution_count": 41,
   "metadata": {},
   "outputs": [
    {
     "data": {
      "text/plain": [
       "[<matplotlib.lines.Line2D at 0x7fbe594c8630>]"
      ]
     },
     "execution_count": 41,
     "metadata": {},
     "output_type": "execute_result"
    },
    {
     "data": {
      "image/png": "[encoded data removed]",
      "text/plain": [
       "<Figure size 720x576 with 1 Axes>"
      ]
     },
     "metadata": {
      "needs_background": "light"
     },
     "output_type": "display_data"
    }
   ],
   "source": [
    "# note that using just \"+\" by itself is equivalent to saying marker=\"+\", linestyle=\"\":\n",
    "myfig = pl.figure(figsize=(10,8))\n",
    "pl.plot(time,blue,\"+\")"
   ]
  },
  {
   "cell_type": "code",
   "execution_count": 263,
   "metadata": {},
   "outputs": [
    {
     "data": {
      "text/plain": [
       "[<matplotlib.lines.Line2D at 0x117aabeb8>]"
      ]
     },
     "execution_count": 263,
     "metadata": {},
     "output_type": "execute_result"
    },
    {
     "data": {
      "image/png": "[encoded data removed]",
      "text/plain": [
       "<matplotlib.figure.Figure at 0x117f346d8>"
      ]
     },
     "metadata": {},
     "output_type": "display_data"
    }
   ],
   "source": [
    "# let's add the red data\n",
    "myfig = pl.figure(figsize=(10,8))\n",
    "pl.plot(time,blue,\"+\")\n",
    "pl.plot(time,red,\"+\",color=\"red\")"
   ]
  },
  {
   "cell_type": "code",
   "execution_count": 42,
   "metadata": {},
   "outputs": [
    {
     "data": {
      "text/plain": [
       "(200, 400)"
      ]
     },
     "execution_count": 42,
     "metadata": {},
     "output_type": "execute_result"
    },
    {
     "data": {
      "image/png": "[encoded data removed]",
      "text/plain": [
       "<Figure size 720x576 with 1 Axes>"
      ]
     },
     "metadata": {
      "needs_background": "light"
     },
     "output_type": "display_data"
    }
   ],
   "source": [
    "# limiting x and y ranges:\n",
    "# let's add the red data\n",
    "myfig = pl.figure(figsize=(10,8))\n",
    "pl.plot(time,blue,\"+\")\n",
    "pl.plot(time,red,\"+\",color=\"red\")\n",
    "pl.ylim(-0.8,0.8)\n",
    "pl.xlim(200,400)"
   ]
  },
  {
   "cell_type": "code",
   "execution_count": 276,
   "metadata": {},
   "outputs": [
    {
     "data": {
      "text/plain": [
       "<matplotlib.legend.Legend at 0x119c1ac50>"
      ]
     },
     "execution_count": 276,
     "metadata": {},
     "output_type": "execute_result"
    },
    {
     "data": {
      "image/png": "[encoded data removed]",
      "text/plain": [
       "<matplotlib.figure.Figure at 0x1199a9a58>"
      ]
     },
     "metadata": {},
     "output_type": "display_data"
    }
   ],
   "source": [
    "# adding a simple legend\n",
    "myfig = pl.figure(figsize=(10,8))\n",
    "pl.plot(time,blue,marker=\"+\",linestyle=\"\",label=\"blue\")\n",
    "pl.plot(time,red,marker=\"+\",linestyle=\"\",color=\"red\",label=\"red\")\n",
    "pl.ylim(-0.8,0.8)\n",
    "pl.xlim(200,400)\n",
    "pl.legend()"
   ]
  },
  {
   "cell_type": "markdown",
   "metadata": {},
   "source": [
    "### Final word of caution for this lecture: While simple plotting is easy, the plots created in this way are NOT publication quality! Next time, we will go over how to make publication-quality plots with matplotib ###"
   ]
  },
  {
   "cell_type": "code",
   "execution_count": null,
   "metadata": {
    "collapsed": true
   },
   "outputs": [],
   "source": []
  }
 ],
 "metadata": {
  "kernelspec": {
   "display_name": "Python 3",
   "language": "python",
   "name": "python3"
  },
  "language_info": {
   "codemirror_mode": {
    "name": "ipython",
    "version": 3
   },
   "file_extension": ".py",
   "mimetype": "text/x-python",
   "name": "python",
   "nbconvert_exporter": "python",
   "pygments_lexer": "ipython3",
   "version": "3.7.3"
  }
 },
 "nbformat": 4,
 "nbformat_minor": 1
}
